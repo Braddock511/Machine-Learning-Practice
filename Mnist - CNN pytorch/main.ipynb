{
 "cells": [
  {
   "cell_type": "code",
   "execution_count": 14,
   "metadata": {},
   "outputs": [
    {
     "data": {
      "text/plain": [
       "device(type='cuda')"
      ]
     },
     "execution_count": 14,
     "metadata": {},
     "output_type": "execute_result"
    }
   ],
   "source": [
    "import torch\n",
    "import torchvision.transforms  as T\n",
    "import torchvision.datasets as datasets\n",
    "from torch.utils.data import DataLoader, Dataset\n",
    "import torch.nn as nn\n",
    "import numpy as np\n",
    "import matplotlib.pyplot as plt\n",
    "import pandas as pd\n",
    "\n",
    "device = torch.device('cuda')\n",
    "device"
   ]
  },
  {
   "cell_type": "code",
   "execution_count": 2,
   "metadata": {},
   "outputs": [],
   "source": [
    "set = datasets.MNIST(root='./data', train=True, download=True, transform=T.ToTensor())\n",
    "loader = DataLoader(set, batch_size = 64, shuffle=False)"
   ]
  },
  {
   "cell_type": "code",
   "execution_count": 3,
   "metadata": {},
   "outputs": [
    {
     "name": "stdout",
     "output_type": "stream",
     "text": [
      "tensor(0.1307) tensor(0.3081)\n"
     ]
    }
   ],
   "source": [
    "def get_mean_std(loader):\n",
    "    channels_sum, channels_squares_sum = 0, 0\n",
    "    num_batches = len(loader)\n",
    "\n",
    "    for data, _ in loader:\n",
    "        channels_sum += torch.mean(data)\n",
    "        channels_squares_sum += torch.mean(data**2)\n",
    "\n",
    "    mean = channels_sum/num_batches\n",
    "    std  = np.sqrt((channels_squares_sum/num_batches - mean**2))\n",
    "\n",
    "    return mean, std\n",
    "\n",
    "mean, std = get_mean_std(loader)\n",
    "print(mean, std)"
   ]
  },
  {
   "cell_type": "code",
   "execution_count": 4,
   "metadata": {},
   "outputs": [],
   "source": [
    "trans = T.Compose([T.ToTensor(), T.Normalize(mean.item(), std.item())])\n",
    "\n",
    "trainset = datasets.MNIST(root='./data', train=True, download=True, transform=trans)\n",
    "train_loader = DataLoader(trainset, batch_size = 64, shuffle=False)\n",
    "\n",
    "testset = datasets.MNIST(root='./data', train=False, download=True, transform=trans)\n",
    "test_loader = DataLoader(testset, batch_size = 64, shuffle=False)"
   ]
  },
  {
   "cell_type": "code",
   "execution_count": 5,
   "metadata": {},
   "outputs": [],
   "source": [
    "class Net(nn.Module):\n",
    "    def __init__(self):\n",
    "        super().__init__()\n",
    "        self.features = nn.Sequential(\n",
    "            nn.Conv2d(1, 32, kernel_size=3, stride=1, padding=1),\n",
    "            nn.Dropout(0.2),\n",
    "            nn.BatchNorm2d(32),\n",
    "            nn.LeakyReLU(inplace=True),\n",
    "            nn.Conv2d(32, 32, kernel_size=3, stride=1, padding=1),\n",
    "            nn.Dropout(0.2),\n",
    "            nn.BatchNorm2d(32),\n",
    "            nn.LeakyReLU(inplace=True),\n",
    "            nn.MaxPool2d(kernel_size=2, stride=2),\n",
    "            nn.Conv2d(32, 64, kernel_size=3, padding=1),\n",
    "            nn.Dropout(0.2),\n",
    "            nn.BatchNorm2d(64),\n",
    "            nn.LeakyReLU(inplace=True),\n",
    "            nn.Conv2d(64, 64, kernel_size=3, padding=1),\n",
    "            nn.Dropout(0.2),\n",
    "            nn.BatchNorm2d(64),\n",
    "            nn.LeakyReLU(inplace=True),\n",
    "            nn.MaxPool2d(kernel_size=2, stride=2)\n",
    "        )\n",
    "\n",
    "        self.classifier = nn.Sequential(\n",
    "            nn.Flatten(),\n",
    "            nn.Linear(64 * 7 * 7, 1024),\n",
    "            nn.Dropout(0.2),\n",
    "            nn.LeakyReLU(inplace=True),\n",
    "            nn.Linear(1024, 512),\n",
    "            nn.Dropout(0.2),\n",
    "            nn.LeakyReLU(inplace=True),\n",
    "            nn.Linear(512, 256),\n",
    "            nn.Dropout(0.2),\n",
    "            nn.LeakyReLU(inplace=True),\n",
    "            nn.Linear(256, 128),\n",
    "            nn.Dropout(0.2),\n",
    "            nn.LeakyReLU(inplace=True),\n",
    "            nn.Linear(128, 64),\n",
    "            nn.Dropout(0.2),\n",
    "            nn.LeakyReLU(inplace=True),\n",
    "            nn.Linear(64, 32),\n",
    "            nn.Dropout(0.2),\n",
    "            nn.LeakyReLU(inplace=True),\n",
    "            nn.Linear(32, 10)\n",
    "            )\n",
    "\n",
    "    def forward(self, x):\n",
    "        x = self.features(x)\n",
    "        x = self.classifier(x)\n",
    "        \n",
    "        return x   "
   ]
  },
  {
   "cell_type": "code",
   "execution_count": 8,
   "metadata": {},
   "outputs": [],
   "source": [
    "model = Net().to(device)\n",
    "criterion = nn.CrossEntropyLoss().to(device)\n",
    "optimizer = torch.optim.Adam(model.parameters(), lr=0.0001, weight_decay=0.000001)"
   ]
  },
  {
   "cell_type": "code",
   "execution_count": 9,
   "metadata": {},
   "outputs": [
    {
     "name": "stdout",
     "output_type": "stream",
     "text": [
      "Epoch 1: loss = 0.682\n",
      "Epoch 2: loss = 0.158\n",
      "Epoch 3: loss = 0.104\n",
      "Epoch 4: loss = 0.080\n",
      "Epoch 5: loss = 0.066\n",
      "Epoch 6: loss = 0.058\n",
      "Epoch 7: loss = 0.051\n",
      "Epoch 8: loss = 0.045\n",
      "Epoch 9: loss = 0.041\n",
      "Epoch 10: loss = 0.037\n",
      "Epoch 11: loss = 0.035\n",
      "Epoch 12: loss = 0.032\n",
      "Epoch 13: loss = 0.030\n",
      "Epoch 14: loss = 0.026\n",
      "Epoch 15: loss = 0.028\n",
      "Epoch 16: loss = 0.024\n",
      "Epoch 17: loss = 0.023\n",
      "Epoch 18: loss = 0.023\n",
      "Epoch 19: loss = 0.021\n",
      "Epoch 20: loss = 0.019\n",
      "Epoch 21: loss = 0.019\n",
      "Epoch 22: loss = 0.017\n",
      "Epoch 23: loss = 0.016\n",
      "Epoch 24: loss = 0.018\n",
      "Epoch 25: loss = 0.016\n",
      "Training finished!\n"
     ]
    }
   ],
   "source": [
    "model.train()\n",
    "\n",
    "for epoch in range(25):\n",
    "    running_loss = 0.0\n",
    "\n",
    "    for i, (img, label) in enumerate(train_loader):\n",
    "        img, label = img.to(device), label.to(device)\n",
    "        optimizer.zero_grad()\n",
    "        output = model(img)\n",
    "        \n",
    "        loss = criterion(output, label)\n",
    "        loss.backward()\n",
    "\n",
    "        optimizer.step()\n",
    "\n",
    "        running_loss += loss.item()\n",
    "        \n",
    "    print(f'Epoch {epoch+1}: loss = {running_loss / len(train_loader):.3f}')\n",
    "\n",
    "print('Training finished!')        "
   ]
  },
  {
   "cell_type": "code",
   "execution_count": 10,
   "metadata": {},
   "outputs": [
    {
     "name": "stdout",
     "output_type": "stream",
     "text": [
      "Accuracy of the network on the 157 test images: 99%\n"
     ]
    }
   ],
   "source": [
    "correct = 0\n",
    "total = 0\n",
    "with torch.no_grad():\n",
    "    for img, label in test_loader:\n",
    "        images, labels = img.to(device), label.to(device)\n",
    "        outputs = model(images)\n",
    "        _, predicted = torch.max(outputs.data, 1)\n",
    "        total += labels.size(0)\n",
    "        correct += (predicted == labels).sum().item()\n",
    "\n",
    "print(f'Accuracy of the network on the {len(test_loader)} test images: {100 * correct // total}%')"
   ]
  }
 ],
 "metadata": {
  "kernelspec": {
   "display_name": "Python 3.10.4 64-bit",
   "language": "python",
   "name": "python3"
  },
  "language_info": {
   "codemirror_mode": {
    "name": "ipython",
    "version": 3
   },
   "file_extension": ".py",
   "mimetype": "text/x-python",
   "name": "python",
   "nbconvert_exporter": "python",
   "pygments_lexer": "ipython3",
   "version": "3.10.4"
  },
  "orig_nbformat": 4,
  "vscode": {
   "interpreter": {
    "hash": "916dbcbb3f70747c44a77c7bcd40155683ae19c65e1c03b4aa3499c5328201f1"
   }
  }
 },
 "nbformat": 4,
 "nbformat_minor": 2
}
