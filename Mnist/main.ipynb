{
 "cells": [
  {
   "cell_type": "code",
   "execution_count": 89,
   "metadata": {},
   "outputs": [
    {
     "data": {
      "text/plain": [
       "device(type='cuda')"
      ]
     },
     "execution_count": 89,
     "metadata": {},
     "output_type": "execute_result"
    }
   ],
   "source": [
    "import torch\n",
    "import torchvision.transforms  as T\n",
    "import torchvision.datasets as datasets\n",
    "from torch.utils.data import DataLoader, Dataset\n",
    "import torch.nn as nn\n",
    "import numpy as np\n",
    "import matplotlib.pyplot as plt\n",
    "\n",
    "device = torch.device('cuda')\n",
    "device"
   ]
  },
  {
   "cell_type": "code",
   "execution_count": 31,
   "metadata": {},
   "outputs": [],
   "source": [
    "set = datasets.MNIST(root='./data', train=True, download=True, transform=T.ToTensor())\n",
    "loader = DataLoader(set, batch_size = 64, shuffle=False)"
   ]
  },
  {
   "cell_type": "code",
   "execution_count": 32,
   "metadata": {},
   "outputs": [
    {
     "name": "stdout",
     "output_type": "stream",
     "text": [
      "tensor(0.1307) tensor(0.3081)\n"
     ]
    }
   ],
   "source": [
    "def get_mean_std(loader):\n",
    "    channels_sum, channels_squares_sum = 0, 0\n",
    "    num_batches = len(loader)\n",
    "\n",
    "    for data, _ in loader:\n",
    "        channels_sum += torch.mean(data)\n",
    "        channels_squares_sum += torch.mean(data**2)\n",
    "\n",
    "    mean = channels_sum/num_batches\n",
    "    std  = np.sqrt((channels_squares_sum/num_batches - mean**2))\n",
    "\n",
    "    return mean, std\n",
    "\n",
    "mean, std = get_mean_std(loader)\n",
    "print(mean, std)"
   ]
  },
  {
   "cell_type": "code",
   "execution_count": 117,
   "metadata": {},
   "outputs": [],
   "source": [
    "trans = T.Compose([T.ToTensor(), T.Normalize(mean.item(), std.item())])\n",
    "\n",
    "trainset = datasets.MNIST(root='./data', train=True, download=True, transform=trans)\n",
    "train_loader = DataLoader(trainset, batch_size = 64, shuffle=False)\n",
    "\n",
    "testset = datasets.MNIST(root='./data', train=False, download=True, transform=trans)\n",
    "test_loader = DataLoader(testset, batch_size = 64, shuffle=False)"
   ]
  },
  {
   "cell_type": "code",
   "execution_count": 118,
   "metadata": {},
   "outputs": [],
   "source": [
    "class Net(nn.Module):\n",
    "    def __init__(self):\n",
    "        super().__init__()\n",
    "        self.featuresCONV2D = nn.Sequential(\n",
    "            nn.Conv2d(1, 32, kernel_size=3, stride=1, padding=1),\n",
    "            nn.Dropout(0.2),\n",
    "            nn.BatchNorm2d(32),\n",
    "            nn.LeakyReLU(inplace=True),\n",
    "            nn.Conv2d(32, 32, kernel_size=3, stride=1, padding=1),\n",
    "            nn.Dropout(0.2),\n",
    "            nn.BatchNorm2d(32),\n",
    "            nn.LeakyReLU(inplace=True),\n",
    "            nn.MaxPool2d(kernel_size=2, stride=2),\n",
    "            nn.Conv2d(32, 64, kernel_size=3, padding=1),\n",
    "            nn.Dropout(0.2),\n",
    "            nn.BatchNorm2d(64),\n",
    "            nn.LeakyReLU(inplace=True),\n",
    "            nn.Conv2d(64, 64, kernel_size=3, padding=1),\n",
    "            nn.Dropout(0.2),\n",
    "            nn.BatchNorm2d(64),\n",
    "            nn.LeakyReLU(inplace=True),\n",
    "            nn.MaxPool2d(kernel_size=2, stride=2)\n",
    "        )\n",
    "\n",
    "        self.classifierLINEAR = nn.Sequential(\n",
    "            nn.Flatten(),\n",
    "            nn.Linear(64 * 7 * 7, 1024),\n",
    "            nn.Dropout(0.2),\n",
    "            nn.LeakyReLU(inplace=True),\n",
    "            nn.Linear(1024, 512),\n",
    "            nn.Dropout(0.2),\n",
    "            nn.LeakyReLU(inplace=True),\n",
    "            nn.Linear(512, 256),\n",
    "            nn.Dropout(0.2),\n",
    "            nn.LeakyReLU(inplace=True),\n",
    "            nn.Linear(256, 128),\n",
    "            nn.Dropout(0.2),\n",
    "            nn.LeakyReLU(inplace=True),\n",
    "            nn.Linear(128, 64),\n",
    "            nn.Dropout(0.2),\n",
    "            nn.LeakyReLU(inplace=True),\n",
    "            nn.Linear(64, 32),\n",
    "            nn.Dropout(0.2),\n",
    "            nn.LeakyReLU(inplace=True),\n",
    "            nn.Linear(32, 10)\n",
    "            )\n",
    "\n",
    "    def forward(self, x):\n",
    "        x = self.featuresCONV2D(x)\n",
    "        x = self.classifierLINEAR(x)\n",
    "        \n",
    "        return x   "
   ]
  },
  {
   "cell_type": "code",
   "execution_count": 119,
   "metadata": {},
   "outputs": [],
   "source": [
    "model = Net().to(device)\n",
    "criterion = nn.CrossEntropyLoss().to(device)\n",
    "optimizer = torch.optim.Adam(model.parameters(), lr=0.0001)"
   ]
  },
  {
   "cell_type": "code",
   "execution_count": 120,
   "metadata": {},
   "outputs": [
    {
     "name": "stdout",
     "output_type": "stream",
     "text": [
      "Epoch 1 = loss: 0.672 | accuracy: 76%\n",
      "Epoch 2 = loss: 0.144 | accuracy: 96%\n",
      "Epoch 3 = loss: 0.099 | accuracy: 97%\n",
      "Epoch 4 = loss: 0.077 | accuracy: 98%\n",
      "Epoch 5 = loss: 0.063 | accuracy: 98%\n",
      "Epoch 6 = loss: 0.054 | accuracy: 98%\n",
      "Epoch 7 = loss: 0.049 | accuracy: 98%\n",
      "Epoch 8 = loss: 0.044 | accuracy: 98%\n",
      "Epoch 9 = loss: 0.042 | accuracy: 99%\n",
      "Epoch 10 = loss: 0.034 | accuracy: 99%\n",
      "Epoch 11 = loss: 0.034 | accuracy: 99%\n",
      "Epoch 12 = loss: 0.032 | accuracy: 99%\n",
      "Epoch 13 = loss: 0.027 | accuracy: 99%\n",
      "Epoch 14 = loss: 0.027 | accuracy: 99%\n",
      "Epoch 15 = loss: 0.025 | accuracy: 99%\n",
      "Epoch 16 = loss: 0.024 | accuracy: 99%\n",
      "Epoch 17 = loss: 0.021 | accuracy: 99%\n",
      "Epoch 18 = loss: 0.022 | accuracy: 99%\n",
      "Epoch 19 = loss: 0.020 | accuracy: 99%\n",
      "Epoch 20 = loss: 0.018 | accuracy: 99%\n",
      "Epoch 21 = loss: 0.018 | accuracy: 99%\n",
      "Epoch 22 = loss: 0.016 | accuracy: 99%\n",
      "Epoch 23 = loss: 0.016 | accuracy: 99%\n",
      "Epoch 24 = loss: 0.016 | accuracy: 99%\n",
      "Epoch 25 = loss: 0.014 | accuracy: 99%\n",
      "Training finished!\n"
     ]
    }
   ],
   "source": [
    "model.train()\n",
    "\n",
    "for epoch in range(25):\n",
    "    running_loss = 0.0\n",
    "    correct = 0\n",
    "    total = 0\n",
    "    losses = []\n",
    "\n",
    "    for i, (img, label) in enumerate(train_loader):\n",
    "        img, label = img.to(device), label.to(device)\n",
    "        optimizer.zero_grad()\n",
    "        output = model(img)\n",
    "        \n",
    "        loss = criterion(output, label)\n",
    "        loss.backward()\n",
    "\n",
    "        optimizer.step()\n",
    "\n",
    "        _, predicted = torch.max(output.data, 1)\n",
    "        total += label.size(0)\n",
    "        correct += (predicted == label).sum().item()\n",
    "        running_loss += loss.item()\n",
    "        losses.append(loss.item())\n",
    "        \n",
    "    print(f'Epoch {epoch+1} = loss: {running_loss / len(train_loader):.3f} | accuracy: {100 * correct // total}%')\n",
    "\n",
    "print('Training finished!')        "
   ]
  },
  {
   "cell_type": "code",
   "execution_count": 121,
   "metadata": {},
   "outputs": [
    {
     "name": "stdout",
     "output_type": "stream",
     "text": [
      "Accuracy of the network on the 157 test images: 99%\n"
     ]
    }
   ],
   "source": [
    "correct = 0\n",
    "total = 0\n",
    "with torch.no_grad():\n",
    "    for img, label in test_loader:\n",
    "        images, labels = img.to(device), label.to(device)\n",
    "        outputs = model(images)\n",
    "        _, predicted = torch.max(outputs.data, 1)\n",
    "        total += labels.size(0)\n",
    "        correct += (predicted == labels).sum().item()\n",
    "\n",
    "print(f'Accuracy of the network on the {len(test_loader)} test images: {100 * correct // total}%')"
   ]
  },
  {
   "cell_type": "code",
   "execution_count": 122,
   "metadata": {},
   "outputs": [],
   "source": [
    "torch.save(model.state_dict(), '/media/braddock/LInux/MNIST/model.pt')"
   ]
  },
  {
   "cell_type": "code",
   "execution_count": 123,
   "metadata": {},
   "outputs": [],
   "source": [
    "import pandas as pd"
   ]
  },
  {
   "cell_type": "code",
   "execution_count": 124,
   "metadata": {},
   "outputs": [
    {
     "data": {
      "text/plain": [
       "Net(\n",
       "  (featuresCONV2D): Sequential(\n",
       "    (0): Conv2d(1, 32, kernel_size=(3, 3), stride=(1, 1), padding=(1, 1))\n",
       "    (1): Dropout(p=0.2, inplace=False)\n",
       "    (2): BatchNorm2d(32, eps=1e-05, momentum=0.1, affine=True, track_running_stats=True)\n",
       "    (3): LeakyReLU(negative_slope=0.01, inplace=True)\n",
       "    (4): Conv2d(32, 32, kernel_size=(3, 3), stride=(1, 1), padding=(1, 1))\n",
       "    (5): Dropout(p=0.2, inplace=False)\n",
       "    (6): BatchNorm2d(32, eps=1e-05, momentum=0.1, affine=True, track_running_stats=True)\n",
       "    (7): LeakyReLU(negative_slope=0.01, inplace=True)\n",
       "    (8): MaxPool2d(kernel_size=2, stride=2, padding=0, dilation=1, ceil_mode=False)\n",
       "    (9): Conv2d(32, 64, kernel_size=(3, 3), stride=(1, 1), padding=(1, 1))\n",
       "    (10): Dropout(p=0.2, inplace=False)\n",
       "    (11): BatchNorm2d(64, eps=1e-05, momentum=0.1, affine=True, track_running_stats=True)\n",
       "    (12): LeakyReLU(negative_slope=0.01, inplace=True)\n",
       "    (13): Conv2d(64, 64, kernel_size=(3, 3), stride=(1, 1), padding=(1, 1))\n",
       "    (14): Dropout(p=0.2, inplace=False)\n",
       "    (15): BatchNorm2d(64, eps=1e-05, momentum=0.1, affine=True, track_running_stats=True)\n",
       "    (16): LeakyReLU(negative_slope=0.01, inplace=True)\n",
       "    (17): MaxPool2d(kernel_size=2, stride=2, padding=0, dilation=1, ceil_mode=False)\n",
       "  )\n",
       "  (classifierLINEAR): Sequential(\n",
       "    (0): Flatten(start_dim=1, end_dim=-1)\n",
       "    (1): Linear(in_features=3136, out_features=1024, bias=True)\n",
       "    (2): Dropout(p=0.2, inplace=False)\n",
       "    (3): LeakyReLU(negative_slope=0.01, inplace=True)\n",
       "    (4): Linear(in_features=1024, out_features=512, bias=True)\n",
       "    (5): Dropout(p=0.2, inplace=False)\n",
       "    (6): LeakyReLU(negative_slope=0.01, inplace=True)\n",
       "    (7): Linear(in_features=512, out_features=256, bias=True)\n",
       "    (8): Dropout(p=0.2, inplace=False)\n",
       "    (9): LeakyReLU(negative_slope=0.01, inplace=True)\n",
       "    (10): Linear(in_features=256, out_features=128, bias=True)\n",
       "    (11): Dropout(p=0.2, inplace=False)\n",
       "    (12): LeakyReLU(negative_slope=0.01, inplace=True)\n",
       "    (13): Linear(in_features=128, out_features=64, bias=True)\n",
       "    (14): Dropout(p=0.2, inplace=False)\n",
       "    (15): LeakyReLU(negative_slope=0.01, inplace=True)\n",
       "    (16): Linear(in_features=64, out_features=32, bias=True)\n",
       "    (17): Dropout(p=0.2, inplace=False)\n",
       "    (18): LeakyReLU(negative_slope=0.01, inplace=True)\n",
       "    (19): Linear(in_features=32, out_features=10, bias=True)\n",
       "  )\n",
       ")"
      ]
     },
     "execution_count": 124,
     "metadata": {},
     "output_type": "execute_result"
    }
   ],
   "source": [
    "model = Net().to(device)\n",
    "model.load_state_dict(torch.load(\"model.pt\")) #Score: 0.9969\n",
    "model.eval()"
   ]
  },
  {
   "cell_type": "code",
   "execution_count": 125,
   "metadata": {},
   "outputs": [],
   "source": [
    "class testData(Dataset):\n",
    "    def __init__(self, x):\n",
    "        self.x = x\n",
    "    \n",
    "    def __len__(self):\n",
    "        return len(self.x)\n",
    "\n",
    "    def __getitem__(self, index):\n",
    "        return self.x[index]"
   ]
  },
  {
   "cell_type": "code",
   "execution_count": 126,
   "metadata": {},
   "outputs": [],
   "source": [
    "test = torch.tensor(np.array(pd.read_csv('test.csv')).reshape(-1, 1, 28, 28), dtype=torch.float32)\n",
    "testset = testData(test)\n",
    "test_loader2 = DataLoader(testset, batch_size = 64, shuffle=False)"
   ]
  },
  {
   "cell_type": "code",
   "execution_count": 131,
   "metadata": {},
   "outputs": [],
   "source": [
    "test_pred = torch.LongTensor()\n",
    "\n",
    "with torch.no_grad():\n",
    "  for data in test_loader2:\n",
    "      data = data.to(device)\n",
    "          \n",
    "      output = model(data)\n",
    "      \n",
    "      pred = output.cpu().data.max(1, keepdim=True)[1]\n",
    "      test_pred = torch.cat((test_pred, pred), dim=0)"
   ]
  },
  {
   "cell_type": "code",
   "execution_count": 132,
   "metadata": {},
   "outputs": [
    {
     "data": {
      "text/plain": [
       "tensor([[2],\n",
       "        [0],\n",
       "        [9],\n",
       "        ...,\n",
       "        [3],\n",
       "        [9],\n",
       "        [2]])"
      ]
     },
     "execution_count": 132,
     "metadata": {},
     "output_type": "execute_result"
    }
   ],
   "source": [
    "test_pred"
   ]
  },
  {
   "cell_type": "code",
   "execution_count": 133,
   "metadata": {},
   "outputs": [],
   "source": [
    "out_df = pd.DataFrame(np.c_[np.arange(1, len(test)+1)[:,None], test_pred.numpy()], columns=['ImageId', 'Label'])"
   ]
  },
  {
   "cell_type": "code",
   "execution_count": 134,
   "metadata": {},
   "outputs": [],
   "source": [
    "out_df.to_csv('my_submmision.csv', index=False) #Score: 0.99696"
   ]
  }
 ],
 "metadata": {
  "kernelspec": {
   "display_name": "Python 3.10.4 64-bit",
   "language": "python",
   "name": "python3"
  },
  "language_info": {
   "codemirror_mode": {
    "name": "ipython",
    "version": 3
   },
   "file_extension": ".py",
   "mimetype": "text/x-python",
   "name": "python",
   "nbconvert_exporter": "python",
   "pygments_lexer": "ipython3",
   "version": "3.10.4"
  },
  "orig_nbformat": 4,
  "vscode": {
   "interpreter": {
    "hash": "916dbcbb3f70747c44a77c7bcd40155683ae19c65e1c03b4aa3499c5328201f1"
   }
  }
 },
 "nbformat": 4,
 "nbformat_minor": 2
}
