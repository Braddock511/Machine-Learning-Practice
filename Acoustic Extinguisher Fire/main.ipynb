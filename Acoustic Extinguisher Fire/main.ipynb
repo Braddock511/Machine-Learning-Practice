{
 "cells": [
  {
   "cell_type": "code",
   "execution_count": 2,
   "metadata": {},
   "outputs": [],
   "source": [
    "import pandas as pd\n",
    "import matplotlib.pyplot as plt\n",
    "import seaborn as sns\n",
    "import numpy as np"
   ]
  },
  {
   "cell_type": "markdown",
   "metadata": {},
   "source": [
    "**Import data**"
   ]
  },
  {
   "cell_type": "code",
   "execution_count": 3,
   "metadata": {},
   "outputs": [],
   "source": [
    "df = pd.read_excel('Fire.xlsx')"
   ]
  },
  {
   "cell_type": "code",
   "execution_count": 4,
   "metadata": {},
   "outputs": [
    {
     "data": {
      "text/html": [
       "<div>\n",
       "<style scoped>\n",
       "    .dataframe tbody tr th:only-of-type {\n",
       "        vertical-align: middle;\n",
       "    }\n",
       "\n",
       "    .dataframe tbody tr th {\n",
       "        vertical-align: top;\n",
       "    }\n",
       "\n",
       "    .dataframe thead th {\n",
       "        text-align: right;\n",
       "    }\n",
       "</style>\n",
       "<table border=\"1\" class=\"dataframe\">\n",
       "  <thead>\n",
       "    <tr style=\"text-align: right;\">\n",
       "      <th></th>\n",
       "      <th>SIZE</th>\n",
       "      <th>FUEL</th>\n",
       "      <th>DISTANCE</th>\n",
       "      <th>DESIBEL</th>\n",
       "      <th>AIRFLOW</th>\n",
       "      <th>FREQUENCY</th>\n",
       "      <th>STATUS</th>\n",
       "    </tr>\n",
       "  </thead>\n",
       "  <tbody>\n",
       "    <tr>\n",
       "      <th>0</th>\n",
       "      <td>1</td>\n",
       "      <td>gasoline</td>\n",
       "      <td>10</td>\n",
       "      <td>96</td>\n",
       "      <td>0.0</td>\n",
       "      <td>75</td>\n",
       "      <td>0</td>\n",
       "    </tr>\n",
       "    <tr>\n",
       "      <th>1</th>\n",
       "      <td>1</td>\n",
       "      <td>gasoline</td>\n",
       "      <td>10</td>\n",
       "      <td>96</td>\n",
       "      <td>0.0</td>\n",
       "      <td>72</td>\n",
       "      <td>1</td>\n",
       "    </tr>\n",
       "    <tr>\n",
       "      <th>2</th>\n",
       "      <td>1</td>\n",
       "      <td>gasoline</td>\n",
       "      <td>10</td>\n",
       "      <td>96</td>\n",
       "      <td>2.6</td>\n",
       "      <td>70</td>\n",
       "      <td>1</td>\n",
       "    </tr>\n",
       "    <tr>\n",
       "      <th>3</th>\n",
       "      <td>1</td>\n",
       "      <td>gasoline</td>\n",
       "      <td>10</td>\n",
       "      <td>96</td>\n",
       "      <td>3.2</td>\n",
       "      <td>68</td>\n",
       "      <td>1</td>\n",
       "    </tr>\n",
       "    <tr>\n",
       "      <th>4</th>\n",
       "      <td>1</td>\n",
       "      <td>gasoline</td>\n",
       "      <td>10</td>\n",
       "      <td>109</td>\n",
       "      <td>4.5</td>\n",
       "      <td>67</td>\n",
       "      <td>1</td>\n",
       "    </tr>\n",
       "    <tr>\n",
       "      <th>...</th>\n",
       "      <td>...</td>\n",
       "      <td>...</td>\n",
       "      <td>...</td>\n",
       "      <td>...</td>\n",
       "      <td>...</td>\n",
       "      <td>...</td>\n",
       "      <td>...</td>\n",
       "    </tr>\n",
       "    <tr>\n",
       "      <th>17437</th>\n",
       "      <td>7</td>\n",
       "      <td>lpg</td>\n",
       "      <td>190</td>\n",
       "      <td>86</td>\n",
       "      <td>2.2</td>\n",
       "      <td>5</td>\n",
       "      <td>0</td>\n",
       "    </tr>\n",
       "    <tr>\n",
       "      <th>17438</th>\n",
       "      <td>7</td>\n",
       "      <td>lpg</td>\n",
       "      <td>190</td>\n",
       "      <td>84</td>\n",
       "      <td>2.0</td>\n",
       "      <td>4</td>\n",
       "      <td>0</td>\n",
       "    </tr>\n",
       "    <tr>\n",
       "      <th>17439</th>\n",
       "      <td>7</td>\n",
       "      <td>lpg</td>\n",
       "      <td>190</td>\n",
       "      <td>80</td>\n",
       "      <td>1.5</td>\n",
       "      <td>3</td>\n",
       "      <td>0</td>\n",
       "    </tr>\n",
       "    <tr>\n",
       "      <th>17440</th>\n",
       "      <td>7</td>\n",
       "      <td>lpg</td>\n",
       "      <td>190</td>\n",
       "      <td>76</td>\n",
       "      <td>0.4</td>\n",
       "      <td>2</td>\n",
       "      <td>0</td>\n",
       "    </tr>\n",
       "    <tr>\n",
       "      <th>17441</th>\n",
       "      <td>7</td>\n",
       "      <td>lpg</td>\n",
       "      <td>190</td>\n",
       "      <td>72</td>\n",
       "      <td>0.0</td>\n",
       "      <td>1</td>\n",
       "      <td>0</td>\n",
       "    </tr>\n",
       "  </tbody>\n",
       "</table>\n",
       "<p>17442 rows × 7 columns</p>\n",
       "</div>"
      ],
      "text/plain": [
       "       SIZE      FUEL  DISTANCE  DESIBEL  AIRFLOW  FREQUENCY  STATUS\n",
       "0         1  gasoline        10       96      0.0         75       0\n",
       "1         1  gasoline        10       96      0.0         72       1\n",
       "2         1  gasoline        10       96      2.6         70       1\n",
       "3         1  gasoline        10       96      3.2         68       1\n",
       "4         1  gasoline        10      109      4.5         67       1\n",
       "...     ...       ...       ...      ...      ...        ...     ...\n",
       "17437     7       lpg       190       86      2.2          5       0\n",
       "17438     7       lpg       190       84      2.0          4       0\n",
       "17439     7       lpg       190       80      1.5          3       0\n",
       "17440     7       lpg       190       76      0.4          2       0\n",
       "17441     7       lpg       190       72      0.0          1       0\n",
       "\n",
       "[17442 rows x 7 columns]"
      ]
     },
     "execution_count": 4,
     "metadata": {},
     "output_type": "execute_result"
    }
   ],
   "source": [
    "df"
   ]
  },
  {
   "cell_type": "code",
   "execution_count": 5,
   "metadata": {},
   "outputs": [
    {
     "name": "stdout",
     "output_type": "stream",
     "text": [
      "<class 'pandas.core.frame.DataFrame'>\n",
      "RangeIndex: 17442 entries, 0 to 17441\n",
      "Data columns (total 7 columns):\n",
      " #   Column     Non-Null Count  Dtype  \n",
      "---  ------     --------------  -----  \n",
      " 0   SIZE       17442 non-null  int64  \n",
      " 1   FUEL       17442 non-null  object \n",
      " 2   DISTANCE   17442 non-null  int64  \n",
      " 3   DESIBEL    17442 non-null  int64  \n",
      " 4   AIRFLOW    17442 non-null  float64\n",
      " 5   FREQUENCY  17442 non-null  int64  \n",
      " 6   STATUS     17442 non-null  int64  \n",
      "dtypes: float64(1), int64(5), object(1)\n",
      "memory usage: 954.0+ KB\n"
     ]
    }
   ],
   "source": [
    "df.info()"
   ]
  },
  {
   "cell_type": "code",
   "execution_count": 6,
   "metadata": {},
   "outputs": [
    {
     "data": {
      "text/html": [
       "<div>\n",
       "<style scoped>\n",
       "    .dataframe tbody tr th:only-of-type {\n",
       "        vertical-align: middle;\n",
       "    }\n",
       "\n",
       "    .dataframe tbody tr th {\n",
       "        vertical-align: top;\n",
       "    }\n",
       "\n",
       "    .dataframe thead th {\n",
       "        text-align: right;\n",
       "    }\n",
       "</style>\n",
       "<table border=\"1\" class=\"dataframe\">\n",
       "  <thead>\n",
       "    <tr style=\"text-align: right;\">\n",
       "      <th></th>\n",
       "      <th>SIZE</th>\n",
       "      <th>DISTANCE</th>\n",
       "      <th>DESIBEL</th>\n",
       "      <th>AIRFLOW</th>\n",
       "      <th>FREQUENCY</th>\n",
       "      <th>STATUS</th>\n",
       "    </tr>\n",
       "  </thead>\n",
       "  <tbody>\n",
       "    <tr>\n",
       "      <th>count</th>\n",
       "      <td>17442.000000</td>\n",
       "      <td>17442.000000</td>\n",
       "      <td>17442.000000</td>\n",
       "      <td>17442.000000</td>\n",
       "      <td>17442.000000</td>\n",
       "      <td>17442.000000</td>\n",
       "    </tr>\n",
       "    <tr>\n",
       "      <th>mean</th>\n",
       "      <td>3.411765</td>\n",
       "      <td>100.000000</td>\n",
       "      <td>96.379142</td>\n",
       "      <td>6.975634</td>\n",
       "      <td>31.611111</td>\n",
       "      <td>0.497821</td>\n",
       "    </tr>\n",
       "    <tr>\n",
       "      <th>std</th>\n",
       "      <td>1.750977</td>\n",
       "      <td>54.773826</td>\n",
       "      <td>8.164096</td>\n",
       "      <td>4.736169</td>\n",
       "      <td>20.939149</td>\n",
       "      <td>0.500010</td>\n",
       "    </tr>\n",
       "    <tr>\n",
       "      <th>min</th>\n",
       "      <td>1.000000</td>\n",
       "      <td>10.000000</td>\n",
       "      <td>72.000000</td>\n",
       "      <td>0.000000</td>\n",
       "      <td>1.000000</td>\n",
       "      <td>0.000000</td>\n",
       "    </tr>\n",
       "    <tr>\n",
       "      <th>25%</th>\n",
       "      <td>2.000000</td>\n",
       "      <td>50.000000</td>\n",
       "      <td>90.000000</td>\n",
       "      <td>3.200000</td>\n",
       "      <td>14.000000</td>\n",
       "      <td>0.000000</td>\n",
       "    </tr>\n",
       "    <tr>\n",
       "      <th>50%</th>\n",
       "      <td>3.000000</td>\n",
       "      <td>100.000000</td>\n",
       "      <td>95.000000</td>\n",
       "      <td>5.800000</td>\n",
       "      <td>27.500000</td>\n",
       "      <td>0.000000</td>\n",
       "    </tr>\n",
       "    <tr>\n",
       "      <th>75%</th>\n",
       "      <td>5.000000</td>\n",
       "      <td>150.000000</td>\n",
       "      <td>104.000000</td>\n",
       "      <td>11.200000</td>\n",
       "      <td>47.000000</td>\n",
       "      <td>1.000000</td>\n",
       "    </tr>\n",
       "    <tr>\n",
       "      <th>max</th>\n",
       "      <td>7.000000</td>\n",
       "      <td>190.000000</td>\n",
       "      <td>113.000000</td>\n",
       "      <td>17.000000</td>\n",
       "      <td>75.000000</td>\n",
       "      <td>1.000000</td>\n",
       "    </tr>\n",
       "  </tbody>\n",
       "</table>\n",
       "</div>"
      ],
      "text/plain": [
       "               SIZE      DISTANCE       DESIBEL       AIRFLOW     FREQUENCY  \\\n",
       "count  17442.000000  17442.000000  17442.000000  17442.000000  17442.000000   \n",
       "mean       3.411765    100.000000     96.379142      6.975634     31.611111   \n",
       "std        1.750977     54.773826      8.164096      4.736169     20.939149   \n",
       "min        1.000000     10.000000     72.000000      0.000000      1.000000   \n",
       "25%        2.000000     50.000000     90.000000      3.200000     14.000000   \n",
       "50%        3.000000    100.000000     95.000000      5.800000     27.500000   \n",
       "75%        5.000000    150.000000    104.000000     11.200000     47.000000   \n",
       "max        7.000000    190.000000    113.000000     17.000000     75.000000   \n",
       "\n",
       "             STATUS  \n",
       "count  17442.000000  \n",
       "mean       0.497821  \n",
       "std        0.500010  \n",
       "min        0.000000  \n",
       "25%        0.000000  \n",
       "50%        0.000000  \n",
       "75%        1.000000  \n",
       "max        1.000000  "
      ]
     },
     "execution_count": 6,
     "metadata": {},
     "output_type": "execute_result"
    }
   ],
   "source": [
    "df.describe()"
   ]
  },
  {
   "cell_type": "markdown",
   "metadata": {},
   "source": [
    "**Convert type column 'FUEL' to int**"
   ]
  },
  {
   "cell_type": "code",
   "execution_count": 7,
   "metadata": {},
   "outputs": [],
   "source": [
    "from sklearn.preprocessing import OneHotEncoder\n",
    "\n",
    "encoder = OneHotEncoder()\n",
    "\n",
    "enc_df = pd.DataFrame(encoder.fit_transform(df[['FUEL']]).toarray())\n",
    "\n",
    "df = df.join(enc_df)\n",
    "df.drop('FUEL',axis=1,inplace=True)"
   ]
  },
  {
   "cell_type": "code",
   "execution_count": 8,
   "metadata": {},
   "outputs": [
    {
     "data": {
      "text/html": [
       "<div>\n",
       "<style scoped>\n",
       "    .dataframe tbody tr th:only-of-type {\n",
       "        vertical-align: middle;\n",
       "    }\n",
       "\n",
       "    .dataframe tbody tr th {\n",
       "        vertical-align: top;\n",
       "    }\n",
       "\n",
       "    .dataframe thead th {\n",
       "        text-align: right;\n",
       "    }\n",
       "</style>\n",
       "<table border=\"1\" class=\"dataframe\">\n",
       "  <thead>\n",
       "    <tr style=\"text-align: right;\">\n",
       "      <th></th>\n",
       "      <th>SIZE</th>\n",
       "      <th>DISTANCE</th>\n",
       "      <th>DESIBEL</th>\n",
       "      <th>AIRFLOW</th>\n",
       "      <th>FREQUENCY</th>\n",
       "      <th>STATUS</th>\n",
       "      <th>0</th>\n",
       "      <th>1</th>\n",
       "      <th>2</th>\n",
       "      <th>3</th>\n",
       "    </tr>\n",
       "  </thead>\n",
       "  <tbody>\n",
       "    <tr>\n",
       "      <th>0</th>\n",
       "      <td>1</td>\n",
       "      <td>10</td>\n",
       "      <td>96</td>\n",
       "      <td>0.0</td>\n",
       "      <td>75</td>\n",
       "      <td>0</td>\n",
       "      <td>1.0</td>\n",
       "      <td>0.0</td>\n",
       "      <td>0.0</td>\n",
       "      <td>0.0</td>\n",
       "    </tr>\n",
       "    <tr>\n",
       "      <th>1</th>\n",
       "      <td>1</td>\n",
       "      <td>10</td>\n",
       "      <td>96</td>\n",
       "      <td>0.0</td>\n",
       "      <td>72</td>\n",
       "      <td>1</td>\n",
       "      <td>1.0</td>\n",
       "      <td>0.0</td>\n",
       "      <td>0.0</td>\n",
       "      <td>0.0</td>\n",
       "    </tr>\n",
       "    <tr>\n",
       "      <th>2</th>\n",
       "      <td>1</td>\n",
       "      <td>10</td>\n",
       "      <td>96</td>\n",
       "      <td>2.6</td>\n",
       "      <td>70</td>\n",
       "      <td>1</td>\n",
       "      <td>1.0</td>\n",
       "      <td>0.0</td>\n",
       "      <td>0.0</td>\n",
       "      <td>0.0</td>\n",
       "    </tr>\n",
       "    <tr>\n",
       "      <th>3</th>\n",
       "      <td>1</td>\n",
       "      <td>10</td>\n",
       "      <td>96</td>\n",
       "      <td>3.2</td>\n",
       "      <td>68</td>\n",
       "      <td>1</td>\n",
       "      <td>1.0</td>\n",
       "      <td>0.0</td>\n",
       "      <td>0.0</td>\n",
       "      <td>0.0</td>\n",
       "    </tr>\n",
       "    <tr>\n",
       "      <th>4</th>\n",
       "      <td>1</td>\n",
       "      <td>10</td>\n",
       "      <td>109</td>\n",
       "      <td>4.5</td>\n",
       "      <td>67</td>\n",
       "      <td>1</td>\n",
       "      <td>1.0</td>\n",
       "      <td>0.0</td>\n",
       "      <td>0.0</td>\n",
       "      <td>0.0</td>\n",
       "    </tr>\n",
       "    <tr>\n",
       "      <th>...</th>\n",
       "      <td>...</td>\n",
       "      <td>...</td>\n",
       "      <td>...</td>\n",
       "      <td>...</td>\n",
       "      <td>...</td>\n",
       "      <td>...</td>\n",
       "      <td>...</td>\n",
       "      <td>...</td>\n",
       "      <td>...</td>\n",
       "      <td>...</td>\n",
       "    </tr>\n",
       "    <tr>\n",
       "      <th>17437</th>\n",
       "      <td>7</td>\n",
       "      <td>190</td>\n",
       "      <td>86</td>\n",
       "      <td>2.2</td>\n",
       "      <td>5</td>\n",
       "      <td>0</td>\n",
       "      <td>0.0</td>\n",
       "      <td>0.0</td>\n",
       "      <td>1.0</td>\n",
       "      <td>0.0</td>\n",
       "    </tr>\n",
       "    <tr>\n",
       "      <th>17438</th>\n",
       "      <td>7</td>\n",
       "      <td>190</td>\n",
       "      <td>84</td>\n",
       "      <td>2.0</td>\n",
       "      <td>4</td>\n",
       "      <td>0</td>\n",
       "      <td>0.0</td>\n",
       "      <td>0.0</td>\n",
       "      <td>1.0</td>\n",
       "      <td>0.0</td>\n",
       "    </tr>\n",
       "    <tr>\n",
       "      <th>17439</th>\n",
       "      <td>7</td>\n",
       "      <td>190</td>\n",
       "      <td>80</td>\n",
       "      <td>1.5</td>\n",
       "      <td>3</td>\n",
       "      <td>0</td>\n",
       "      <td>0.0</td>\n",
       "      <td>0.0</td>\n",
       "      <td>1.0</td>\n",
       "      <td>0.0</td>\n",
       "    </tr>\n",
       "    <tr>\n",
       "      <th>17440</th>\n",
       "      <td>7</td>\n",
       "      <td>190</td>\n",
       "      <td>76</td>\n",
       "      <td>0.4</td>\n",
       "      <td>2</td>\n",
       "      <td>0</td>\n",
       "      <td>0.0</td>\n",
       "      <td>0.0</td>\n",
       "      <td>1.0</td>\n",
       "      <td>0.0</td>\n",
       "    </tr>\n",
       "    <tr>\n",
       "      <th>17441</th>\n",
       "      <td>7</td>\n",
       "      <td>190</td>\n",
       "      <td>72</td>\n",
       "      <td>0.0</td>\n",
       "      <td>1</td>\n",
       "      <td>0</td>\n",
       "      <td>0.0</td>\n",
       "      <td>0.0</td>\n",
       "      <td>1.0</td>\n",
       "      <td>0.0</td>\n",
       "    </tr>\n",
       "  </tbody>\n",
       "</table>\n",
       "<p>17442 rows × 10 columns</p>\n",
       "</div>"
      ],
      "text/plain": [
       "       SIZE  DISTANCE  DESIBEL  AIRFLOW  FREQUENCY  STATUS    0    1    2    3\n",
       "0         1        10       96      0.0         75       0  1.0  0.0  0.0  0.0\n",
       "1         1        10       96      0.0         72       1  1.0  0.0  0.0  0.0\n",
       "2         1        10       96      2.6         70       1  1.0  0.0  0.0  0.0\n",
       "3         1        10       96      3.2         68       1  1.0  0.0  0.0  0.0\n",
       "4         1        10      109      4.5         67       1  1.0  0.0  0.0  0.0\n",
       "...     ...       ...      ...      ...        ...     ...  ...  ...  ...  ...\n",
       "17437     7       190       86      2.2          5       0  0.0  0.0  1.0  0.0\n",
       "17438     7       190       84      2.0          4       0  0.0  0.0  1.0  0.0\n",
       "17439     7       190       80      1.5          3       0  0.0  0.0  1.0  0.0\n",
       "17440     7       190       76      0.4          2       0  0.0  0.0  1.0  0.0\n",
       "17441     7       190       72      0.0          1       0  0.0  0.0  1.0  0.0\n",
       "\n",
       "[17442 rows x 10 columns]"
      ]
     },
     "execution_count": 8,
     "metadata": {},
     "output_type": "execute_result"
    }
   ],
   "source": [
    "df"
   ]
  },
  {
   "cell_type": "code",
   "execution_count": 9,
   "metadata": {},
   "outputs": [
    {
     "data": {
      "text/plain": [
       "<AxesSubplot:>"
      ]
     },
     "execution_count": 9,
     "metadata": {},
     "output_type": "execute_result"
    },
    {
     "data": {
      "image/png": "[encoded data removed]",
      "text/plain": [
       "<Figure size 1440x360 with 1 Axes>"
      ]
     },
     "metadata": {
      "needs_background": "light"
     },
     "output_type": "display_data"
    }
   ],
   "source": [
    "from sklearn.feature_selection import mutual_info_classif\n",
    "\n",
    "features = df.iloc[:, :10]\n",
    "\n",
    "imp = mutual_info_classif(features, df['STATUS'])\n",
    "\n",
    "plt.figure(figsize=[20,5])\n",
    "sns.barplot(x=features.columns, y=imp)"
   ]
  },
  {
   "cell_type": "markdown",
   "metadata": {},
   "source": [
    "**Split data to x and y**"
   ]
  },
  {
   "cell_type": "code",
   "execution_count": 10,
   "metadata": {},
   "outputs": [],
   "source": [
    "y = df.pop('STATUS')\n",
    "x = df.copy()"
   ]
  },
  {
   "cell_type": "code",
   "execution_count": 11,
   "metadata": {},
   "outputs": [],
   "source": [
    "from sklearn.model_selection import train_test_split\n",
    "\n",
    "x_train, x_test, y_train, y_test = train_test_split(x, y, test_size=0.2, random_state=1) \n",
    "x_train, x_val, y_train, y_val = train_test_split(x_train,y_train, test_size=0.2, random_state=1)"
   ]
  },
  {
   "cell_type": "code",
   "execution_count": 12,
   "metadata": {},
   "outputs": [],
   "source": [
    "%%capture\n",
    "from sklearn.preprocessing import StandardScaler\n",
    "ss=StandardScaler()\n",
    "x_train = ss.fit_transform(x_train)\n",
    "x_test = ss.fit_transform(x_test)\n",
    "x_val = ss.fit_transform(x_val)"
   ]
  },
  {
   "cell_type": "markdown",
   "metadata": {},
   "source": [
    "**Model**"
   ]
  },
  {
   "cell_type": "code",
   "execution_count": 13,
   "metadata": {},
   "outputs": [],
   "source": [
    "from tensorflow.keras import Sequential\n",
    "from keras import layers\n",
    "from keras.wrappers.scikit_learn import KerasClassifier \n",
    "from sklearn.model_selection import GridSearchCV\n",
    "\n",
    "def create_model():\n",
    "    model = Sequential()\n",
    "\n",
    "    model.add(layers.Input(shape=(9,)))\n",
    "    model.add(layers.Dense(5, activation='relu'))\n",
    "    model.add(layers.Dense(1, activation='sigmoid'))\n",
    "\n",
    "    model.compile(optimizer='adam', loss='binary_crossentropy', metrics=['accuracy'])\n",
    "\n",
    "    return model"
   ]
  },
  {
   "cell_type": "code",
   "execution_count": null,
   "metadata": {},
   "outputs": [],
   "source": [
    "%%capture \n",
    "test_model = KerasClassifier(build_fn=create_model)\n",
    "\n",
    "batch_size = [32,64,128]\n",
    "epochs = [50,100,150]\n",
    "\n",
    "param_grid = dict(batch_size=batch_size, epochs=epochs)\n",
    "\n",
    "grid = GridSearchCV(estimator=test_model, param_grid=param_grid, n_jobs=-1, cv=3)\n",
    "grid_result = grid.fit(x, y)"
   ]
  },
  {
   "cell_type": "code",
   "execution_count": null,
   "metadata": {},
   "outputs": [
    {
     "data": {
      "text/plain": [
       "{'batch_size': 64, 'epochs': 50}"
      ]
     },
     "execution_count": 99,
     "metadata": {},
     "output_type": "execute_result"
    }
   ],
   "source": [
    "grid_result.best_params_"
   ]
  },
  {
   "cell_type": "code",
   "execution_count": 15,
   "metadata": {},
   "outputs": [
    {
     "name": "stdout",
     "output_type": "stream",
     "text": [
      "Epoch 1/50\n",
      "175/175 [==============================] - 1s 1ms/step - loss: 0.6086 - accuracy: 0.6769 - val_loss: 0.5096 - val_accuracy: 0.7753\n",
      "Epoch 2/50\n",
      "175/175 [==============================] - 0s 879us/step - loss: 0.4418 - accuracy: 0.8197 - val_loss: 0.4048 - val_accuracy: 0.8305\n",
      "Epoch 3/50\n",
      "175/175 [==============================] - 0s 845us/step - loss: 0.3591 - accuracy: 0.8542 - val_loss: 0.3426 - val_accuracy: 0.8513\n",
      "Epoch 4/50\n",
      "175/175 [==============================] - 0s 862us/step - loss: 0.3106 - accuracy: 0.8668 - val_loss: 0.3058 - val_accuracy: 0.8613\n",
      "Epoch 5/50\n",
      "175/175 [==============================] - 0s 848us/step - loss: 0.2813 - accuracy: 0.8748 - val_loss: 0.2811 - val_accuracy: 0.8699\n",
      "Epoch 6/50\n",
      "175/175 [==============================] - 0s 863us/step - loss: 0.2616 - accuracy: 0.8819 - val_loss: 0.2630 - val_accuracy: 0.8753\n",
      "Epoch 7/50\n",
      "175/175 [==============================] - 0s 839us/step - loss: 0.2474 - accuracy: 0.8868 - val_loss: 0.2494 - val_accuracy: 0.8868\n",
      "Epoch 8/50\n",
      "175/175 [==============================] - 0s 864us/step - loss: 0.2369 - accuracy: 0.8920 - val_loss: 0.2392 - val_accuracy: 0.8914\n",
      "Epoch 9/50\n",
      "175/175 [==============================] - 0s 851us/step - loss: 0.2292 - accuracy: 0.8943 - val_loss: 0.2314 - val_accuracy: 0.8954\n",
      "Epoch 10/50\n",
      "175/175 [==============================] - 0s 821us/step - loss: 0.2234 - accuracy: 0.8972 - val_loss: 0.2255 - val_accuracy: 0.8979\n",
      "Epoch 11/50\n",
      "175/175 [==============================] - 0s 829us/step - loss: 0.2189 - accuracy: 0.9006 - val_loss: 0.2204 - val_accuracy: 0.9000\n",
      "Epoch 12/50\n",
      "175/175 [==============================] - 0s 839us/step - loss: 0.2147 - accuracy: 0.9024 - val_loss: 0.2160 - val_accuracy: 0.9025\n",
      "Epoch 13/50\n",
      "175/175 [==============================] - 0s 828us/step - loss: 0.2107 - accuracy: 0.9043 - val_loss: 0.2120 - val_accuracy: 0.9040\n",
      "Epoch 14/50\n",
      "175/175 [==============================] - 0s 870us/step - loss: 0.2070 - accuracy: 0.9059 - val_loss: 0.2077 - val_accuracy: 0.9040\n",
      "Epoch 15/50\n",
      "175/175 [==============================] - 0s 888us/step - loss: 0.2031 - accuracy: 0.9081 - val_loss: 0.2037 - val_accuracy: 0.9054\n",
      "Epoch 16/50\n",
      "175/175 [==============================] - 0s 921us/step - loss: 0.1992 - accuracy: 0.9092 - val_loss: 0.2000 - val_accuracy: 0.9065\n",
      "Epoch 17/50\n",
      "175/175 [==============================] - 0s 891us/step - loss: 0.1955 - accuracy: 0.9109 - val_loss: 0.1967 - val_accuracy: 0.9068\n",
      "Epoch 18/50\n",
      "175/175 [==============================] - 0s 821us/step - loss: 0.1915 - accuracy: 0.9141 - val_loss: 0.1933 - val_accuracy: 0.9097\n",
      "Epoch 19/50\n",
      "175/175 [==============================] - 0s 817us/step - loss: 0.1881 - accuracy: 0.9164 - val_loss: 0.1904 - val_accuracy: 0.9111\n",
      "Epoch 20/50\n",
      "175/175 [==============================] - 0s 888us/step - loss: 0.1850 - accuracy: 0.9180 - val_loss: 0.1880 - val_accuracy: 0.9140\n",
      "Epoch 21/50\n",
      "175/175 [==============================] - 0s 813us/step - loss: 0.1821 - accuracy: 0.9190 - val_loss: 0.1858 - val_accuracy: 0.9144\n",
      "Epoch 22/50\n",
      "175/175 [==============================] - 0s 849us/step - loss: 0.1797 - accuracy: 0.9199 - val_loss: 0.1840 - val_accuracy: 0.9158\n",
      "Epoch 23/50\n",
      "175/175 [==============================] - 0s 827us/step - loss: 0.1774 - accuracy: 0.9218 - val_loss: 0.1821 - val_accuracy: 0.9158\n",
      "Epoch 24/50\n",
      "175/175 [==============================] - 0s 848us/step - loss: 0.1755 - accuracy: 0.9222 - val_loss: 0.1810 - val_accuracy: 0.9158\n",
      "Epoch 25/50\n",
      "175/175 [==============================] - 0s 856us/step - loss: 0.1736 - accuracy: 0.9229 - val_loss: 0.1795 - val_accuracy: 0.9147\n",
      "Epoch 26/50\n",
      "175/175 [==============================] - 0s 822us/step - loss: 0.1719 - accuracy: 0.9244 - val_loss: 0.1789 - val_accuracy: 0.9144\n",
      "Epoch 27/50\n",
      "175/175 [==============================] - 0s 835us/step - loss: 0.1705 - accuracy: 0.9244 - val_loss: 0.1776 - val_accuracy: 0.9137\n",
      "Epoch 28/50\n",
      "175/175 [==============================] - 0s 807us/step - loss: 0.1691 - accuracy: 0.9248 - val_loss: 0.1761 - val_accuracy: 0.9144\n",
      "Epoch 29/50\n",
      "175/175 [==============================] - 0s 1ms/step - loss: 0.1682 - accuracy: 0.9253 - val_loss: 0.1755 - val_accuracy: 0.9158\n",
      "Epoch 30/50\n",
      "175/175 [==============================] - 0s 943us/step - loss: 0.1670 - accuracy: 0.9255 - val_loss: 0.1745 - val_accuracy: 0.9158\n",
      "Epoch 31/50\n",
      "175/175 [==============================] - 0s 896us/step - loss: 0.1661 - accuracy: 0.9256 - val_loss: 0.1736 - val_accuracy: 0.9176\n",
      "Epoch 32/50\n",
      "175/175 [==============================] - 0s 862us/step - loss: 0.1652 - accuracy: 0.9273 - val_loss: 0.1731 - val_accuracy: 0.9162\n",
      "Epoch 33/50\n",
      "175/175 [==============================] - 0s 942us/step - loss: 0.1644 - accuracy: 0.9269 - val_loss: 0.1722 - val_accuracy: 0.9172\n",
      "Epoch 34/50\n",
      "175/175 [==============================] - 0s 886us/step - loss: 0.1635 - accuracy: 0.9283 - val_loss: 0.1714 - val_accuracy: 0.9180\n",
      "Epoch 35/50\n",
      "175/175 [==============================] - 0s 911us/step - loss: 0.1628 - accuracy: 0.9276 - val_loss: 0.1707 - val_accuracy: 0.9180\n",
      "Epoch 36/50\n",
      "175/175 [==============================] - 0s 877us/step - loss: 0.1619 - accuracy: 0.9287 - val_loss: 0.1702 - val_accuracy: 0.9197\n",
      "Epoch 37/50\n",
      "175/175 [==============================] - 0s 904us/step - loss: 0.1616 - accuracy: 0.9299 - val_loss: 0.1692 - val_accuracy: 0.9208\n",
      "Epoch 38/50\n",
      "175/175 [==============================] - 0s 933us/step - loss: 0.1607 - accuracy: 0.9295 - val_loss: 0.1686 - val_accuracy: 0.9197\n",
      "Epoch 39/50\n",
      "175/175 [==============================] - 0s 866us/step - loss: 0.1600 - accuracy: 0.9305 - val_loss: 0.1682 - val_accuracy: 0.9215\n",
      "Epoch 40/50\n",
      "175/175 [==============================] - 0s 915us/step - loss: 0.1595 - accuracy: 0.9303 - val_loss: 0.1678 - val_accuracy: 0.9208\n",
      "Epoch 41/50\n",
      "175/175 [==============================] - 0s 888us/step - loss: 0.1588 - accuracy: 0.9304 - val_loss: 0.1671 - val_accuracy: 0.9219\n",
      "Epoch 42/50\n",
      "175/175 [==============================] - 0s 892us/step - loss: 0.1584 - accuracy: 0.9300 - val_loss: 0.1667 - val_accuracy: 0.9223\n",
      "Epoch 43/50\n",
      "175/175 [==============================] - 0s 900us/step - loss: 0.1578 - accuracy: 0.9316 - val_loss: 0.1661 - val_accuracy: 0.9223\n",
      "Epoch 44/50\n",
      "175/175 [==============================] - 0s 943us/step - loss: 0.1572 - accuracy: 0.9316 - val_loss: 0.1657 - val_accuracy: 0.9201\n",
      "Epoch 45/50\n",
      "175/175 [==============================] - 0s 903us/step - loss: 0.1567 - accuracy: 0.9307 - val_loss: 0.1650 - val_accuracy: 0.9223\n",
      "Epoch 46/50\n",
      "175/175 [==============================] - 0s 913us/step - loss: 0.1563 - accuracy: 0.9316 - val_loss: 0.1645 - val_accuracy: 0.9215\n",
      "Epoch 47/50\n",
      "175/175 [==============================] - 0s 1ms/step - loss: 0.1560 - accuracy: 0.9322 - val_loss: 0.1641 - val_accuracy: 0.9233\n",
      "Epoch 48/50\n",
      "175/175 [==============================] - 0s 1ms/step - loss: 0.1555 - accuracy: 0.9326 - val_loss: 0.1638 - val_accuracy: 0.9233\n",
      "Epoch 49/50\n",
      "175/175 [==============================] - 0s 1ms/step - loss: 0.1550 - accuracy: 0.9324 - val_loss: 0.1632 - val_accuracy: 0.9233\n",
      "Epoch 50/50\n",
      "175/175 [==============================] - 0s 1ms/step - loss: 0.1548 - accuracy: 0.9324 - val_loss: 0.1630 - val_accuracy: 0.9244\n"
     ]
    }
   ],
   "source": [
    "model = create_model()\n",
    "\n",
    "history = model.fit(x_train, y_train, epochs=50, batch_size=64, validation_data=(x_val, y_val))"
   ]
  },
  {
   "cell_type": "markdown",
   "metadata": {},
   "source": [
    "**Model evaluation**"
   ]
  },
  {
   "cell_type": "code",
   "execution_count": 16,
   "metadata": {},
   "outputs": [
    {
     "name": "stdout",
     "output_type": "stream",
     "text": [
      "110/110 [==============================] - 0s 645us/step - loss: 0.1710 - accuracy: 0.9203\n"
     ]
    },
    {
     "data": {
      "text/plain": [
       "[0.1710425317287445, 0.920320987701416]"
      ]
     },
     "execution_count": 16,
     "metadata": {},
     "output_type": "execute_result"
    }
   ],
   "source": [
    "model.evaluate(x_test, y_test)"
   ]
  },
  {
   "cell_type": "code",
   "execution_count": 17,
   "metadata": {},
   "outputs": [
    {
     "data": {
      "text/plain": [
       "(0.0, 1.0)"
      ]
     },
     "execution_count": 17,
     "metadata": {},
     "output_type": "execute_result"
    },
    {
     "data": {
      "image/png": "[encoded data removed]",
      "text/plain": [
       "<Figure size 1800x360 with 1 Axes>"
      ]
     },
     "metadata": {
      "needs_background": "light"
     },
     "output_type": "display_data"
    }
   ],
   "source": [
    "pd.DataFrame(history.history).plot(figsize=(25,5))\n",
    "plt.grid(True)\n",
    "plt.gca().set_ylim(0,1)"
   ]
  },
  {
   "cell_type": "code",
   "execution_count": 18,
   "metadata": {},
   "outputs": [
    {
     "data": {
      "text/plain": [
       "<AxesSubplot:>"
      ]
     },
     "execution_count": 18,
     "metadata": {},
     "output_type": "execute_result"
    },
    {
     "data": {
      "image/png": "[encoded data removed]",
      "text/plain": [
       "<Figure size 432x288 with 2 Axes>"
      ]
     },
     "metadata": {
      "needs_background": "light"
     },
     "output_type": "display_data"
    }
   ],
   "source": [
    "from sklearn.metrics import confusion_matrix\n",
    "\n",
    "y_true = np.array(y_test).reshape([len(y_test), 1])\n",
    "y_pred = [1 if x>.5 else 0 for x in model.predict(x_test)]\n",
    "\n",
    "cm = confusion_matrix(y_true, y_pred)\n",
    "\n",
    "sns.heatmap(cm/np.sum(cm), annot=True)"
   ]
  }
 ],
 "metadata": {
  "interpreter": {
   "hash": "21a57429ec3e8645e55c73f48c0602291fe7ef492787aa20454f455a0eaec7b8"
  },
  "kernelspec": {
   "display_name": "Python 3.9.7 64-bit",
   "language": "python",
   "name": "python3"
  },
  "language_info": {
   "codemirror_mode": {
    "name": "ipython",
    "version": 3
   },
   "file_extension": ".py",
   "mimetype": "text/x-python",
   "name": "python",
   "nbconvert_exporter": "python",
   "pygments_lexer": "ipython3",
   "version": "3.9.7"
  },
  "orig_nbformat": 4
 },
 "nbformat": 4,
 "nbformat_minor": 2
}
