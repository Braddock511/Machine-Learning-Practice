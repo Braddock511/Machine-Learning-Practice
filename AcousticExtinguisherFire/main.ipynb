{
 "cells": [
  {
   "cell_type": "code",
   "execution_count": 1,
   "metadata": {},
   "outputs": [],
   "source": [
    "import pandas as pd\n",
    "import matplotlib.pyplot as plt\n",
    "import seaborn as sns\n",
    "import numpy as np"
   ]
  },
  {
   "cell_type": "markdown",
   "metadata": {},
   "source": [
    "**Import data**"
   ]
  },
  {
   "cell_type": "code",
   "execution_count": 2,
   "metadata": {},
   "outputs": [],
   "source": [
    "df = pd.read_excel('Fire.xlsx')"
   ]
  },
  {
   "cell_type": "code",
   "execution_count": 3,
   "metadata": {},
   "outputs": [
    {
     "data": {
      "text/html": [
       "<div>\n",
       "<style scoped>\n",
       "    .dataframe tbody tr th:only-of-type {\n",
       "        vertical-align: middle;\n",
       "    }\n",
       "\n",
       "    .dataframe tbody tr th {\n",
       "        vertical-align: top;\n",
       "    }\n",
       "\n",
       "    .dataframe thead th {\n",
       "        text-align: right;\n",
       "    }\n",
       "</style>\n",
       "<table border=\"1\" class=\"dataframe\">\n",
       "  <thead>\n",
       "    <tr style=\"text-align: right;\">\n",
       "      <th></th>\n",
       "      <th>SIZE</th>\n",
       "      <th>FUEL</th>\n",
       "      <th>DISTANCE</th>\n",
       "      <th>DESIBEL</th>\n",
       "      <th>AIRFLOW</th>\n",
       "      <th>FREQUENCY</th>\n",
       "      <th>STATUS</th>\n",
       "    </tr>\n",
       "  </thead>\n",
       "  <tbody>\n",
       "    <tr>\n",
       "      <th>0</th>\n",
       "      <td>1</td>\n",
       "      <td>gasoline</td>\n",
       "      <td>10</td>\n",
       "      <td>96</td>\n",
       "      <td>0.0</td>\n",
       "      <td>75</td>\n",
       "      <td>0</td>\n",
       "    </tr>\n",
       "    <tr>\n",
       "      <th>1</th>\n",
       "      <td>1</td>\n",
       "      <td>gasoline</td>\n",
       "      <td>10</td>\n",
       "      <td>96</td>\n",
       "      <td>0.0</td>\n",
       "      <td>72</td>\n",
       "      <td>1</td>\n",
       "    </tr>\n",
       "    <tr>\n",
       "      <th>2</th>\n",
       "      <td>1</td>\n",
       "      <td>gasoline</td>\n",
       "      <td>10</td>\n",
       "      <td>96</td>\n",
       "      <td>2.6</td>\n",
       "      <td>70</td>\n",
       "      <td>1</td>\n",
       "    </tr>\n",
       "    <tr>\n",
       "      <th>3</th>\n",
       "      <td>1</td>\n",
       "      <td>gasoline</td>\n",
       "      <td>10</td>\n",
       "      <td>96</td>\n",
       "      <td>3.2</td>\n",
       "      <td>68</td>\n",
       "      <td>1</td>\n",
       "    </tr>\n",
       "    <tr>\n",
       "      <th>4</th>\n",
       "      <td>1</td>\n",
       "      <td>gasoline</td>\n",
       "      <td>10</td>\n",
       "      <td>109</td>\n",
       "      <td>4.5</td>\n",
       "      <td>67</td>\n",
       "      <td>1</td>\n",
       "    </tr>\n",
       "    <tr>\n",
       "      <th>...</th>\n",
       "      <td>...</td>\n",
       "      <td>...</td>\n",
       "      <td>...</td>\n",
       "      <td>...</td>\n",
       "      <td>...</td>\n",
       "      <td>...</td>\n",
       "      <td>...</td>\n",
       "    </tr>\n",
       "    <tr>\n",
       "      <th>17437</th>\n",
       "      <td>7</td>\n",
       "      <td>lpg</td>\n",
       "      <td>190</td>\n",
       "      <td>86</td>\n",
       "      <td>2.2</td>\n",
       "      <td>5</td>\n",
       "      <td>0</td>\n",
       "    </tr>\n",
       "    <tr>\n",
       "      <th>17438</th>\n",
       "      <td>7</td>\n",
       "      <td>lpg</td>\n",
       "      <td>190</td>\n",
       "      <td>84</td>\n",
       "      <td>2.0</td>\n",
       "      <td>4</td>\n",
       "      <td>0</td>\n",
       "    </tr>\n",
       "    <tr>\n",
       "      <th>17439</th>\n",
       "      <td>7</td>\n",
       "      <td>lpg</td>\n",
       "      <td>190</td>\n",
       "      <td>80</td>\n",
       "      <td>1.5</td>\n",
       "      <td>3</td>\n",
       "      <td>0</td>\n",
       "    </tr>\n",
       "    <tr>\n",
       "      <th>17440</th>\n",
       "      <td>7</td>\n",
       "      <td>lpg</td>\n",
       "      <td>190</td>\n",
       "      <td>76</td>\n",
       "      <td>0.4</td>\n",
       "      <td>2</td>\n",
       "      <td>0</td>\n",
       "    </tr>\n",
       "    <tr>\n",
       "      <th>17441</th>\n",
       "      <td>7</td>\n",
       "      <td>lpg</td>\n",
       "      <td>190</td>\n",
       "      <td>72</td>\n",
       "      <td>0.0</td>\n",
       "      <td>1</td>\n",
       "      <td>0</td>\n",
       "    </tr>\n",
       "  </tbody>\n",
       "</table>\n",
       "<p>17442 rows × 7 columns</p>\n",
       "</div>"
      ],
      "text/plain": [
       "       SIZE      FUEL  DISTANCE  DESIBEL  AIRFLOW  FREQUENCY  STATUS\n",
       "0         1  gasoline        10       96      0.0         75       0\n",
       "1         1  gasoline        10       96      0.0         72       1\n",
       "2         1  gasoline        10       96      2.6         70       1\n",
       "3         1  gasoline        10       96      3.2         68       1\n",
       "4         1  gasoline        10      109      4.5         67       1\n",
       "...     ...       ...       ...      ...      ...        ...     ...\n",
       "17437     7       lpg       190       86      2.2          5       0\n",
       "17438     7       lpg       190       84      2.0          4       0\n",
       "17439     7       lpg       190       80      1.5          3       0\n",
       "17440     7       lpg       190       76      0.4          2       0\n",
       "17441     7       lpg       190       72      0.0          1       0\n",
       "\n",
       "[17442 rows x 7 columns]"
      ]
     },
     "execution_count": 3,
     "metadata": {},
     "output_type": "execute_result"
    }
   ],
   "source": [
    "df"
   ]
  },
  {
   "cell_type": "code",
   "execution_count": 4,
   "metadata": {},
   "outputs": [
    {
     "name": "stdout",
     "output_type": "stream",
     "text": [
      "<class 'pandas.core.frame.DataFrame'>\n",
      "RangeIndex: 17442 entries, 0 to 17441\n",
      "Data columns (total 7 columns):\n",
      " #   Column     Non-Null Count  Dtype  \n",
      "---  ------     --------------  -----  \n",
      " 0   SIZE       17442 non-null  int64  \n",
      " 1   FUEL       17442 non-null  object \n",
      " 2   DISTANCE   17442 non-null  int64  \n",
      " 3   DESIBEL    17442 non-null  int64  \n",
      " 4   AIRFLOW    17442 non-null  float64\n",
      " 5   FREQUENCY  17442 non-null  int64  \n",
      " 6   STATUS     17442 non-null  int64  \n",
      "dtypes: float64(1), int64(5), object(1)\n",
      "memory usage: 954.0+ KB\n"
     ]
    }
   ],
   "source": [
    "df.info()"
   ]
  },
  {
   "cell_type": "code",
   "execution_count": 5,
   "metadata": {},
   "outputs": [
    {
     "data": {
      "text/html": [
       "<div>\n",
       "<style scoped>\n",
       "    .dataframe tbody tr th:only-of-type {\n",
       "        vertical-align: middle;\n",
       "    }\n",
       "\n",
       "    .dataframe tbody tr th {\n",
       "        vertical-align: top;\n",
       "    }\n",
       "\n",
       "    .dataframe thead th {\n",
       "        text-align: right;\n",
       "    }\n",
       "</style>\n",
       "<table border=\"1\" class=\"dataframe\">\n",
       "  <thead>\n",
       "    <tr style=\"text-align: right;\">\n",
       "      <th></th>\n",
       "      <th>SIZE</th>\n",
       "      <th>DISTANCE</th>\n",
       "      <th>DESIBEL</th>\n",
       "      <th>AIRFLOW</th>\n",
       "      <th>FREQUENCY</th>\n",
       "      <th>STATUS</th>\n",
       "    </tr>\n",
       "  </thead>\n",
       "  <tbody>\n",
       "    <tr>\n",
       "      <th>count</th>\n",
       "      <td>17442.000000</td>\n",
       "      <td>17442.000000</td>\n",
       "      <td>17442.000000</td>\n",
       "      <td>17442.000000</td>\n",
       "      <td>17442.000000</td>\n",
       "      <td>17442.000000</td>\n",
       "    </tr>\n",
       "    <tr>\n",
       "      <th>mean</th>\n",
       "      <td>3.411765</td>\n",
       "      <td>100.000000</td>\n",
       "      <td>96.379142</td>\n",
       "      <td>6.975634</td>\n",
       "      <td>31.611111</td>\n",
       "      <td>0.497821</td>\n",
       "    </tr>\n",
       "    <tr>\n",
       "      <th>std</th>\n",
       "      <td>1.750977</td>\n",
       "      <td>54.773826</td>\n",
       "      <td>8.164096</td>\n",
       "      <td>4.736169</td>\n",
       "      <td>20.939149</td>\n",
       "      <td>0.500010</td>\n",
       "    </tr>\n",
       "    <tr>\n",
       "      <th>min</th>\n",
       "      <td>1.000000</td>\n",
       "      <td>10.000000</td>\n",
       "      <td>72.000000</td>\n",
       "      <td>0.000000</td>\n",
       "      <td>1.000000</td>\n",
       "      <td>0.000000</td>\n",
       "    </tr>\n",
       "    <tr>\n",
       "      <th>25%</th>\n",
       "      <td>2.000000</td>\n",
       "      <td>50.000000</td>\n",
       "      <td>90.000000</td>\n",
       "      <td>3.200000</td>\n",
       "      <td>14.000000</td>\n",
       "      <td>0.000000</td>\n",
       "    </tr>\n",
       "    <tr>\n",
       "      <th>50%</th>\n",
       "      <td>3.000000</td>\n",
       "      <td>100.000000</td>\n",
       "      <td>95.000000</td>\n",
       "      <td>5.800000</td>\n",
       "      <td>27.500000</td>\n",
       "      <td>0.000000</td>\n",
       "    </tr>\n",
       "    <tr>\n",
       "      <th>75%</th>\n",
       "      <td>5.000000</td>\n",
       "      <td>150.000000</td>\n",
       "      <td>104.000000</td>\n",
       "      <td>11.200000</td>\n",
       "      <td>47.000000</td>\n",
       "      <td>1.000000</td>\n",
       "    </tr>\n",
       "    <tr>\n",
       "      <th>max</th>\n",
       "      <td>7.000000</td>\n",
       "      <td>190.000000</td>\n",
       "      <td>113.000000</td>\n",
       "      <td>17.000000</td>\n",
       "      <td>75.000000</td>\n",
       "      <td>1.000000</td>\n",
       "    </tr>\n",
       "  </tbody>\n",
       "</table>\n",
       "</div>"
      ],
      "text/plain": [
       "               SIZE      DISTANCE       DESIBEL       AIRFLOW     FREQUENCY  \\\n",
       "count  17442.000000  17442.000000  17442.000000  17442.000000  17442.000000   \n",
       "mean       3.411765    100.000000     96.379142      6.975634     31.611111   \n",
       "std        1.750977     54.773826      8.164096      4.736169     20.939149   \n",
       "min        1.000000     10.000000     72.000000      0.000000      1.000000   \n",
       "25%        2.000000     50.000000     90.000000      3.200000     14.000000   \n",
       "50%        3.000000    100.000000     95.000000      5.800000     27.500000   \n",
       "75%        5.000000    150.000000    104.000000     11.200000     47.000000   \n",
       "max        7.000000    190.000000    113.000000     17.000000     75.000000   \n",
       "\n",
       "             STATUS  \n",
       "count  17442.000000  \n",
       "mean       0.497821  \n",
       "std        0.500010  \n",
       "min        0.000000  \n",
       "25%        0.000000  \n",
       "50%        0.000000  \n",
       "75%        1.000000  \n",
       "max        1.000000  "
      ]
     },
     "execution_count": 5,
     "metadata": {},
     "output_type": "execute_result"
    }
   ],
   "source": [
    "df.describe()"
   ]
  },
  {
   "cell_type": "markdown",
   "metadata": {},
   "source": [
    "**Convert type column 'FUEL' to int**"
   ]
  },
  {
   "cell_type": "code",
   "execution_count": 6,
   "metadata": {},
   "outputs": [
    {
     "data": {
      "text/plain": [
       "array(['gasoline', 'thinner', 'kerosene', 'lpg'], dtype=object)"
      ]
     },
     "execution_count": 6,
     "metadata": {},
     "output_type": "execute_result"
    }
   ],
   "source": [
    "df['FUEL'].unique()"
   ]
  },
  {
   "cell_type": "code",
   "execution_count": 7,
   "metadata": {},
   "outputs": [],
   "source": [
    "df['FUEL'] = pd.Categorical(df['FUEL']).codes"
   ]
  },
  {
   "cell_type": "markdown",
   "metadata": {},
   "source": [
    "**Split data to x and y**"
   ]
  },
  {
   "cell_type": "code",
   "execution_count": 12,
   "metadata": {},
   "outputs": [],
   "source": [
    "y = df.pop('STATUS')\n",
    "x = df.copy()"
   ]
  },
  {
   "cell_type": "code",
   "execution_count": 13,
   "metadata": {},
   "outputs": [],
   "source": [
    "from sklearn.model_selection import train_test_split\n",
    "\n",
    "x_train, x_test, y_train, y_test = train_test_split(x, y, test_size=0.2, random_state=1) \n",
    "x_train, x_val, y_train, y_val = train_test_split(x_train,y_train, test_size=0.2, random_state=1)"
   ]
  },
  {
   "cell_type": "markdown",
   "metadata": {},
   "source": [
    "**Model**"
   ]
  },
  {
   "cell_type": "code",
   "execution_count": 52,
   "metadata": {},
   "outputs": [
    {
     "name": "stdout",
     "output_type": "stream",
     "text": [
      "Model: \"sequential_11\"\n",
      "_________________________________________________________________\n",
      " Layer (type)                Output Shape              Param #   \n",
      "=================================================================\n",
      " dense_39 (Dense)            (None, 10)                70        \n",
      "                                                                 \n",
      " dense_40 (Dense)            (None, 1)                 11        \n",
      "                                                                 \n",
      "=================================================================\n",
      "Total params: 81\n",
      "Trainable params: 81\n",
      "Non-trainable params: 0\n",
      "_________________________________________________________________\n"
     ]
    }
   ],
   "source": [
    "from tensorflow.keras import Sequential\n",
    "from keras import layers\n",
    "from keras.utils.vis_utils import plot_model\n",
    "\n",
    "model = Sequential()\n",
    "\n",
    "model.add(layers.Input(shape=(6,)))\n",
    "model.add(layers.Dense(10, activation='relu'))\n",
    "model.add(layers.Dense(1, activation='sigmoid'))\n",
    "\n",
    "plot_model(model, to_file='model_plot.png', show_shapes=True, show_layer_names=True)\n",
    "model.summary()"
   ]
  },
  {
   "cell_type": "code",
   "execution_count": 54,
   "metadata": {},
   "outputs": [
    {
     "name": "stdout",
     "output_type": "stream",
     "text": [
      "Epoch 1/100\n",
      "175/175 [==============================] - 1s 2ms/step - loss: 0.6865 - accuracy: 0.7925 - val_loss: 0.5016 - val_accuracy: 0.8338\n",
      "Epoch 2/100\n",
      "175/175 [==============================] - 0s 831us/step - loss: 0.4143 - accuracy: 0.8536 - val_loss: 0.3856 - val_accuracy: 0.8538\n",
      "Epoch 3/100\n",
      "175/175 [==============================] - 0s 843us/step - loss: 0.3344 - accuracy: 0.8662 - val_loss: 0.3204 - val_accuracy: 0.8656\n",
      "Epoch 4/100\n",
      "175/175 [==============================] - 0s 918us/step - loss: 0.2965 - accuracy: 0.8721 - val_loss: 0.2910 - val_accuracy: 0.8653\n",
      "Epoch 5/100\n",
      "175/175 [==============================] - 0s 819us/step - loss: 0.2844 - accuracy: 0.8733 - val_loss: 0.2967 - val_accuracy: 0.8696\n",
      "Epoch 6/100\n",
      "175/175 [==============================] - 0s 898us/step - loss: 0.2704 - accuracy: 0.8791 - val_loss: 0.2956 - val_accuracy: 0.8703\n",
      "Epoch 7/100\n",
      "175/175 [==============================] - 0s 1ms/step - loss: 0.2699 - accuracy: 0.8803 - val_loss: 0.2732 - val_accuracy: 0.8771\n",
      "Epoch 8/100\n",
      "175/175 [==============================] - 0s 830us/step - loss: 0.2716 - accuracy: 0.8774 - val_loss: 0.2733 - val_accuracy: 0.8782\n",
      "Epoch 9/100\n",
      "175/175 [==============================] - 0s 823us/step - loss: 0.2677 - accuracy: 0.8795 - val_loss: 0.2828 - val_accuracy: 0.8746\n",
      "Epoch 10/100\n",
      "175/175 [==============================] - 0s 851us/step - loss: 0.2670 - accuracy: 0.8821 - val_loss: 0.2777 - val_accuracy: 0.8753\n",
      "Epoch 11/100\n",
      "175/175 [==============================] - 0s 841us/step - loss: 0.2665 - accuracy: 0.8807 - val_loss: 0.2735 - val_accuracy: 0.8771\n",
      "Epoch 12/100\n",
      "175/175 [==============================] - 0s 909us/step - loss: 0.2651 - accuracy: 0.8825 - val_loss: 0.2773 - val_accuracy: 0.8767\n",
      "Epoch 13/100\n",
      "175/175 [==============================] - 0s 836us/step - loss: 0.2681 - accuracy: 0.8814 - val_loss: 0.2871 - val_accuracy: 0.8717\n",
      "Epoch 14/100\n",
      "175/175 [==============================] - 0s 1ms/step - loss: 0.2653 - accuracy: 0.8795 - val_loss: 0.2740 - val_accuracy: 0.8767\n",
      "Epoch 15/100\n",
      "175/175 [==============================] - 0s 840us/step - loss: 0.2670 - accuracy: 0.8779 - val_loss: 0.2886 - val_accuracy: 0.8721\n",
      "Epoch 16/100\n",
      "175/175 [==============================] - 0s 1ms/step - loss: 0.2686 - accuracy: 0.8791 - val_loss: 0.2728 - val_accuracy: 0.8789\n",
      "Epoch 17/100\n",
      "175/175 [==============================] - 0s 952us/step - loss: 0.2658 - accuracy: 0.8827 - val_loss: 0.2717 - val_accuracy: 0.8767\n",
      "Epoch 18/100\n",
      "175/175 [==============================] - 0s 826us/step - loss: 0.2639 - accuracy: 0.8820 - val_loss: 0.2709 - val_accuracy: 0.8767\n",
      "Epoch 19/100\n",
      "175/175 [==============================] - 0s 813us/step - loss: 0.2680 - accuracy: 0.8783 - val_loss: 0.2736 - val_accuracy: 0.8785\n",
      "Epoch 20/100\n",
      "175/175 [==============================] - 0s 869us/step - loss: 0.2666 - accuracy: 0.8819 - val_loss: 0.2723 - val_accuracy: 0.8775\n",
      "Epoch 21/100\n",
      "175/175 [==============================] - 0s 813us/step - loss: 0.2703 - accuracy: 0.8800 - val_loss: 0.2710 - val_accuracy: 0.8771\n",
      "Epoch 22/100\n",
      "175/175 [==============================] - 0s 790us/step - loss: 0.2678 - accuracy: 0.8801 - val_loss: 0.2714 - val_accuracy: 0.8782\n",
      "Epoch 23/100\n",
      "175/175 [==============================] - 0s 839us/step - loss: 0.2670 - accuracy: 0.8800 - val_loss: 0.2924 - val_accuracy: 0.8707\n",
      "Epoch 24/100\n",
      "175/175 [==============================] - 0s 783us/step - loss: 0.2670 - accuracy: 0.8811 - val_loss: 0.2744 - val_accuracy: 0.8767\n",
      "Epoch 25/100\n",
      "175/175 [==============================] - 0s 833us/step - loss: 0.2650 - accuracy: 0.8822 - val_loss: 0.2764 - val_accuracy: 0.8789\n",
      "Epoch 26/100\n",
      "175/175 [==============================] - 0s 810us/step - loss: 0.2681 - accuracy: 0.8818 - val_loss: 0.2746 - val_accuracy: 0.8803\n",
      "Epoch 27/100\n",
      "175/175 [==============================] - 0s 798us/step - loss: 0.2688 - accuracy: 0.8803 - val_loss: 0.2734 - val_accuracy: 0.8764\n",
      "Epoch 28/100\n",
      "175/175 [==============================] - 0s 816us/step - loss: 0.2710 - accuracy: 0.8794 - val_loss: 0.2791 - val_accuracy: 0.8750\n",
      "Epoch 29/100\n",
      "175/175 [==============================] - 0s 822us/step - loss: 0.2652 - accuracy: 0.8807 - val_loss: 0.2723 - val_accuracy: 0.8760\n",
      "Epoch 30/100\n",
      "175/175 [==============================] - 0s 872us/step - loss: 0.2638 - accuracy: 0.8815 - val_loss: 0.2740 - val_accuracy: 0.8793\n",
      "Epoch 31/100\n",
      "175/175 [==============================] - 0s 773us/step - loss: 0.2634 - accuracy: 0.8823 - val_loss: 0.2707 - val_accuracy: 0.8764\n",
      "Epoch 32/100\n",
      "175/175 [==============================] - 0s 831us/step - loss: 0.2627 - accuracy: 0.8825 - val_loss: 0.2786 - val_accuracy: 0.8760\n",
      "Epoch 33/100\n",
      "175/175 [==============================] - 0s 766us/step - loss: 0.2647 - accuracy: 0.8808 - val_loss: 0.2705 - val_accuracy: 0.8775\n",
      "Epoch 34/100\n",
      "175/175 [==============================] - 0s 794us/step - loss: 0.2651 - accuracy: 0.8797 - val_loss: 0.2816 - val_accuracy: 0.8746\n",
      "Epoch 35/100\n",
      "175/175 [==============================] - 0s 809us/step - loss: 0.2673 - accuracy: 0.8815 - val_loss: 0.2978 - val_accuracy: 0.8692\n",
      "Epoch 36/100\n",
      "175/175 [==============================] - 0s 800us/step - loss: 0.2624 - accuracy: 0.8821 - val_loss: 0.2741 - val_accuracy: 0.8767\n",
      "Epoch 37/100\n",
      "175/175 [==============================] - 0s 840us/step - loss: 0.2648 - accuracy: 0.8821 - val_loss: 0.2700 - val_accuracy: 0.8764\n",
      "Epoch 38/100\n",
      "175/175 [==============================] - 0s 796us/step - loss: 0.2655 - accuracy: 0.8803 - val_loss: 0.3073 - val_accuracy: 0.8671\n",
      "Epoch 39/100\n",
      "175/175 [==============================] - 0s 800us/step - loss: 0.2673 - accuracy: 0.8817 - val_loss: 0.2688 - val_accuracy: 0.8793\n",
      "Epoch 40/100\n",
      "175/175 [==============================] - 0s 784us/step - loss: 0.2613 - accuracy: 0.8821 - val_loss: 0.2953 - val_accuracy: 0.8681\n",
      "Epoch 41/100\n",
      "175/175 [==============================] - 0s 821us/step - loss: 0.2621 - accuracy: 0.8809 - val_loss: 0.2711 - val_accuracy: 0.8789\n",
      "Epoch 42/100\n",
      "175/175 [==============================] - 0s 799us/step - loss: 0.2632 - accuracy: 0.8796 - val_loss: 0.2719 - val_accuracy: 0.8796\n",
      "Epoch 43/100\n",
      "175/175 [==============================] - 0s 1ms/step - loss: 0.2626 - accuracy: 0.8819 - val_loss: 0.2696 - val_accuracy: 0.8782\n",
      "Epoch 44/100\n",
      "175/175 [==============================] - 0s 833us/step - loss: 0.2614 - accuracy: 0.8820 - val_loss: 0.2699 - val_accuracy: 0.8789\n",
      "Epoch 45/100\n",
      "175/175 [==============================] - 0s 828us/step - loss: 0.2678 - accuracy: 0.8814 - val_loss: 0.2707 - val_accuracy: 0.8807\n",
      "Epoch 46/100\n",
      "175/175 [==============================] - 0s 861us/step - loss: 0.2626 - accuracy: 0.8804 - val_loss: 0.2721 - val_accuracy: 0.8800\n",
      "Epoch 47/100\n",
      "175/175 [==============================] - 0s 881us/step - loss: 0.2625 - accuracy: 0.8817 - val_loss: 0.2702 - val_accuracy: 0.8800\n",
      "Epoch 48/100\n",
      "175/175 [==============================] - 0s 894us/step - loss: 0.2601 - accuracy: 0.8843 - val_loss: 0.2947 - val_accuracy: 0.8671\n",
      "Epoch 49/100\n",
      "175/175 [==============================] - 0s 804us/step - loss: 0.2683 - accuracy: 0.8797 - val_loss: 0.2811 - val_accuracy: 0.8750\n",
      "Epoch 50/100\n",
      "175/175 [==============================] - 0s 833us/step - loss: 0.2606 - accuracy: 0.8830 - val_loss: 0.2740 - val_accuracy: 0.8810\n",
      "Epoch 51/100\n",
      "175/175 [==============================] - 0s 820us/step - loss: 0.2638 - accuracy: 0.8812 - val_loss: 0.2666 - val_accuracy: 0.8789\n",
      "Epoch 52/100\n",
      "175/175 [==============================] - 0s 931us/step - loss: 0.2589 - accuracy: 0.8833 - val_loss: 0.2730 - val_accuracy: 0.8839\n",
      "Epoch 53/100\n",
      "175/175 [==============================] - 0s 818us/step - loss: 0.2584 - accuracy: 0.8866 - val_loss: 0.2683 - val_accuracy: 0.8810\n",
      "Epoch 54/100\n",
      "175/175 [==============================] - 0s 808us/step - loss: 0.2590 - accuracy: 0.8840 - val_loss: 0.2642 - val_accuracy: 0.8821\n",
      "Epoch 55/100\n",
      "175/175 [==============================] - 0s 843us/step - loss: 0.2585 - accuracy: 0.8836 - val_loss: 0.2743 - val_accuracy: 0.8818\n",
      "Epoch 56/100\n",
      "175/175 [==============================] - 0s 817us/step - loss: 0.2583 - accuracy: 0.8827 - val_loss: 0.2642 - val_accuracy: 0.8828\n",
      "Epoch 57/100\n",
      "175/175 [==============================] - 0s 828us/step - loss: 0.2586 - accuracy: 0.8837 - val_loss: 0.2671 - val_accuracy: 0.8793\n",
      "Epoch 58/100\n",
      "175/175 [==============================] - 0s 803us/step - loss: 0.2568 - accuracy: 0.8872 - val_loss: 0.2639 - val_accuracy: 0.8828\n",
      "Epoch 59/100\n",
      "175/175 [==============================] - 0s 867us/step - loss: 0.2578 - accuracy: 0.8871 - val_loss: 0.2629 - val_accuracy: 0.8836\n",
      "Epoch 60/100\n",
      "175/175 [==============================] - 0s 1ms/step - loss: 0.2595 - accuracy: 0.8860 - val_loss: 0.2995 - val_accuracy: 0.8628\n",
      "Epoch 61/100\n",
      "175/175 [==============================] - 0s 868us/step - loss: 0.2574 - accuracy: 0.8856 - val_loss: 0.2660 - val_accuracy: 0.8857\n",
      "Epoch 62/100\n",
      "175/175 [==============================] - 0s 1ms/step - loss: 0.2568 - accuracy: 0.8862 - val_loss: 0.2873 - val_accuracy: 0.8771\n",
      "Epoch 63/100\n",
      "175/175 [==============================] - 0s 1ms/step - loss: 0.2531 - accuracy: 0.8863 - val_loss: 0.2606 - val_accuracy: 0.8818\n",
      "Epoch 64/100\n",
      "175/175 [==============================] - 0s 1ms/step - loss: 0.2514 - accuracy: 0.8864 - val_loss: 0.2585 - val_accuracy: 0.8825\n",
      "Epoch 65/100\n",
      "175/175 [==============================] - 0s 1ms/step - loss: 0.2537 - accuracy: 0.8866 - val_loss: 0.2575 - val_accuracy: 0.8832\n",
      "Epoch 66/100\n",
      "175/175 [==============================] - 0s 842us/step - loss: 0.2520 - accuracy: 0.8892 - val_loss: 0.2615 - val_accuracy: 0.8875\n",
      "Epoch 67/100\n",
      "175/175 [==============================] - 0s 866us/step - loss: 0.2524 - accuracy: 0.8876 - val_loss: 0.2532 - val_accuracy: 0.8868\n",
      "Epoch 68/100\n",
      "175/175 [==============================] - 0s 862us/step - loss: 0.2486 - accuracy: 0.8895 - val_loss: 0.2569 - val_accuracy: 0.8871\n",
      "Epoch 69/100\n",
      "175/175 [==============================] - 0s 933us/step - loss: 0.2461 - accuracy: 0.8903 - val_loss: 0.2665 - val_accuracy: 0.8836\n",
      "Epoch 70/100\n",
      "175/175 [==============================] - 0s 852us/step - loss: 0.2453 - accuracy: 0.8911 - val_loss: 0.2504 - val_accuracy: 0.8868\n",
      "Epoch 71/100\n",
      "175/175 [==============================] - 0s 808us/step - loss: 0.2455 - accuracy: 0.8905 - val_loss: 0.2675 - val_accuracy: 0.8832\n",
      "Epoch 72/100\n",
      "175/175 [==============================] - 0s 916us/step - loss: 0.2444 - accuracy: 0.8917 - val_loss: 0.2489 - val_accuracy: 0.8900\n",
      "Epoch 73/100\n",
      "175/175 [==============================] - 0s 920us/step - loss: 0.2411 - accuracy: 0.8925 - val_loss: 0.2466 - val_accuracy: 0.8914\n",
      "Epoch 74/100\n",
      "175/175 [==============================] - 0s 1ms/step - loss: 0.2430 - accuracy: 0.8937 - val_loss: 0.2483 - val_accuracy: 0.8914\n",
      "Epoch 75/100\n",
      "175/175 [==============================] - 0s 852us/step - loss: 0.2384 - accuracy: 0.8956 - val_loss: 0.2434 - val_accuracy: 0.8922\n",
      "Epoch 76/100\n",
      "175/175 [==============================] - 0s 830us/step - loss: 0.2365 - accuracy: 0.8979 - val_loss: 0.2531 - val_accuracy: 0.8893\n",
      "Epoch 77/100\n",
      "175/175 [==============================] - 0s 831us/step - loss: 0.2340 - accuracy: 0.8996 - val_loss: 0.2408 - val_accuracy: 0.8950\n",
      "Epoch 78/100\n",
      "175/175 [==============================] - 0s 925us/step - loss: 0.2317 - accuracy: 0.8987 - val_loss: 0.2401 - val_accuracy: 0.8932\n",
      "Epoch 79/100\n",
      "175/175 [==============================] - 0s 943us/step - loss: 0.2337 - accuracy: 0.8980 - val_loss: 0.2383 - val_accuracy: 0.8943\n",
      "Epoch 80/100\n",
      "175/175 [==============================] - 0s 834us/step - loss: 0.2298 - accuracy: 0.8995 - val_loss: 0.2384 - val_accuracy: 0.8950\n",
      "Epoch 81/100\n",
      "175/175 [==============================] - 0s 873us/step - loss: 0.2288 - accuracy: 0.9008 - val_loss: 0.2355 - val_accuracy: 0.8939\n",
      "Epoch 82/100\n",
      "175/175 [==============================] - 0s 843us/step - loss: 0.2288 - accuracy: 0.9000 - val_loss: 0.2392 - val_accuracy: 0.8947\n",
      "Epoch 83/100\n",
      "175/175 [==============================] - 0s 856us/step - loss: 0.2281 - accuracy: 0.9008 - val_loss: 0.2384 - val_accuracy: 0.8950\n",
      "Epoch 84/100\n",
      "175/175 [==============================] - 0s 820us/step - loss: 0.2258 - accuracy: 0.9014 - val_loss: 0.2513 - val_accuracy: 0.8839\n",
      "Epoch 85/100\n",
      "175/175 [==============================] - 0s 1ms/step - loss: 0.2252 - accuracy: 0.9014 - val_loss: 0.2330 - val_accuracy: 0.8961\n",
      "Epoch 86/100\n",
      "175/175 [==============================] - 0s 852us/step - loss: 0.2289 - accuracy: 0.9011 - val_loss: 0.2378 - val_accuracy: 0.8925\n",
      "Epoch 87/100\n",
      "175/175 [==============================] - 0s 831us/step - loss: 0.2269 - accuracy: 0.9021 - val_loss: 0.2349 - val_accuracy: 0.8950\n",
      "Epoch 88/100\n",
      "175/175 [==============================] - 0s 911us/step - loss: 0.2253 - accuracy: 0.9011 - val_loss: 0.2369 - val_accuracy: 0.8947\n",
      "Epoch 89/100\n",
      "175/175 [==============================] - 0s 935us/step - loss: 0.2281 - accuracy: 0.9023 - val_loss: 0.2332 - val_accuracy: 0.8979\n",
      "Epoch 90/100\n",
      "175/175 [==============================] - 0s 832us/step - loss: 0.2230 - accuracy: 0.9008 - val_loss: 0.2315 - val_accuracy: 0.8961\n",
      "Epoch 91/100\n",
      "175/175 [==============================] - 0s 823us/step - loss: 0.2245 - accuracy: 0.9027 - val_loss: 0.2371 - val_accuracy: 0.8939\n",
      "Epoch 92/100\n",
      "175/175 [==============================] - 0s 1ms/step - loss: 0.2244 - accuracy: 0.9004 - val_loss: 0.2393 - val_accuracy: 0.8932\n",
      "Epoch 93/100\n",
      "175/175 [==============================] - 0s 862us/step - loss: 0.2221 - accuracy: 0.9023 - val_loss: 0.2354 - val_accuracy: 0.8961\n",
      "Epoch 94/100\n",
      "175/175 [==============================] - 0s 821us/step - loss: 0.2217 - accuracy: 0.9030 - val_loss: 0.2316 - val_accuracy: 0.8979\n",
      "Epoch 95/100\n",
      "175/175 [==============================] - 0s 951us/step - loss: 0.2234 - accuracy: 0.9025 - val_loss: 0.2315 - val_accuracy: 0.8961\n",
      "Epoch 96/100\n",
      "175/175 [==============================] - 0s 862us/step - loss: 0.2238 - accuracy: 0.9049 - val_loss: 0.2316 - val_accuracy: 0.8968\n",
      "Epoch 97/100\n",
      "175/175 [==============================] - 0s 804us/step - loss: 0.2220 - accuracy: 0.9030 - val_loss: 0.2303 - val_accuracy: 0.8965\n",
      "Epoch 98/100\n",
      "175/175 [==============================] - 0s 829us/step - loss: 0.2220 - accuracy: 0.9034 - val_loss: 0.2716 - val_accuracy: 0.8857\n",
      "Epoch 99/100\n",
      "175/175 [==============================] - 0s 891us/step - loss: 0.2244 - accuracy: 0.9032 - val_loss: 0.2311 - val_accuracy: 0.8979\n",
      "Epoch 100/100\n",
      "175/175 [==============================] - 0s 842us/step - loss: 0.2226 - accuracy: 0.9019 - val_loss: 0.2513 - val_accuracy: 0.8896\n"
     ]
    }
   ],
   "source": [
    "model.compile(optimizer='adam', loss='binary_crossentropy', metrics=['accuracy'])\n",
    "\n",
    "history = model.fit(x_train, y_train, epochs=100, batch_size=64, validation_data=(x_val, y_val))"
   ]
  },
  {
   "cell_type": "code",
   "execution_count": 55,
   "metadata": {},
   "outputs": [
    {
     "name": "stdout",
     "output_type": "stream",
     "text": [
      "110/110 [==============================] - 0s 723us/step - loss: 0.2426 - accuracy: 0.8928\n"
     ]
    },
    {
     "data": {
      "text/plain": [
       "[0.24262398481369019, 0.8928059339523315]"
      ]
     },
     "execution_count": 55,
     "metadata": {},
     "output_type": "execute_result"
    }
   ],
   "source": [
    "model.evaluate(x_test, y_test)"
   ]
  },
  {
   "cell_type": "markdown",
   "metadata": {},
   "source": [
    "**Model evaluation**"
   ]
  },
  {
   "cell_type": "code",
   "execution_count": 56,
   "metadata": {},
   "outputs": [
    {
     "data": {
      "text/plain": [
       "(0.0, 1.0)"
      ]
     },
     "execution_count": 56,
     "metadata": {},
     "output_type": "execute_result"
    },
    {
     "data": {
      "image/png": "[encoded data removed]",
      "text/plain": [
       "<Figure size 1800x360 with 1 Axes>"
      ]
     },
     "metadata": {
      "needs_background": "light"
     },
     "output_type": "display_data"
    }
   ],
   "source": [
    "pd.DataFrame(history.history).plot(figsize=(25,5))\n",
    "plt.grid(True)\n",
    "plt.gca().set_ylim(0,1)"
   ]
  },
  {
   "cell_type": "code",
   "execution_count": 58,
   "metadata": {},
   "outputs": [
    {
     "data": {
      "text/plain": [
       "<AxesSubplot:>"
      ]
     },
     "execution_count": 58,
     "metadata": {},
     "output_type": "execute_result"
    },
    {
     "data": {
      "image/png": "[encoded data removed]",
      "text/plain": [
       "<Figure size 432x288 with 2 Axes>"
      ]
     },
     "metadata": {
      "needs_background": "light"
     },
     "output_type": "display_data"
    }
   ],
   "source": [
    "from sklearn.metrics import confusion_matrix\n",
    "\n",
    "y_true = np.array(y_test).reshape([len(y_test), 1])\n",
    "y_pred = [1 if x>.5 else 0 for x in model.predict(x_test)]\n",
    "\n",
    "cm = confusion_matrix(y_true, y_pred)\n",
    "\n",
    "sns.heatmap(cm/np.sum(cm), annot=True)"
   ]
  }
 ],
 "metadata": {
  "interpreter": {
   "hash": "21a57429ec3e8645e55c73f48c0602291fe7ef492787aa20454f455a0eaec7b8"
  },
  "kernelspec": {
   "display_name": "Python 3.9.7 64-bit",
   "language": "python",
   "name": "python3"
  },
  "language_info": {
   "codemirror_mode": {
    "name": "ipython",
    "version": 3
   },
   "file_extension": ".py",
   "mimetype": "text/x-python",
   "name": "python",
   "nbconvert_exporter": "python",
   "pygments_lexer": "ipython3",
   "version": "3.9.7"
  },
  "orig_nbformat": 4
 },
 "nbformat": 4,
 "nbformat_minor": 2
}
