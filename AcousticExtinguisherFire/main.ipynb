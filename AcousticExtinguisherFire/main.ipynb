{
 "cells": [
  {
   "cell_type": "code",
   "execution_count": 175,
   "metadata": {},
   "outputs": [],
   "source": [
    "import pandas as pd\n",
    "import matplotlib.pyplot as plt\n",
    "import seaborn as sns\n",
    "import numpy as np"
   ]
  },
  {
   "cell_type": "markdown",
   "metadata": {},
   "source": [
    "**Import data**"
   ]
  },
  {
   "cell_type": "code",
   "execution_count": 176,
   "metadata": {},
   "outputs": [],
   "source": [
    "df = pd.read_excel('Fire.xlsx')"
   ]
  },
  {
   "cell_type": "code",
   "execution_count": 177,
   "metadata": {},
   "outputs": [
    {
     "data": {
      "text/html": [
       "<div>\n",
       "<style scoped>\n",
       "    .dataframe tbody tr th:only-of-type {\n",
       "        vertical-align: middle;\n",
       "    }\n",
       "\n",
       "    .dataframe tbody tr th {\n",
       "        vertical-align: top;\n",
       "    }\n",
       "\n",
       "    .dataframe thead th {\n",
       "        text-align: right;\n",
       "    }\n",
       "</style>\n",
       "<table border=\"1\" class=\"dataframe\">\n",
       "  <thead>\n",
       "    <tr style=\"text-align: right;\">\n",
       "      <th></th>\n",
       "      <th>SIZE</th>\n",
       "      <th>FUEL</th>\n",
       "      <th>DISTANCE</th>\n",
       "      <th>DESIBEL</th>\n",
       "      <th>AIRFLOW</th>\n",
       "      <th>FREQUENCY</th>\n",
       "      <th>STATUS</th>\n",
       "    </tr>\n",
       "  </thead>\n",
       "  <tbody>\n",
       "    <tr>\n",
       "      <th>0</th>\n",
       "      <td>1</td>\n",
       "      <td>gasoline</td>\n",
       "      <td>10</td>\n",
       "      <td>96</td>\n",
       "      <td>0.0</td>\n",
       "      <td>75</td>\n",
       "      <td>0</td>\n",
       "    </tr>\n",
       "    <tr>\n",
       "      <th>1</th>\n",
       "      <td>1</td>\n",
       "      <td>gasoline</td>\n",
       "      <td>10</td>\n",
       "      <td>96</td>\n",
       "      <td>0.0</td>\n",
       "      <td>72</td>\n",
       "      <td>1</td>\n",
       "    </tr>\n",
       "    <tr>\n",
       "      <th>2</th>\n",
       "      <td>1</td>\n",
       "      <td>gasoline</td>\n",
       "      <td>10</td>\n",
       "      <td>96</td>\n",
       "      <td>2.6</td>\n",
       "      <td>70</td>\n",
       "      <td>1</td>\n",
       "    </tr>\n",
       "    <tr>\n",
       "      <th>3</th>\n",
       "      <td>1</td>\n",
       "      <td>gasoline</td>\n",
       "      <td>10</td>\n",
       "      <td>96</td>\n",
       "      <td>3.2</td>\n",
       "      <td>68</td>\n",
       "      <td>1</td>\n",
       "    </tr>\n",
       "    <tr>\n",
       "      <th>4</th>\n",
       "      <td>1</td>\n",
       "      <td>gasoline</td>\n",
       "      <td>10</td>\n",
       "      <td>109</td>\n",
       "      <td>4.5</td>\n",
       "      <td>67</td>\n",
       "      <td>1</td>\n",
       "    </tr>\n",
       "    <tr>\n",
       "      <th>...</th>\n",
       "      <td>...</td>\n",
       "      <td>...</td>\n",
       "      <td>...</td>\n",
       "      <td>...</td>\n",
       "      <td>...</td>\n",
       "      <td>...</td>\n",
       "      <td>...</td>\n",
       "    </tr>\n",
       "    <tr>\n",
       "      <th>17437</th>\n",
       "      <td>7</td>\n",
       "      <td>lpg</td>\n",
       "      <td>190</td>\n",
       "      <td>86</td>\n",
       "      <td>2.2</td>\n",
       "      <td>5</td>\n",
       "      <td>0</td>\n",
       "    </tr>\n",
       "    <tr>\n",
       "      <th>17438</th>\n",
       "      <td>7</td>\n",
       "      <td>lpg</td>\n",
       "      <td>190</td>\n",
       "      <td>84</td>\n",
       "      <td>2.0</td>\n",
       "      <td>4</td>\n",
       "      <td>0</td>\n",
       "    </tr>\n",
       "    <tr>\n",
       "      <th>17439</th>\n",
       "      <td>7</td>\n",
       "      <td>lpg</td>\n",
       "      <td>190</td>\n",
       "      <td>80</td>\n",
       "      <td>1.5</td>\n",
       "      <td>3</td>\n",
       "      <td>0</td>\n",
       "    </tr>\n",
       "    <tr>\n",
       "      <th>17440</th>\n",
       "      <td>7</td>\n",
       "      <td>lpg</td>\n",
       "      <td>190</td>\n",
       "      <td>76</td>\n",
       "      <td>0.4</td>\n",
       "      <td>2</td>\n",
       "      <td>0</td>\n",
       "    </tr>\n",
       "    <tr>\n",
       "      <th>17441</th>\n",
       "      <td>7</td>\n",
       "      <td>lpg</td>\n",
       "      <td>190</td>\n",
       "      <td>72</td>\n",
       "      <td>0.0</td>\n",
       "      <td>1</td>\n",
       "      <td>0</td>\n",
       "    </tr>\n",
       "  </tbody>\n",
       "</table>\n",
       "<p>17442 rows × 7 columns</p>\n",
       "</div>"
      ],
      "text/plain": [
       "       SIZE      FUEL  DISTANCE  DESIBEL  AIRFLOW  FREQUENCY  STATUS\n",
       "0         1  gasoline        10       96      0.0         75       0\n",
       "1         1  gasoline        10       96      0.0         72       1\n",
       "2         1  gasoline        10       96      2.6         70       1\n",
       "3         1  gasoline        10       96      3.2         68       1\n",
       "4         1  gasoline        10      109      4.5         67       1\n",
       "...     ...       ...       ...      ...      ...        ...     ...\n",
       "17437     7       lpg       190       86      2.2          5       0\n",
       "17438     7       lpg       190       84      2.0          4       0\n",
       "17439     7       lpg       190       80      1.5          3       0\n",
       "17440     7       lpg       190       76      0.4          2       0\n",
       "17441     7       lpg       190       72      0.0          1       0\n",
       "\n",
       "[17442 rows x 7 columns]"
      ]
     },
     "execution_count": 177,
     "metadata": {},
     "output_type": "execute_result"
    }
   ],
   "source": [
    "df"
   ]
  },
  {
   "cell_type": "code",
   "execution_count": 178,
   "metadata": {},
   "outputs": [
    {
     "name": "stdout",
     "output_type": "stream",
     "text": [
      "<class 'pandas.core.frame.DataFrame'>\n",
      "RangeIndex: 17442 entries, 0 to 17441\n",
      "Data columns (total 7 columns):\n",
      " #   Column     Non-Null Count  Dtype  \n",
      "---  ------     --------------  -----  \n",
      " 0   SIZE       17442 non-null  int64  \n",
      " 1   FUEL       17442 non-null  object \n",
      " 2   DISTANCE   17442 non-null  int64  \n",
      " 3   DESIBEL    17442 non-null  int64  \n",
      " 4   AIRFLOW    17442 non-null  float64\n",
      " 5   FREQUENCY  17442 non-null  int64  \n",
      " 6   STATUS     17442 non-null  int64  \n",
      "dtypes: float64(1), int64(5), object(1)\n",
      "memory usage: 954.0+ KB\n"
     ]
    }
   ],
   "source": [
    "df.info()"
   ]
  },
  {
   "cell_type": "code",
   "execution_count": 179,
   "metadata": {},
   "outputs": [
    {
     "data": {
      "text/html": [
       "<div>\n",
       "<style scoped>\n",
       "    .dataframe tbody tr th:only-of-type {\n",
       "        vertical-align: middle;\n",
       "    }\n",
       "\n",
       "    .dataframe tbody tr th {\n",
       "        vertical-align: top;\n",
       "    }\n",
       "\n",
       "    .dataframe thead th {\n",
       "        text-align: right;\n",
       "    }\n",
       "</style>\n",
       "<table border=\"1\" class=\"dataframe\">\n",
       "  <thead>\n",
       "    <tr style=\"text-align: right;\">\n",
       "      <th></th>\n",
       "      <th>SIZE</th>\n",
       "      <th>DISTANCE</th>\n",
       "      <th>DESIBEL</th>\n",
       "      <th>AIRFLOW</th>\n",
       "      <th>FREQUENCY</th>\n",
       "      <th>STATUS</th>\n",
       "    </tr>\n",
       "  </thead>\n",
       "  <tbody>\n",
       "    <tr>\n",
       "      <th>count</th>\n",
       "      <td>17442.000000</td>\n",
       "      <td>17442.000000</td>\n",
       "      <td>17442.000000</td>\n",
       "      <td>17442.000000</td>\n",
       "      <td>17442.000000</td>\n",
       "      <td>17442.000000</td>\n",
       "    </tr>\n",
       "    <tr>\n",
       "      <th>mean</th>\n",
       "      <td>3.411765</td>\n",
       "      <td>100.000000</td>\n",
       "      <td>96.379142</td>\n",
       "      <td>6.975634</td>\n",
       "      <td>31.611111</td>\n",
       "      <td>0.497821</td>\n",
       "    </tr>\n",
       "    <tr>\n",
       "      <th>std</th>\n",
       "      <td>1.750977</td>\n",
       "      <td>54.773826</td>\n",
       "      <td>8.164096</td>\n",
       "      <td>4.736169</td>\n",
       "      <td>20.939149</td>\n",
       "      <td>0.500010</td>\n",
       "    </tr>\n",
       "    <tr>\n",
       "      <th>min</th>\n",
       "      <td>1.000000</td>\n",
       "      <td>10.000000</td>\n",
       "      <td>72.000000</td>\n",
       "      <td>0.000000</td>\n",
       "      <td>1.000000</td>\n",
       "      <td>0.000000</td>\n",
       "    </tr>\n",
       "    <tr>\n",
       "      <th>25%</th>\n",
       "      <td>2.000000</td>\n",
       "      <td>50.000000</td>\n",
       "      <td>90.000000</td>\n",
       "      <td>3.200000</td>\n",
       "      <td>14.000000</td>\n",
       "      <td>0.000000</td>\n",
       "    </tr>\n",
       "    <tr>\n",
       "      <th>50%</th>\n",
       "      <td>3.000000</td>\n",
       "      <td>100.000000</td>\n",
       "      <td>95.000000</td>\n",
       "      <td>5.800000</td>\n",
       "      <td>27.500000</td>\n",
       "      <td>0.000000</td>\n",
       "    </tr>\n",
       "    <tr>\n",
       "      <th>75%</th>\n",
       "      <td>5.000000</td>\n",
       "      <td>150.000000</td>\n",
       "      <td>104.000000</td>\n",
       "      <td>11.200000</td>\n",
       "      <td>47.000000</td>\n",
       "      <td>1.000000</td>\n",
       "    </tr>\n",
       "    <tr>\n",
       "      <th>max</th>\n",
       "      <td>7.000000</td>\n",
       "      <td>190.000000</td>\n",
       "      <td>113.000000</td>\n",
       "      <td>17.000000</td>\n",
       "      <td>75.000000</td>\n",
       "      <td>1.000000</td>\n",
       "    </tr>\n",
       "  </tbody>\n",
       "</table>\n",
       "</div>"
      ],
      "text/plain": [
       "               SIZE      DISTANCE       DESIBEL       AIRFLOW     FREQUENCY  \\\n",
       "count  17442.000000  17442.000000  17442.000000  17442.000000  17442.000000   \n",
       "mean       3.411765    100.000000     96.379142      6.975634     31.611111   \n",
       "std        1.750977     54.773826      8.164096      4.736169     20.939149   \n",
       "min        1.000000     10.000000     72.000000      0.000000      1.000000   \n",
       "25%        2.000000     50.000000     90.000000      3.200000     14.000000   \n",
       "50%        3.000000    100.000000     95.000000      5.800000     27.500000   \n",
       "75%        5.000000    150.000000    104.000000     11.200000     47.000000   \n",
       "max        7.000000    190.000000    113.000000     17.000000     75.000000   \n",
       "\n",
       "             STATUS  \n",
       "count  17442.000000  \n",
       "mean       0.497821  \n",
       "std        0.500010  \n",
       "min        0.000000  \n",
       "25%        0.000000  \n",
       "50%        0.000000  \n",
       "75%        1.000000  \n",
       "max        1.000000  "
      ]
     },
     "execution_count": 179,
     "metadata": {},
     "output_type": "execute_result"
    }
   ],
   "source": [
    "df.describe()"
   ]
  },
  {
   "cell_type": "markdown",
   "metadata": {},
   "source": [
    "**Convert type column 'FUEL' to int**"
   ]
  },
  {
   "cell_type": "code",
   "execution_count": 180,
   "metadata": {},
   "outputs": [
    {
     "data": {
      "text/plain": [
       "array(['gasoline', 'thinner', 'kerosene', 'lpg'], dtype=object)"
      ]
     },
     "execution_count": 180,
     "metadata": {},
     "output_type": "execute_result"
    }
   ],
   "source": [
    "df['FUEL'].unique()"
   ]
  },
  {
   "cell_type": "code",
   "execution_count": 184,
   "metadata": {},
   "outputs": [],
   "source": [
    "from sklearn.preprocessing import OrdinalEncoder\n",
    "\n",
    "label_encoder = OrdinalEncoder()\n",
    "\n",
    "df['FUEL'] = label_encoder.fit_transform(df[['FUEL']])"
   ]
  },
  {
   "cell_type": "markdown",
   "metadata": {},
   "source": [
    "**Split data to x and y**"
   ]
  },
  {
   "cell_type": "code",
   "execution_count": 185,
   "metadata": {},
   "outputs": [],
   "source": [
    "y = df.pop('STATUS')\n",
    "x = df.copy()"
   ]
  },
  {
   "cell_type": "code",
   "execution_count": 186,
   "metadata": {},
   "outputs": [
    {
     "data": {
      "text/plain": [
       "<AxesSubplot:>"
      ]
     },
     "execution_count": 186,
     "metadata": {},
     "output_type": "execute_result"
    },
    {
     "data": {
      "image/png": "[encoded data removed]",
      "text/plain": [
       "<Figure size 432x288 with 1 Axes>"
      ]
     },
     "metadata": {
      "needs_background": "light"
     },
     "output_type": "display_data"
    }
   ],
   "source": [
    "from sklearn.feature_selection import mutual_info_classif\n",
    "\n",
    "imp = mutual_info_classif(x,y)\n",
    "\n",
    "sns.barplot(x=x.columns, y=imp)"
   ]
  },
  {
   "cell_type": "code",
   "execution_count": null,
   "metadata": {},
   "outputs": [],
   "source": [
    "from sklearn.model_selection import train_test_split\n",
    "\n",
    "x_train, x_test, y_train, y_test = train_test_split(x, y, test_size=0.2, random_state=1) \n",
    "x_train, x_val, y_train, y_val = train_test_split(x_train,y_train, test_size=0.2, random_state=1)"
   ]
  },
  {
   "cell_type": "code",
   "execution_count": 194,
   "metadata": {},
   "outputs": [],
   "source": [
    "from sklearn.preprocessing import StandardScaler\n",
    "ss=StandardScaler()\n",
    "x_train = ss.fit_transform(x_train)\n",
    "x_test = ss.fit_transform(x_test)\n",
    "x_val = ss.fit_transform(x_val)"
   ]
  },
  {
   "cell_type": "markdown",
   "metadata": {},
   "source": [
    "**Model**"
   ]
  },
  {
   "cell_type": "code",
   "execution_count": 195,
   "metadata": {},
   "outputs": [
    {
     "name": "stdout",
     "output_type": "stream",
     "text": [
      "Model: \"sequential_24\"\n",
      "_________________________________________________________________\n",
      " Layer (type)                Output Shape              Param #   \n",
      "=================================================================\n",
      " dense_61 (Dense)            (None, 5)                 35        \n",
      "                                                                 \n",
      " dense_62 (Dense)            (None, 1)                 6         \n",
      "                                                                 \n",
      "=================================================================\n",
      "Total params: 41\n",
      "Trainable params: 41\n",
      "Non-trainable params: 0\n",
      "_________________________________________________________________\n"
     ]
    }
   ],
   "source": [
    "from tensorflow.keras import Sequential\n",
    "from keras import layers\n",
    "\n",
    "model = Sequential()\n",
    "\n",
    "model.add(layers.Input(shape=(6,)))\n",
    "model.add(layers.Dense(5, activation='relu'))\n",
    "model.add(layers.Dense(1, activation='sigmoid'))\n",
    "\n",
    "model.summary()"
   ]
  },
  {
   "cell_type": "code",
   "execution_count": 196,
   "metadata": {},
   "outputs": [
    {
     "name": "stdout",
     "output_type": "stream",
     "text": [
      "Epoch 1/100\n",
      "175/175 [==============================] - 1s 1ms/step - loss: 0.4570 - accuracy: 0.8016 - val_loss: 0.3824 - val_accuracy: 0.8459\n",
      "Epoch 2/100\n",
      "175/175 [==============================] - 0s 844us/step - loss: 0.3337 - accuracy: 0.8630 - val_loss: 0.3101 - val_accuracy: 0.8631\n",
      "Epoch 3/100\n",
      "175/175 [==============================] - 0s 831us/step - loss: 0.2873 - accuracy: 0.8743 - val_loss: 0.2824 - val_accuracy: 0.8710\n",
      "Epoch 4/100\n",
      "175/175 [==============================] - 0s 829us/step - loss: 0.2680 - accuracy: 0.8795 - val_loss: 0.2694 - val_accuracy: 0.8739\n",
      "Epoch 5/100\n",
      "175/175 [==============================] - 0s 875us/step - loss: 0.2570 - accuracy: 0.8828 - val_loss: 0.2607 - val_accuracy: 0.8789\n",
      "Epoch 6/100\n",
      "175/175 [==============================] - 0s 844us/step - loss: 0.2489 - accuracy: 0.8872 - val_loss: 0.2534 - val_accuracy: 0.8836\n",
      "Epoch 7/100\n",
      "175/175 [==============================] - 0s 872us/step - loss: 0.2419 - accuracy: 0.8897 - val_loss: 0.2475 - val_accuracy: 0.8868\n",
      "Epoch 8/100\n",
      "175/175 [==============================] - 0s 849us/step - loss: 0.2357 - accuracy: 0.8938 - val_loss: 0.2423 - val_accuracy: 0.8900\n",
      "Epoch 9/100\n",
      "175/175 [==============================] - 0s 813us/step - loss: 0.2301 - accuracy: 0.8961 - val_loss: 0.2370 - val_accuracy: 0.8922\n",
      "Epoch 10/100\n",
      "175/175 [==============================] - 0s 850us/step - loss: 0.2250 - accuracy: 0.8978 - val_loss: 0.2323 - val_accuracy: 0.8936\n",
      "Epoch 11/100\n",
      "175/175 [==============================] - 0s 842us/step - loss: 0.2203 - accuracy: 0.8992 - val_loss: 0.2279 - val_accuracy: 0.8947\n",
      "Epoch 12/100\n",
      "175/175 [==============================] - 0s 822us/step - loss: 0.2160 - accuracy: 0.9009 - val_loss: 0.2241 - val_accuracy: 0.8957\n",
      "Epoch 13/100\n",
      "175/175 [==============================] - 0s 834us/step - loss: 0.2124 - accuracy: 0.9024 - val_loss: 0.2209 - val_accuracy: 0.8950\n",
      "Epoch 14/100\n",
      "175/175 [==============================] - 0s 856us/step - loss: 0.2090 - accuracy: 0.9042 - val_loss: 0.2177 - val_accuracy: 0.8972\n",
      "Epoch 15/100\n",
      "175/175 [==============================] - 0s 890us/step - loss: 0.2061 - accuracy: 0.9063 - val_loss: 0.2151 - val_accuracy: 0.8993\n",
      "Epoch 16/100\n",
      "175/175 [==============================] - 0s 834us/step - loss: 0.2036 - accuracy: 0.9071 - val_loss: 0.2128 - val_accuracy: 0.8990\n",
      "Epoch 17/100\n",
      "175/175 [==============================] - 0s 808us/step - loss: 0.2014 - accuracy: 0.9087 - val_loss: 0.2108 - val_accuracy: 0.9000\n",
      "Epoch 18/100\n",
      "175/175 [==============================] - 0s 851us/step - loss: 0.1995 - accuracy: 0.9102 - val_loss: 0.2085 - val_accuracy: 0.9000\n",
      "Epoch 19/100\n",
      "175/175 [==============================] - 0s 823us/step - loss: 0.1978 - accuracy: 0.9107 - val_loss: 0.2068 - val_accuracy: 0.9015\n",
      "Epoch 20/100\n",
      "175/175 [==============================] - 0s 841us/step - loss: 0.1963 - accuracy: 0.9114 - val_loss: 0.2052 - val_accuracy: 0.9015\n",
      "Epoch 21/100\n",
      "175/175 [==============================] - 0s 809us/step - loss: 0.1948 - accuracy: 0.9121 - val_loss: 0.2039 - val_accuracy: 0.9029\n",
      "Epoch 22/100\n",
      "175/175 [==============================] - 0s 853us/step - loss: 0.1936 - accuracy: 0.9121 - val_loss: 0.2026 - val_accuracy: 0.9036\n",
      "Epoch 23/100\n",
      "175/175 [==============================] - 0s 812us/step - loss: 0.1926 - accuracy: 0.9137 - val_loss: 0.2019 - val_accuracy: 0.9040\n",
      "Epoch 24/100\n",
      "175/175 [==============================] - 0s 848us/step - loss: 0.1916 - accuracy: 0.9130 - val_loss: 0.2007 - val_accuracy: 0.9047\n",
      "Epoch 25/100\n",
      "175/175 [==============================] - 0s 841us/step - loss: 0.1906 - accuracy: 0.9141 - val_loss: 0.1995 - val_accuracy: 0.9054\n",
      "Epoch 26/100\n",
      "175/175 [==============================] - 0s 816us/step - loss: 0.1899 - accuracy: 0.9144 - val_loss: 0.1990 - val_accuracy: 0.9068\n",
      "Epoch 27/100\n",
      "175/175 [==============================] - 0s 857us/step - loss: 0.1893 - accuracy: 0.9149 - val_loss: 0.1982 - val_accuracy: 0.9058\n",
      "Epoch 28/100\n",
      "175/175 [==============================] - 0s 1ms/step - loss: 0.1886 - accuracy: 0.9151 - val_loss: 0.1973 - val_accuracy: 0.9065\n",
      "Epoch 29/100\n",
      "175/175 [==============================] - 0s 771us/step - loss: 0.1881 - accuracy: 0.9152 - val_loss: 0.1963 - val_accuracy: 0.9079\n",
      "Epoch 30/100\n",
      "175/175 [==============================] - 0s 742us/step - loss: 0.1873 - accuracy: 0.9157 - val_loss: 0.1964 - val_accuracy: 0.9076\n",
      "Epoch 31/100\n",
      "175/175 [==============================] - 0s 667us/step - loss: 0.1868 - accuracy: 0.9166 - val_loss: 0.1950 - val_accuracy: 0.9101\n",
      "Epoch 32/100\n",
      "175/175 [==============================] - 0s 817us/step - loss: 0.1863 - accuracy: 0.9161 - val_loss: 0.1947 - val_accuracy: 0.9097\n",
      "Epoch 33/100\n",
      "175/175 [==============================] - 0s 743us/step - loss: 0.1858 - accuracy: 0.9168 - val_loss: 0.1940 - val_accuracy: 0.9115\n",
      "Epoch 34/100\n",
      "175/175 [==============================] - 0s 731us/step - loss: 0.1853 - accuracy: 0.9165 - val_loss: 0.1936 - val_accuracy: 0.9111\n",
      "Epoch 35/100\n",
      "175/175 [==============================] - 0s 736us/step - loss: 0.1849 - accuracy: 0.9173 - val_loss: 0.1932 - val_accuracy: 0.9115\n",
      "Epoch 36/100\n",
      "175/175 [==============================] - 0s 823us/step - loss: 0.1846 - accuracy: 0.9174 - val_loss: 0.1927 - val_accuracy: 0.9133\n",
      "Epoch 37/100\n",
      "175/175 [==============================] - 0s 751us/step - loss: 0.1840 - accuracy: 0.9170 - val_loss: 0.1919 - val_accuracy: 0.9129\n",
      "Epoch 38/100\n",
      "175/175 [==============================] - 0s 744us/step - loss: 0.1836 - accuracy: 0.9164 - val_loss: 0.1921 - val_accuracy: 0.9119\n",
      "Epoch 39/100\n",
      "175/175 [==============================] - 0s 742us/step - loss: 0.1834 - accuracy: 0.9187 - val_loss: 0.1910 - val_accuracy: 0.9137\n",
      "Epoch 40/100\n",
      "175/175 [==============================] - 0s 739us/step - loss: 0.1828 - accuracy: 0.9182 - val_loss: 0.1905 - val_accuracy: 0.9126\n",
      "Epoch 41/100\n",
      "175/175 [==============================] - 0s 753us/step - loss: 0.1824 - accuracy: 0.9171 - val_loss: 0.1910 - val_accuracy: 0.9119\n",
      "Epoch 42/100\n",
      "175/175 [==============================] - 0s 750us/step - loss: 0.1822 - accuracy: 0.9185 - val_loss: 0.1902 - val_accuracy: 0.9119\n",
      "Epoch 43/100\n",
      "175/175 [==============================] - 0s 804us/step - loss: 0.1818 - accuracy: 0.9190 - val_loss: 0.1894 - val_accuracy: 0.9133\n",
      "Epoch 44/100\n",
      "175/175 [==============================] - 0s 765us/step - loss: 0.1815 - accuracy: 0.9193 - val_loss: 0.1887 - val_accuracy: 0.9137\n",
      "Epoch 45/100\n",
      "175/175 [==============================] - 0s 846us/step - loss: 0.1812 - accuracy: 0.9200 - val_loss: 0.1890 - val_accuracy: 0.9133\n",
      "Epoch 46/100\n",
      "175/175 [==============================] - 0s 691us/step - loss: 0.1808 - accuracy: 0.9192 - val_loss: 0.1883 - val_accuracy: 0.9126\n",
      "Epoch 47/100\n",
      "175/175 [==============================] - 0s 859us/step - loss: 0.1805 - accuracy: 0.9196 - val_loss: 0.1882 - val_accuracy: 0.9129\n",
      "Epoch 48/100\n",
      "175/175 [==============================] - 0s 740us/step - loss: 0.1803 - accuracy: 0.9196 - val_loss: 0.1875 - val_accuracy: 0.9140\n",
      "Epoch 49/100\n",
      "175/175 [==============================] - 0s 791us/step - loss: 0.1800 - accuracy: 0.9193 - val_loss: 0.1877 - val_accuracy: 0.9129\n",
      "Epoch 50/100\n",
      "175/175 [==============================] - 0s 775us/step - loss: 0.1798 - accuracy: 0.9198 - val_loss: 0.1872 - val_accuracy: 0.9129\n",
      "Epoch 51/100\n",
      "175/175 [==============================] - 0s 788us/step - loss: 0.1794 - accuracy: 0.9194 - val_loss: 0.1869 - val_accuracy: 0.9129\n",
      "Epoch 52/100\n",
      "175/175 [==============================] - 0s 759us/step - loss: 0.1791 - accuracy: 0.9197 - val_loss: 0.1867 - val_accuracy: 0.9140\n",
      "Epoch 53/100\n",
      "175/175 [==============================] - 0s 775us/step - loss: 0.1790 - accuracy: 0.9196 - val_loss: 0.1857 - val_accuracy: 0.9140\n",
      "Epoch 54/100\n",
      "175/175 [==============================] - 0s 853us/step - loss: 0.1785 - accuracy: 0.9208 - val_loss: 0.1852 - val_accuracy: 0.9165\n",
      "Epoch 55/100\n",
      "175/175 [==============================] - 0s 769us/step - loss: 0.1783 - accuracy: 0.9198 - val_loss: 0.1853 - val_accuracy: 0.9137\n",
      "Epoch 56/100\n",
      "175/175 [==============================] - 0s 748us/step - loss: 0.1781 - accuracy: 0.9208 - val_loss: 0.1850 - val_accuracy: 0.9154\n",
      "Epoch 57/100\n",
      "175/175 [==============================] - 0s 740us/step - loss: 0.1777 - accuracy: 0.9218 - val_loss: 0.1850 - val_accuracy: 0.9147\n",
      "Epoch 58/100\n",
      "175/175 [==============================] - 0s 749us/step - loss: 0.1777 - accuracy: 0.9208 - val_loss: 0.1844 - val_accuracy: 0.9158\n",
      "Epoch 59/100\n",
      "175/175 [==============================] - 0s 734us/step - loss: 0.1772 - accuracy: 0.9212 - val_loss: 0.1843 - val_accuracy: 0.9158\n",
      "Epoch 60/100\n",
      "175/175 [==============================] - 0s 769us/step - loss: 0.1770 - accuracy: 0.9205 - val_loss: 0.1842 - val_accuracy: 0.9144\n",
      "Epoch 61/100\n",
      "175/175 [==============================] - 0s 772us/step - loss: 0.1769 - accuracy: 0.9213 - val_loss: 0.1836 - val_accuracy: 0.9162\n",
      "Epoch 62/100\n",
      "175/175 [==============================] - 0s 781us/step - loss: 0.1766 - accuracy: 0.9221 - val_loss: 0.1839 - val_accuracy: 0.9154\n",
      "Epoch 63/100\n",
      "175/175 [==============================] - 0s 797us/step - loss: 0.1764 - accuracy: 0.9215 - val_loss: 0.1837 - val_accuracy: 0.9162\n",
      "Epoch 64/100\n",
      "175/175 [==============================] - 0s 667us/step - loss: 0.1762 - accuracy: 0.9227 - val_loss: 0.1829 - val_accuracy: 0.9169\n",
      "Epoch 65/100\n",
      "175/175 [==============================] - 0s 756us/step - loss: 0.1760 - accuracy: 0.9224 - val_loss: 0.1830 - val_accuracy: 0.9162\n",
      "Epoch 66/100\n",
      "175/175 [==============================] - 0s 823us/step - loss: 0.1759 - accuracy: 0.9220 - val_loss: 0.1824 - val_accuracy: 0.9176\n",
      "Epoch 67/100\n",
      "175/175 [==============================] - 0s 699us/step - loss: 0.1756 - accuracy: 0.9221 - val_loss: 0.1832 - val_accuracy: 0.9169\n",
      "Epoch 68/100\n",
      "175/175 [==============================] - 0s 755us/step - loss: 0.1755 - accuracy: 0.9230 - val_loss: 0.1824 - val_accuracy: 0.9172\n",
      "Epoch 69/100\n",
      "175/175 [==============================] - 0s 808us/step - loss: 0.1753 - accuracy: 0.9223 - val_loss: 0.1819 - val_accuracy: 0.9187\n",
      "Epoch 70/100\n",
      "175/175 [==============================] - 0s 789us/step - loss: 0.1751 - accuracy: 0.9231 - val_loss: 0.1816 - val_accuracy: 0.9180\n",
      "Epoch 71/100\n",
      "175/175 [==============================] - 0s 714us/step - loss: 0.1751 - accuracy: 0.9227 - val_loss: 0.1818 - val_accuracy: 0.9169\n",
      "Epoch 72/100\n",
      "175/175 [==============================] - 0s 814us/step - loss: 0.1747 - accuracy: 0.9225 - val_loss: 0.1820 - val_accuracy: 0.9176\n",
      "Epoch 73/100\n",
      "175/175 [==============================] - 0s 843us/step - loss: 0.1747 - accuracy: 0.9238 - val_loss: 0.1813 - val_accuracy: 0.9169\n",
      "Epoch 74/100\n",
      "175/175 [==============================] - 0s 682us/step - loss: 0.1744 - accuracy: 0.9236 - val_loss: 0.1809 - val_accuracy: 0.9187\n",
      "Epoch 75/100\n",
      "175/175 [==============================] - 0s 783us/step - loss: 0.1742 - accuracy: 0.9230 - val_loss: 0.1814 - val_accuracy: 0.9172\n",
      "Epoch 76/100\n",
      "175/175 [==============================] - 0s 879us/step - loss: 0.1741 - accuracy: 0.9241 - val_loss: 0.1805 - val_accuracy: 0.9176\n",
      "Epoch 77/100\n",
      "175/175 [==============================] - 0s 746us/step - loss: 0.1739 - accuracy: 0.9233 - val_loss: 0.1804 - val_accuracy: 0.9180\n",
      "Epoch 78/100\n",
      "175/175 [==============================] - 0s 754us/step - loss: 0.1738 - accuracy: 0.9243 - val_loss: 0.1800 - val_accuracy: 0.9176\n",
      "Epoch 79/100\n",
      "175/175 [==============================] - 0s 780us/step - loss: 0.1737 - accuracy: 0.9235 - val_loss: 0.1798 - val_accuracy: 0.9180\n",
      "Epoch 80/100\n",
      "175/175 [==============================] - 0s 878us/step - loss: 0.1734 - accuracy: 0.9241 - val_loss: 0.1802 - val_accuracy: 0.9183\n",
      "Epoch 81/100\n",
      "175/175 [==============================] - 0s 756us/step - loss: 0.1735 - accuracy: 0.9233 - val_loss: 0.1800 - val_accuracy: 0.9176\n",
      "Epoch 82/100\n",
      "175/175 [==============================] - 0s 801us/step - loss: 0.1732 - accuracy: 0.9238 - val_loss: 0.1798 - val_accuracy: 0.9183\n",
      "Epoch 83/100\n",
      "175/175 [==============================] - 0s 752us/step - loss: 0.1730 - accuracy: 0.9250 - val_loss: 0.1795 - val_accuracy: 0.9190\n",
      "Epoch 84/100\n",
      "175/175 [==============================] - 0s 771us/step - loss: 0.1730 - accuracy: 0.9244 - val_loss: 0.1794 - val_accuracy: 0.9187\n",
      "Epoch 85/100\n",
      "175/175 [==============================] - 0s 737us/step - loss: 0.1729 - accuracy: 0.9242 - val_loss: 0.1792 - val_accuracy: 0.9194\n",
      "Epoch 86/100\n",
      "175/175 [==============================] - 0s 851us/step - loss: 0.1727 - accuracy: 0.9245 - val_loss: 0.1786 - val_accuracy: 0.9190\n",
      "Epoch 87/100\n",
      "175/175 [==============================] - 0s 783us/step - loss: 0.1727 - accuracy: 0.9249 - val_loss: 0.1785 - val_accuracy: 0.9194\n",
      "Epoch 88/100\n",
      "175/175 [==============================] - 0s 784us/step - loss: 0.1725 - accuracy: 0.9250 - val_loss: 0.1784 - val_accuracy: 0.9205\n",
      "Epoch 89/100\n",
      "175/175 [==============================] - 0s 776us/step - loss: 0.1724 - accuracy: 0.9246 - val_loss: 0.1787 - val_accuracy: 0.9194\n",
      "Epoch 90/100\n",
      "175/175 [==============================] - 0s 810us/step - loss: 0.1723 - accuracy: 0.9251 - val_loss: 0.1786 - val_accuracy: 0.9205\n",
      "Epoch 91/100\n",
      "175/175 [==============================] - 0s 789us/step - loss: 0.1723 - accuracy: 0.9256 - val_loss: 0.1784 - val_accuracy: 0.9197\n",
      "Epoch 92/100\n",
      "175/175 [==============================] - 0s 802us/step - loss: 0.1721 - accuracy: 0.9253 - val_loss: 0.1783 - val_accuracy: 0.9194\n",
      "Epoch 93/100\n",
      "175/175 [==============================] - 0s 798us/step - loss: 0.1721 - accuracy: 0.9247 - val_loss: 0.1779 - val_accuracy: 0.9194\n",
      "Epoch 94/100\n",
      "175/175 [==============================] - 0s 783us/step - loss: 0.1718 - accuracy: 0.9263 - val_loss: 0.1774 - val_accuracy: 0.9212\n",
      "Epoch 95/100\n",
      "175/175 [==============================] - 0s 729us/step - loss: 0.1719 - accuracy: 0.9244 - val_loss: 0.1777 - val_accuracy: 0.9194\n",
      "Epoch 96/100\n",
      "175/175 [==============================] - 0s 691us/step - loss: 0.1719 - accuracy: 0.9254 - val_loss: 0.1773 - val_accuracy: 0.9205\n",
      "Epoch 97/100\n",
      "175/175 [==============================] - 0s 817us/step - loss: 0.1716 - accuracy: 0.9248 - val_loss: 0.1778 - val_accuracy: 0.9197\n",
      "Epoch 98/100\n",
      "175/175 [==============================] - 0s 747us/step - loss: 0.1715 - accuracy: 0.9262 - val_loss: 0.1774 - val_accuracy: 0.9212\n",
      "Epoch 99/100\n",
      "175/175 [==============================] - 0s 724us/step - loss: 0.1717 - accuracy: 0.9250 - val_loss: 0.1770 - val_accuracy: 0.9208\n",
      "Epoch 100/100\n",
      "175/175 [==============================] - 0s 764us/step - loss: 0.1714 - accuracy: 0.9256 - val_loss: 0.1769 - val_accuracy: 0.9205\n"
     ]
    }
   ],
   "source": [
    "model.compile(optimizer='adam', loss='binary_crossentropy', metrics=['accuracy'])\n",
    "\n",
    "history = model.fit(x_train, y_train, epochs=100, batch_size=64, validation_data=(x_val, y_val))"
   ]
  },
  {
   "cell_type": "code",
   "execution_count": 197,
   "metadata": {},
   "outputs": [
    {
     "name": "stdout",
     "output_type": "stream",
     "text": [
      "110/110 [==============================] - 0s 592us/step - loss: 0.1818 - accuracy: 0.9163\n"
     ]
    },
    {
     "data": {
      "text/plain": [
       "[0.18175126612186432, 0.9163084030151367]"
      ]
     },
     "execution_count": 197,
     "metadata": {},
     "output_type": "execute_result"
    }
   ],
   "source": [
    "model.evaluate(x_test, y_test)"
   ]
  },
  {
   "cell_type": "markdown",
   "metadata": {},
   "source": [
    "**Model evaluation**"
   ]
  },
  {
   "cell_type": "code",
   "execution_count": 198,
   "metadata": {},
   "outputs": [
    {
     "data": {
      "text/plain": [
       "(0.0, 1.0)"
      ]
     },
     "execution_count": 198,
     "metadata": {},
     "output_type": "execute_result"
    },
    {
     "data": {
      "image/png": "[encoded data removed]",
      "text/plain": [
       "<Figure size 1800x360 with 1 Axes>"
      ]
     },
     "metadata": {
      "needs_background": "light"
     },
     "output_type": "display_data"
    }
   ],
   "source": [
    "pd.DataFrame(history.history).plot(figsize=(25,5))\n",
    "plt.grid(True)\n",
    "plt.gca().set_ylim(0,1)"
   ]
  },
  {
   "cell_type": "code",
   "execution_count": 199,
   "metadata": {},
   "outputs": [
    {
     "data": {
      "text/plain": [
       "<AxesSubplot:>"
      ]
     },
     "execution_count": 199,
     "metadata": {},
     "output_type": "execute_result"
    },
    {
     "data": {
      "image/png": "[encoded data removed]",
      "text/plain": [
       "<Figure size 432x288 with 2 Axes>"
      ]
     },
     "metadata": {
      "needs_background": "light"
     },
     "output_type": "display_data"
    }
   ],
   "source": [
    "from sklearn.metrics import confusion_matrix\n",
    "\n",
    "y_true = np.array(y_test).reshape([len(y_test), 1])\n",
    "y_pred = [1 if x>.5 else 0 for x in model.predict(x_test)]\n",
    "\n",
    "cm = confusion_matrix(y_true, y_pred)\n",
    "\n",
    "sns.heatmap(cm/np.sum(cm), annot=True)"
   ]
  }
 ],
 "metadata": {
  "interpreter": {
   "hash": "21a57429ec3e8645e55c73f48c0602291fe7ef492787aa20454f455a0eaec7b8"
  },
  "kernelspec": {
   "display_name": "Python 3.9.7 64-bit",
   "language": "python",
   "name": "python3"
  },
  "language_info": {
   "codemirror_mode": {
    "name": "ipython",
    "version": 3
   },
   "file_extension": ".py",
   "mimetype": "text/x-python",
   "name": "python",
   "nbconvert_exporter": "python",
   "pygments_lexer": "ipython3",
   "version": "3.9.7"
  },
  "orig_nbformat": 4
 },
 "nbformat": 4,
 "nbformat_minor": 2
}
