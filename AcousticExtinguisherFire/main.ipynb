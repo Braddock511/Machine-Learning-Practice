{
 "cells": [
  {
   "cell_type": "code",
   "execution_count": 1,
   "metadata": {},
   "outputs": [],
   "source": [
    "import pandas as pd\n",
    "import matplotlib.pyplot as plt\n",
    "import seaborn as sns\n",
    "import numpy as np"
   ]
  },
  {
   "cell_type": "markdown",
   "metadata": {},
   "source": [
    "**Import data**"
   ]
  },
  {
   "cell_type": "code",
   "execution_count": 2,
   "metadata": {},
   "outputs": [],
   "source": [
    "df = pd.read_excel('Fire.xlsx')"
   ]
  },
  {
   "cell_type": "code",
   "execution_count": 3,
   "metadata": {},
   "outputs": [
    {
     "data": {
      "text/html": [
       "<div>\n",
       "<style scoped>\n",
       "    .dataframe tbody tr th:only-of-type {\n",
       "        vertical-align: middle;\n",
       "    }\n",
       "\n",
       "    .dataframe tbody tr th {\n",
       "        vertical-align: top;\n",
       "    }\n",
       "\n",
       "    .dataframe thead th {\n",
       "        text-align: right;\n",
       "    }\n",
       "</style>\n",
       "<table border=\"1\" class=\"dataframe\">\n",
       "  <thead>\n",
       "    <tr style=\"text-align: right;\">\n",
       "      <th></th>\n",
       "      <th>SIZE</th>\n",
       "      <th>FUEL</th>\n",
       "      <th>DISTANCE</th>\n",
       "      <th>DESIBEL</th>\n",
       "      <th>AIRFLOW</th>\n",
       "      <th>FREQUENCY</th>\n",
       "      <th>STATUS</th>\n",
       "    </tr>\n",
       "  </thead>\n",
       "  <tbody>\n",
       "    <tr>\n",
       "      <th>0</th>\n",
       "      <td>1</td>\n",
       "      <td>gasoline</td>\n",
       "      <td>10</td>\n",
       "      <td>96</td>\n",
       "      <td>0.0</td>\n",
       "      <td>75</td>\n",
       "      <td>0</td>\n",
       "    </tr>\n",
       "    <tr>\n",
       "      <th>1</th>\n",
       "      <td>1</td>\n",
       "      <td>gasoline</td>\n",
       "      <td>10</td>\n",
       "      <td>96</td>\n",
       "      <td>0.0</td>\n",
       "      <td>72</td>\n",
       "      <td>1</td>\n",
       "    </tr>\n",
       "    <tr>\n",
       "      <th>2</th>\n",
       "      <td>1</td>\n",
       "      <td>gasoline</td>\n",
       "      <td>10</td>\n",
       "      <td>96</td>\n",
       "      <td>2.6</td>\n",
       "      <td>70</td>\n",
       "      <td>1</td>\n",
       "    </tr>\n",
       "    <tr>\n",
       "      <th>3</th>\n",
       "      <td>1</td>\n",
       "      <td>gasoline</td>\n",
       "      <td>10</td>\n",
       "      <td>96</td>\n",
       "      <td>3.2</td>\n",
       "      <td>68</td>\n",
       "      <td>1</td>\n",
       "    </tr>\n",
       "    <tr>\n",
       "      <th>4</th>\n",
       "      <td>1</td>\n",
       "      <td>gasoline</td>\n",
       "      <td>10</td>\n",
       "      <td>109</td>\n",
       "      <td>4.5</td>\n",
       "      <td>67</td>\n",
       "      <td>1</td>\n",
       "    </tr>\n",
       "    <tr>\n",
       "      <th>...</th>\n",
       "      <td>...</td>\n",
       "      <td>...</td>\n",
       "      <td>...</td>\n",
       "      <td>...</td>\n",
       "      <td>...</td>\n",
       "      <td>...</td>\n",
       "      <td>...</td>\n",
       "    </tr>\n",
       "    <tr>\n",
       "      <th>17437</th>\n",
       "      <td>7</td>\n",
       "      <td>lpg</td>\n",
       "      <td>190</td>\n",
       "      <td>86</td>\n",
       "      <td>2.2</td>\n",
       "      <td>5</td>\n",
       "      <td>0</td>\n",
       "    </tr>\n",
       "    <tr>\n",
       "      <th>17438</th>\n",
       "      <td>7</td>\n",
       "      <td>lpg</td>\n",
       "      <td>190</td>\n",
       "      <td>84</td>\n",
       "      <td>2.0</td>\n",
       "      <td>4</td>\n",
       "      <td>0</td>\n",
       "    </tr>\n",
       "    <tr>\n",
       "      <th>17439</th>\n",
       "      <td>7</td>\n",
       "      <td>lpg</td>\n",
       "      <td>190</td>\n",
       "      <td>80</td>\n",
       "      <td>1.5</td>\n",
       "      <td>3</td>\n",
       "      <td>0</td>\n",
       "    </tr>\n",
       "    <tr>\n",
       "      <th>17440</th>\n",
       "      <td>7</td>\n",
       "      <td>lpg</td>\n",
       "      <td>190</td>\n",
       "      <td>76</td>\n",
       "      <td>0.4</td>\n",
       "      <td>2</td>\n",
       "      <td>0</td>\n",
       "    </tr>\n",
       "    <tr>\n",
       "      <th>17441</th>\n",
       "      <td>7</td>\n",
       "      <td>lpg</td>\n",
       "      <td>190</td>\n",
       "      <td>72</td>\n",
       "      <td>0.0</td>\n",
       "      <td>1</td>\n",
       "      <td>0</td>\n",
       "    </tr>\n",
       "  </tbody>\n",
       "</table>\n",
       "<p>17442 rows × 7 columns</p>\n",
       "</div>"
      ],
      "text/plain": [
       "       SIZE      FUEL  DISTANCE  DESIBEL  AIRFLOW  FREQUENCY  STATUS\n",
       "0         1  gasoline        10       96      0.0         75       0\n",
       "1         1  gasoline        10       96      0.0         72       1\n",
       "2         1  gasoline        10       96      2.6         70       1\n",
       "3         1  gasoline        10       96      3.2         68       1\n",
       "4         1  gasoline        10      109      4.5         67       1\n",
       "...     ...       ...       ...      ...      ...        ...     ...\n",
       "17437     7       lpg       190       86      2.2          5       0\n",
       "17438     7       lpg       190       84      2.0          4       0\n",
       "17439     7       lpg       190       80      1.5          3       0\n",
       "17440     7       lpg       190       76      0.4          2       0\n",
       "17441     7       lpg       190       72      0.0          1       0\n",
       "\n",
       "[17442 rows x 7 columns]"
      ]
     },
     "execution_count": 3,
     "metadata": {},
     "output_type": "execute_result"
    }
   ],
   "source": [
    "df"
   ]
  },
  {
   "cell_type": "code",
   "execution_count": 4,
   "metadata": {},
   "outputs": [
    {
     "name": "stdout",
     "output_type": "stream",
     "text": [
      "<class 'pandas.core.frame.DataFrame'>\n",
      "RangeIndex: 17442 entries, 0 to 17441\n",
      "Data columns (total 7 columns):\n",
      " #   Column     Non-Null Count  Dtype  \n",
      "---  ------     --------------  -----  \n",
      " 0   SIZE       17442 non-null  int64  \n",
      " 1   FUEL       17442 non-null  object \n",
      " 2   DISTANCE   17442 non-null  int64  \n",
      " 3   DESIBEL    17442 non-null  int64  \n",
      " 4   AIRFLOW    17442 non-null  float64\n",
      " 5   FREQUENCY  17442 non-null  int64  \n",
      " 6   STATUS     17442 non-null  int64  \n",
      "dtypes: float64(1), int64(5), object(1)\n",
      "memory usage: 954.0+ KB\n"
     ]
    }
   ],
   "source": [
    "df.info()"
   ]
  },
  {
   "cell_type": "code",
   "execution_count": 5,
   "metadata": {},
   "outputs": [
    {
     "data": {
      "text/html": [
       "<div>\n",
       "<style scoped>\n",
       "    .dataframe tbody tr th:only-of-type {\n",
       "        vertical-align: middle;\n",
       "    }\n",
       "\n",
       "    .dataframe tbody tr th {\n",
       "        vertical-align: top;\n",
       "    }\n",
       "\n",
       "    .dataframe thead th {\n",
       "        text-align: right;\n",
       "    }\n",
       "</style>\n",
       "<table border=\"1\" class=\"dataframe\">\n",
       "  <thead>\n",
       "    <tr style=\"text-align: right;\">\n",
       "      <th></th>\n",
       "      <th>SIZE</th>\n",
       "      <th>DISTANCE</th>\n",
       "      <th>DESIBEL</th>\n",
       "      <th>AIRFLOW</th>\n",
       "      <th>FREQUENCY</th>\n",
       "      <th>STATUS</th>\n",
       "    </tr>\n",
       "  </thead>\n",
       "  <tbody>\n",
       "    <tr>\n",
       "      <th>count</th>\n",
       "      <td>17442.000000</td>\n",
       "      <td>17442.000000</td>\n",
       "      <td>17442.000000</td>\n",
       "      <td>17442.000000</td>\n",
       "      <td>17442.000000</td>\n",
       "      <td>17442.000000</td>\n",
       "    </tr>\n",
       "    <tr>\n",
       "      <th>mean</th>\n",
       "      <td>3.411765</td>\n",
       "      <td>100.000000</td>\n",
       "      <td>96.379142</td>\n",
       "      <td>6.975634</td>\n",
       "      <td>31.611111</td>\n",
       "      <td>0.497821</td>\n",
       "    </tr>\n",
       "    <tr>\n",
       "      <th>std</th>\n",
       "      <td>1.750977</td>\n",
       "      <td>54.773826</td>\n",
       "      <td>8.164096</td>\n",
       "      <td>4.736169</td>\n",
       "      <td>20.939149</td>\n",
       "      <td>0.500010</td>\n",
       "    </tr>\n",
       "    <tr>\n",
       "      <th>min</th>\n",
       "      <td>1.000000</td>\n",
       "      <td>10.000000</td>\n",
       "      <td>72.000000</td>\n",
       "      <td>0.000000</td>\n",
       "      <td>1.000000</td>\n",
       "      <td>0.000000</td>\n",
       "    </tr>\n",
       "    <tr>\n",
       "      <th>25%</th>\n",
       "      <td>2.000000</td>\n",
       "      <td>50.000000</td>\n",
       "      <td>90.000000</td>\n",
       "      <td>3.200000</td>\n",
       "      <td>14.000000</td>\n",
       "      <td>0.000000</td>\n",
       "    </tr>\n",
       "    <tr>\n",
       "      <th>50%</th>\n",
       "      <td>3.000000</td>\n",
       "      <td>100.000000</td>\n",
       "      <td>95.000000</td>\n",
       "      <td>5.800000</td>\n",
       "      <td>27.500000</td>\n",
       "      <td>0.000000</td>\n",
       "    </tr>\n",
       "    <tr>\n",
       "      <th>75%</th>\n",
       "      <td>5.000000</td>\n",
       "      <td>150.000000</td>\n",
       "      <td>104.000000</td>\n",
       "      <td>11.200000</td>\n",
       "      <td>47.000000</td>\n",
       "      <td>1.000000</td>\n",
       "    </tr>\n",
       "    <tr>\n",
       "      <th>max</th>\n",
       "      <td>7.000000</td>\n",
       "      <td>190.000000</td>\n",
       "      <td>113.000000</td>\n",
       "      <td>17.000000</td>\n",
       "      <td>75.000000</td>\n",
       "      <td>1.000000</td>\n",
       "    </tr>\n",
       "  </tbody>\n",
       "</table>\n",
       "</div>"
      ],
      "text/plain": [
       "               SIZE      DISTANCE       DESIBEL       AIRFLOW     FREQUENCY  \\\n",
       "count  17442.000000  17442.000000  17442.000000  17442.000000  17442.000000   \n",
       "mean       3.411765    100.000000     96.379142      6.975634     31.611111   \n",
       "std        1.750977     54.773826      8.164096      4.736169     20.939149   \n",
       "min        1.000000     10.000000     72.000000      0.000000      1.000000   \n",
       "25%        2.000000     50.000000     90.000000      3.200000     14.000000   \n",
       "50%        3.000000    100.000000     95.000000      5.800000     27.500000   \n",
       "75%        5.000000    150.000000    104.000000     11.200000     47.000000   \n",
       "max        7.000000    190.000000    113.000000     17.000000     75.000000   \n",
       "\n",
       "             STATUS  \n",
       "count  17442.000000  \n",
       "mean       0.497821  \n",
       "std        0.500010  \n",
       "min        0.000000  \n",
       "25%        0.000000  \n",
       "50%        0.000000  \n",
       "75%        1.000000  \n",
       "max        1.000000  "
      ]
     },
     "execution_count": 5,
     "metadata": {},
     "output_type": "execute_result"
    }
   ],
   "source": [
    "df.describe()"
   ]
  },
  {
   "cell_type": "markdown",
   "metadata": {},
   "source": [
    "**Convert type column 'FUEL' to int**"
   ]
  },
  {
   "cell_type": "code",
   "execution_count": 6,
   "metadata": {},
   "outputs": [],
   "source": [
    "from sklearn.preprocessing import OrdinalEncoder\n",
    "\n",
    "label_encoder = OrdinalEncoder()\n",
    "\n",
    "df['FUEL'] = label_encoder.fit_transform(df[['FUEL']])"
   ]
  },
  {
   "cell_type": "markdown",
   "metadata": {},
   "source": [
    "**Split data to x and y**"
   ]
  },
  {
   "cell_type": "code",
   "execution_count": 7,
   "metadata": {},
   "outputs": [],
   "source": [
    "y = df.pop('STATUS')\n",
    "x = df.copy()"
   ]
  },
  {
   "cell_type": "code",
   "execution_count": 8,
   "metadata": {},
   "outputs": [
    {
     "data": {
      "text/plain": [
       "<AxesSubplot:>"
      ]
     },
     "execution_count": 8,
     "metadata": {},
     "output_type": "execute_result"
    },
    {
     "data": {
      "image/png": "[encoded data removed]",
      "text/plain": [
       "<Figure size 432x288 with 1 Axes>"
      ]
     },
     "metadata": {
      "needs_background": "light"
     },
     "output_type": "display_data"
    }
   ],
   "source": [
    "from sklearn.feature_selection import mutual_info_classif\n",
    "\n",
    "imp = mutual_info_classif(x,y)\n",
    "\n",
    "sns.barplot(x=x.columns, y=imp)"
   ]
  },
  {
   "cell_type": "code",
   "execution_count": 9,
   "metadata": {},
   "outputs": [],
   "source": [
    "from sklearn.model_selection import train_test_split\n",
    "\n",
    "x_train, x_test, y_train, y_test = train_test_split(x, y, test_size=0.2, random_state=1) \n",
    "x_train, x_val, y_train, y_val = train_test_split(x_train,y_train, test_size=0.2, random_state=1)"
   ]
  },
  {
   "cell_type": "code",
   "execution_count": 10,
   "metadata": {},
   "outputs": [],
   "source": [
    "from sklearn.preprocessing import StandardScaler\n",
    "ss=StandardScaler()\n",
    "x_train = ss.fit_transform(x_train)\n",
    "x_test = ss.fit_transform(x_test)\n",
    "x_val = ss.fit_transform(x_val)"
   ]
  },
  {
   "cell_type": "markdown",
   "metadata": {},
   "source": [
    "**Model**"
   ]
  },
  {
   "cell_type": "code",
   "execution_count": 11,
   "metadata": {},
   "outputs": [],
   "source": [
    "from tensorflow.keras import Sequential\n",
    "from keras import layers\n",
    "from keras.wrappers.scikit_learn import KerasClassifier \n",
    "from sklearn.model_selection import GridSearchCV\n",
    "\n",
    "def create_model():\n",
    "    model = Sequential()\n",
    "\n",
    "    model.add(layers.Input(shape=(6,)))\n",
    "    model.add(layers.Dense(5, activation='relu'))\n",
    "    model.add(layers.Dense(1, activation='sigmoid'))\n",
    "\n",
    "    model.compile(optimizer='adam', loss='binary_crossentropy', metrics=['accuracy'])\n",
    "\n",
    "    return model"
   ]
  },
  {
   "cell_type": "code",
   "execution_count": 12,
   "metadata": {},
   "outputs": [],
   "source": [
    "%%capture \n",
    "np.random.seed(1)\n",
    "\n",
    "test_model = KerasClassifier(build_fn=create_model)\n",
    "\n",
    "batch_size = [32,64,128]\n",
    "epochs = [50,100,150]\n",
    "\n",
    "param_grid = dict(batch_size=batch_size, epochs=epochs)\n",
    "\n",
    "grid = GridSearchCV(estimator=test_model, param_grid=param_grid, n_jobs=-1, cv=3)\n",
    "grid_result = grid.fit(x, y)"
   ]
  },
  {
   "cell_type": "code",
   "execution_count": 14,
   "metadata": {},
   "outputs": [
    {
     "data": {
      "text/plain": [
       "{'batch_size': 32, 'epochs': 150}"
      ]
     },
     "execution_count": 14,
     "metadata": {},
     "output_type": "execute_result"
    }
   ],
   "source": [
    "grid_result.best_params_"
   ]
  },
  {
   "cell_type": "code",
   "execution_count": 15,
   "metadata": {},
   "outputs": [
    {
     "name": "stdout",
     "output_type": "stream",
     "text": [
      "Epoch 1/150\n",
      "349/349 [==============================] - 1s 1ms/step - loss: 0.7011 - accuracy: 0.6067 - val_loss: 0.4982 - val_accuracy: 0.8166\n",
      "Epoch 2/150\n",
      "349/349 [==============================] - 0s 836us/step - loss: 0.4114 - accuracy: 0.8720 - val_loss: 0.3561 - val_accuracy: 0.8746\n",
      "Epoch 3/150\n",
      "349/349 [==============================] - 0s 741us/step - loss: 0.3159 - accuracy: 0.8835 - val_loss: 0.2941 - val_accuracy: 0.8760\n",
      "Epoch 4/150\n",
      "349/349 [==============================] - 0s 801us/step - loss: 0.2712 - accuracy: 0.8889 - val_loss: 0.2638 - val_accuracy: 0.8850\n",
      "Epoch 5/150\n",
      "349/349 [==============================] - 0s 766us/step - loss: 0.2476 - accuracy: 0.8937 - val_loss: 0.2468 - val_accuracy: 0.8879\n",
      "Epoch 6/150\n",
      "349/349 [==============================] - ETA: 0s - loss: 0.2330 - accuracy: 0.89 - 0s 809us/step - loss: 0.2328 - accuracy: 0.8977 - val_loss: 0.2354 - val_accuracy: 0.8900\n",
      "Epoch 7/150\n",
      "349/349 [==============================] - 0s 755us/step - loss: 0.2228 - accuracy: 0.9015 - val_loss: 0.2272 - val_accuracy: 0.8936\n",
      "Epoch 8/150\n",
      "349/349 [==============================] - 0s 803us/step - loss: 0.2159 - accuracy: 0.9026 - val_loss: 0.2206 - val_accuracy: 0.8975\n",
      "Epoch 9/150\n",
      "349/349 [==============================] - 0s 817us/step - loss: 0.2107 - accuracy: 0.9043 - val_loss: 0.2159 - val_accuracy: 0.9000\n",
      "Epoch 10/150\n",
      "349/349 [==============================] - 0s 785us/step - loss: 0.2066 - accuracy: 0.9058 - val_loss: 0.2121 - val_accuracy: 0.9036\n",
      "Epoch 11/150\n",
      "349/349 [==============================] - 0s 794us/step - loss: 0.2031 - accuracy: 0.9078 - val_loss: 0.2087 - val_accuracy: 0.9054\n",
      "Epoch 12/150\n",
      "349/349 [==============================] - 0s 784us/step - loss: 0.2006 - accuracy: 0.9081 - val_loss: 0.2062 - val_accuracy: 0.9065\n",
      "Epoch 13/150\n",
      "349/349 [==============================] - 0s 776us/step - loss: 0.1982 - accuracy: 0.9094 - val_loss: 0.2054 - val_accuracy: 0.9058\n",
      "Epoch 14/150\n",
      "349/349 [==============================] - 0s 727us/step - loss: 0.1965 - accuracy: 0.9104 - val_loss: 0.2030 - val_accuracy: 0.9083\n",
      "Epoch 15/150\n",
      "349/349 [==============================] - 0s 755us/step - loss: 0.1949 - accuracy: 0.9092 - val_loss: 0.2010 - val_accuracy: 0.9083\n",
      "Epoch 16/150\n",
      "349/349 [==============================] - 0s 771us/step - loss: 0.1935 - accuracy: 0.9114 - val_loss: 0.1998 - val_accuracy: 0.9108\n",
      "Epoch 17/150\n",
      "349/349 [==============================] - 0s 821us/step - loss: 0.1925 - accuracy: 0.9114 - val_loss: 0.1984 - val_accuracy: 0.9101\n",
      "Epoch 18/150\n",
      "349/349 [==============================] - 0s 790us/step - loss: 0.1914 - accuracy: 0.9122 - val_loss: 0.1981 - val_accuracy: 0.9126\n",
      "Epoch 19/150\n",
      "349/349 [==============================] - 0s 766us/step - loss: 0.1904 - accuracy: 0.9131 - val_loss: 0.1968 - val_accuracy: 0.9115\n",
      "Epoch 20/150\n",
      "349/349 [==============================] - 0s 786us/step - loss: 0.1895 - accuracy: 0.9136 - val_loss: 0.1964 - val_accuracy: 0.9111\n",
      "Epoch 21/150\n",
      "349/349 [==============================] - 0s 815us/step - loss: 0.1886 - accuracy: 0.9135 - val_loss: 0.1958 - val_accuracy: 0.9111\n",
      "Epoch 22/150\n",
      "349/349 [==============================] - 0s 818us/step - loss: 0.1875 - accuracy: 0.9140 - val_loss: 0.1944 - val_accuracy: 0.9115\n",
      "Epoch 23/150\n",
      "349/349 [==============================] - 0s 781us/step - loss: 0.1865 - accuracy: 0.9152 - val_loss: 0.1940 - val_accuracy: 0.9108\n",
      "Epoch 24/150\n",
      "349/349 [==============================] - 0s 758us/step - loss: 0.1856 - accuracy: 0.9148 - val_loss: 0.1929 - val_accuracy: 0.9108\n",
      "Epoch 25/150\n",
      "349/349 [==============================] - 0s 773us/step - loss: 0.1846 - accuracy: 0.9147 - val_loss: 0.1918 - val_accuracy: 0.9104\n",
      "Epoch 26/150\n",
      "349/349 [==============================] - 0s 783us/step - loss: 0.1835 - accuracy: 0.9158 - val_loss: 0.1915 - val_accuracy: 0.9111\n",
      "Epoch 27/150\n",
      "349/349 [==============================] - 0s 744us/step - loss: 0.1829 - accuracy: 0.9166 - val_loss: 0.1905 - val_accuracy: 0.9111\n",
      "Epoch 28/150\n",
      "349/349 [==============================] - 0s 746us/step - loss: 0.1820 - accuracy: 0.9162 - val_loss: 0.1898 - val_accuracy: 0.9101\n",
      "Epoch 29/150\n",
      "349/349 [==============================] - 0s 789us/step - loss: 0.1813 - accuracy: 0.9166 - val_loss: 0.1890 - val_accuracy: 0.9122\n",
      "Epoch 30/150\n",
      "349/349 [==============================] - 0s 760us/step - loss: 0.1805 - accuracy: 0.9176 - val_loss: 0.1884 - val_accuracy: 0.9108\n",
      "Epoch 31/150\n",
      "349/349 [==============================] - 0s 822us/step - loss: 0.1797 - accuracy: 0.9176 - val_loss: 0.1875 - val_accuracy: 0.9108\n",
      "Epoch 32/150\n",
      "349/349 [==============================] - 0s 754us/step - loss: 0.1791 - accuracy: 0.9182 - val_loss: 0.1871 - val_accuracy: 0.9108\n",
      "Epoch 33/150\n",
      "349/349 [==============================] - 0s 744us/step - loss: 0.1781 - accuracy: 0.9184 - val_loss: 0.1866 - val_accuracy: 0.9122\n",
      "Epoch 34/150\n",
      "349/349 [==============================] - 0s 756us/step - loss: 0.1775 - accuracy: 0.9195 - val_loss: 0.1858 - val_accuracy: 0.9101\n",
      "Epoch 35/150\n",
      "349/349 [==============================] - 0s 814us/step - loss: 0.1769 - accuracy: 0.9191 - val_loss: 0.1852 - val_accuracy: 0.9101\n",
      "Epoch 36/150\n",
      "349/349 [==============================] - 0s 827us/step - loss: 0.1762 - accuracy: 0.9200 - val_loss: 0.1850 - val_accuracy: 0.9119\n",
      "Epoch 37/150\n",
      "349/349 [==============================] - 0s 855us/step - loss: 0.1754 - accuracy: 0.9198 - val_loss: 0.1847 - val_accuracy: 0.9129\n",
      "Epoch 38/150\n",
      "349/349 [==============================] - 0s 764us/step - loss: 0.1748 - accuracy: 0.9205 - val_loss: 0.1828 - val_accuracy: 0.9104\n",
      "Epoch 39/150\n",
      "349/349 [==============================] - 0s 772us/step - loss: 0.1742 - accuracy: 0.9213 - val_loss: 0.1828 - val_accuracy: 0.9133\n",
      "Epoch 40/150\n",
      "349/349 [==============================] - 0s 734us/step - loss: 0.1735 - accuracy: 0.9209 - val_loss: 0.1817 - val_accuracy: 0.9115\n",
      "Epoch 41/150\n",
      "349/349 [==============================] - 0s 758us/step - loss: 0.1729 - accuracy: 0.9224 - val_loss: 0.1815 - val_accuracy: 0.9119\n",
      "Epoch 42/150\n",
      "349/349 [==============================] - 0s 740us/step - loss: 0.1722 - accuracy: 0.9218 - val_loss: 0.1814 - val_accuracy: 0.9140\n",
      "Epoch 43/150\n",
      "349/349 [==============================] - 0s 759us/step - loss: 0.1716 - accuracy: 0.9230 - val_loss: 0.1825 - val_accuracy: 0.9144\n",
      "Epoch 44/150\n",
      "349/349 [==============================] - 0s 725us/step - loss: 0.1712 - accuracy: 0.9231 - val_loss: 0.1803 - val_accuracy: 0.9133\n",
      "Epoch 45/150\n",
      "349/349 [==============================] - 0s 823us/step - loss: 0.1708 - accuracy: 0.9240 - val_loss: 0.1796 - val_accuracy: 0.9122\n",
      "Epoch 46/150\n",
      "349/349 [==============================] - 0s 791us/step - loss: 0.1703 - accuracy: 0.9233 - val_loss: 0.1802 - val_accuracy: 0.9151\n",
      "Epoch 47/150\n",
      "349/349 [==============================] - 0s 744us/step - loss: 0.1697 - accuracy: 0.9240 - val_loss: 0.1802 - val_accuracy: 0.9133\n",
      "Epoch 48/150\n",
      "349/349 [==============================] - 0s 750us/step - loss: 0.1695 - accuracy: 0.9238 - val_loss: 0.1786 - val_accuracy: 0.9144\n",
      "Epoch 49/150\n",
      "349/349 [==============================] - 0s 762us/step - loss: 0.1690 - accuracy: 0.9236 - val_loss: 0.1790 - val_accuracy: 0.9122\n",
      "Epoch 50/150\n",
      "349/349 [==============================] - 0s 886us/step - loss: 0.1689 - accuracy: 0.9247 - val_loss: 0.1780 - val_accuracy: 0.9133\n",
      "Epoch 51/150\n",
      "349/349 [==============================] - 0s 850us/step - loss: 0.1685 - accuracy: 0.9239 - val_loss: 0.1775 - val_accuracy: 0.9133\n",
      "Epoch 52/150\n",
      "349/349 [==============================] - 0s 835us/step - loss: 0.1680 - accuracy: 0.9250 - val_loss: 0.1778 - val_accuracy: 0.9144\n",
      "Epoch 53/150\n",
      "349/349 [==============================] - 0s 919us/step - loss: 0.1678 - accuracy: 0.9249 - val_loss: 0.1773 - val_accuracy: 0.9147\n",
      "Epoch 54/150\n",
      "349/349 [==============================] - 0s 877us/step - loss: 0.1674 - accuracy: 0.9256 - val_loss: 0.1770 - val_accuracy: 0.9133\n",
      "Epoch 55/150\n",
      "349/349 [==============================] - 0s 873us/step - loss: 0.1671 - accuracy: 0.9257 - val_loss: 0.1766 - val_accuracy: 0.9140\n",
      "Epoch 56/150\n",
      "349/349 [==============================] - 0s 908us/step - loss: 0.1668 - accuracy: 0.9254 - val_loss: 0.1764 - val_accuracy: 0.9144\n",
      "Epoch 57/150\n",
      "349/349 [==============================] - 0s 850us/step - loss: 0.1667 - accuracy: 0.9259 - val_loss: 0.1765 - val_accuracy: 0.9144\n",
      "Epoch 58/150\n",
      "349/349 [==============================] - 0s 851us/step - loss: 0.1662 - accuracy: 0.9271 - val_loss: 0.1757 - val_accuracy: 0.9144\n",
      "Epoch 59/150\n",
      "349/349 [==============================] - 0s 859us/step - loss: 0.1660 - accuracy: 0.9270 - val_loss: 0.1756 - val_accuracy: 0.9147\n",
      "Epoch 60/150\n",
      "349/349 [==============================] - 0s 899us/step - loss: 0.1659 - accuracy: 0.9247 - val_loss: 0.1755 - val_accuracy: 0.9133\n",
      "Epoch 61/150\n",
      "349/349 [==============================] - 0s 850us/step - loss: 0.1655 - accuracy: 0.9260 - val_loss: 0.1749 - val_accuracy: 0.9144\n",
      "Epoch 62/150\n",
      "349/349 [==============================] - 0s 906us/step - loss: 0.1653 - accuracy: 0.9260 - val_loss: 0.1750 - val_accuracy: 0.9169\n",
      "Epoch 63/150\n",
      "349/349 [==============================] - 0s 867us/step - loss: 0.1651 - accuracy: 0.9266 - val_loss: 0.1749 - val_accuracy: 0.9176\n",
      "Epoch 64/150\n",
      "349/349 [==============================] - 0s 838us/step - loss: 0.1649 - accuracy: 0.9271 - val_loss: 0.1744 - val_accuracy: 0.9169\n",
      "Epoch 65/150\n",
      "349/349 [==============================] - 0s 846us/step - loss: 0.1648 - accuracy: 0.9274 - val_loss: 0.1742 - val_accuracy: 0.9176\n",
      "Epoch 66/150\n",
      "349/349 [==============================] - 0s 847us/step - loss: 0.1644 - accuracy: 0.9278 - val_loss: 0.1738 - val_accuracy: 0.9169\n",
      "Epoch 67/150\n",
      "349/349 [==============================] - 0s 851us/step - loss: 0.1644 - accuracy: 0.9271 - val_loss: 0.1744 - val_accuracy: 0.9169\n",
      "Epoch 68/150\n",
      "349/349 [==============================] - 0s 840us/step - loss: 0.1641 - accuracy: 0.9282 - val_loss: 0.1737 - val_accuracy: 0.9176\n",
      "Epoch 69/150\n",
      "349/349 [==============================] - 0s 931us/step - loss: 0.1638 - accuracy: 0.9290 - val_loss: 0.1729 - val_accuracy: 0.9194\n",
      "Epoch 70/150\n",
      "349/349 [==============================] - 0s 815us/step - loss: 0.1639 - accuracy: 0.9290 - val_loss: 0.1736 - val_accuracy: 0.9180\n",
      "Epoch 71/150\n",
      "349/349 [==============================] - 0s 871us/step - loss: 0.1637 - accuracy: 0.9287 - val_loss: 0.1728 - val_accuracy: 0.9176\n",
      "Epoch 72/150\n",
      "349/349 [==============================] - 0s 860us/step - loss: 0.1635 - accuracy: 0.9281 - val_loss: 0.1724 - val_accuracy: 0.9187\n",
      "Epoch 73/150\n",
      "349/349 [==============================] - 0s 809us/step - loss: 0.1632 - accuracy: 0.9281 - val_loss: 0.1734 - val_accuracy: 0.9176\n",
      "Epoch 74/150\n",
      "349/349 [==============================] - 0s 825us/step - loss: 0.1633 - accuracy: 0.9286 - val_loss: 0.1726 - val_accuracy: 0.9187\n",
      "Epoch 75/150\n",
      "349/349 [==============================] - 0s 833us/step - loss: 0.1631 - accuracy: 0.9278 - val_loss: 0.1722 - val_accuracy: 0.9194\n",
      "Epoch 76/150\n",
      "349/349 [==============================] - 0s 851us/step - loss: 0.1630 - accuracy: 0.9293 - val_loss: 0.1722 - val_accuracy: 0.9190\n",
      "Epoch 77/150\n",
      "349/349 [==============================] - 0s 881us/step - loss: 0.1627 - accuracy: 0.9294 - val_loss: 0.1721 - val_accuracy: 0.9190\n",
      "Epoch 78/150\n",
      "349/349 [==============================] - 0s 838us/step - loss: 0.1628 - accuracy: 0.9297 - val_loss: 0.1716 - val_accuracy: 0.9197\n",
      "Epoch 79/150\n",
      "349/349 [==============================] - 0s 827us/step - loss: 0.1622 - accuracy: 0.9302 - val_loss: 0.1715 - val_accuracy: 0.9190\n",
      "Epoch 80/150\n",
      "349/349 [==============================] - 0s 824us/step - loss: 0.1623 - accuracy: 0.9295 - val_loss: 0.1713 - val_accuracy: 0.9197\n",
      "Epoch 81/150\n",
      "349/349 [==============================] - 0s 857us/step - loss: 0.1623 - accuracy: 0.9290 - val_loss: 0.1713 - val_accuracy: 0.9201\n",
      "Epoch 82/150\n",
      "349/349 [==============================] - 0s 835us/step - loss: 0.1621 - accuracy: 0.9300 - val_loss: 0.1710 - val_accuracy: 0.9201\n",
      "Epoch 83/150\n",
      "349/349 [==============================] - 0s 846us/step - loss: 0.1621 - accuracy: 0.9298 - val_loss: 0.1710 - val_accuracy: 0.9212\n",
      "Epoch 84/150\n",
      "349/349 [==============================] - 0s 829us/step - loss: 0.1619 - accuracy: 0.9302 - val_loss: 0.1714 - val_accuracy: 0.9201\n",
      "Epoch 85/150\n",
      "349/349 [==============================] - 0s 863us/step - loss: 0.1618 - accuracy: 0.9297 - val_loss: 0.1710 - val_accuracy: 0.9215\n",
      "Epoch 86/150\n",
      "349/349 [==============================] - 0s 886us/step - loss: 0.1618 - accuracy: 0.9292 - val_loss: 0.1706 - val_accuracy: 0.9223\n",
      "Epoch 87/150\n",
      "349/349 [==============================] - 0s 848us/step - loss: 0.1612 - accuracy: 0.9298 - val_loss: 0.1709 - val_accuracy: 0.9223\n",
      "Epoch 88/150\n",
      "349/349 [==============================] - 0s 849us/step - loss: 0.1612 - accuracy: 0.9307 - val_loss: 0.1704 - val_accuracy: 0.9208\n",
      "Epoch 89/150\n",
      "349/349 [==============================] - 0s 897us/step - loss: 0.1614 - accuracy: 0.9308 - val_loss: 0.1702 - val_accuracy: 0.9208\n",
      "Epoch 90/150\n",
      "349/349 [==============================] - 0s 829us/step - loss: 0.1613 - accuracy: 0.9294 - val_loss: 0.1696 - val_accuracy: 0.9215\n",
      "Epoch 91/150\n",
      "349/349 [==============================] - 0s 862us/step - loss: 0.1610 - accuracy: 0.9302 - val_loss: 0.1701 - val_accuracy: 0.9230\n",
      "Epoch 92/150\n",
      "349/349 [==============================] - 0s 887us/step - loss: 0.1611 - accuracy: 0.9298 - val_loss: 0.1694 - val_accuracy: 0.9226\n",
      "Epoch 93/150\n",
      "349/349 [==============================] - 0s 955us/step - loss: 0.1609 - accuracy: 0.9305 - val_loss: 0.1695 - val_accuracy: 0.9226\n",
      "Epoch 94/150\n",
      "349/349 [==============================] - 0s 962us/step - loss: 0.1609 - accuracy: 0.9298 - val_loss: 0.1690 - val_accuracy: 0.9223\n",
      "Epoch 95/150\n",
      "349/349 [==============================] - 0s 865us/step - loss: 0.1606 - accuracy: 0.9299 - val_loss: 0.1694 - val_accuracy: 0.9230\n",
      "Epoch 96/150\n",
      "349/349 [==============================] - 0s 838us/step - loss: 0.1610 - accuracy: 0.9300 - val_loss: 0.1699 - val_accuracy: 0.9219\n",
      "Epoch 97/150\n",
      "349/349 [==============================] - 0s 839us/step - loss: 0.1607 - accuracy: 0.9297 - val_loss: 0.1689 - val_accuracy: 0.9233\n",
      "Epoch 98/150\n",
      "349/349 [==============================] - 0s 824us/step - loss: 0.1605 - accuracy: 0.9316 - val_loss: 0.1686 - val_accuracy: 0.9226\n",
      "Epoch 99/150\n",
      "349/349 [==============================] - 0s 841us/step - loss: 0.1605 - accuracy: 0.9305 - val_loss: 0.1690 - val_accuracy: 0.9219\n",
      "Epoch 100/150\n",
      "349/349 [==============================] - 0s 828us/step - loss: 0.1604 - accuracy: 0.9303 - val_loss: 0.1687 - val_accuracy: 0.9219\n",
      "Epoch 101/150\n",
      "349/349 [==============================] - 0s 913us/step - loss: 0.1602 - accuracy: 0.9306 - val_loss: 0.1689 - val_accuracy: 0.9230\n",
      "Epoch 102/150\n",
      "349/349 [==============================] - 0s 826us/step - loss: 0.1603 - accuracy: 0.9307 - val_loss: 0.1680 - val_accuracy: 0.9230\n",
      "Epoch 103/150\n",
      "349/349 [==============================] - 0s 935us/step - loss: 0.1600 - accuracy: 0.9301 - val_loss: 0.1681 - val_accuracy: 0.9240\n",
      "Epoch 104/150\n",
      "349/349 [==============================] - 0s 874us/step - loss: 0.1599 - accuracy: 0.9302 - val_loss: 0.1686 - val_accuracy: 0.9230\n",
      "Epoch 105/150\n",
      "349/349 [==============================] - 0s 845us/step - loss: 0.1600 - accuracy: 0.9303 - val_loss: 0.1678 - val_accuracy: 0.9237\n",
      "Epoch 106/150\n",
      "349/349 [==============================] - 0s 833us/step - loss: 0.1596 - accuracy: 0.9309 - val_loss: 0.1685 - val_accuracy: 0.9226\n",
      "Epoch 107/150\n",
      "349/349 [==============================] - 0s 835us/step - loss: 0.1601 - accuracy: 0.9307 - val_loss: 0.1678 - val_accuracy: 0.9226\n",
      "Epoch 108/150\n",
      "349/349 [==============================] - 0s 865us/step - loss: 0.1598 - accuracy: 0.9304 - val_loss: 0.1679 - val_accuracy: 0.9237\n",
      "Epoch 109/150\n",
      "349/349 [==============================] - 0s 817us/step - loss: 0.1597 - accuracy: 0.9299 - val_loss: 0.1671 - val_accuracy: 0.9233\n",
      "Epoch 110/150\n",
      "349/349 [==============================] - 0s 843us/step - loss: 0.1595 - accuracy: 0.9307 - val_loss: 0.1678 - val_accuracy: 0.9226\n",
      "Epoch 111/150\n",
      "349/349 [==============================] - 0s 845us/step - loss: 0.1596 - accuracy: 0.9311 - val_loss: 0.1672 - val_accuracy: 0.9233\n",
      "Epoch 112/150\n",
      "349/349 [==============================] - 0s 878us/step - loss: 0.1593 - accuracy: 0.9307 - val_loss: 0.1671 - val_accuracy: 0.9248\n",
      "Epoch 113/150\n",
      "349/349 [==============================] - 0s 847us/step - loss: 0.1593 - accuracy: 0.9316 - val_loss: 0.1674 - val_accuracy: 0.9237\n",
      "Epoch 114/150\n",
      "349/349 [==============================] - 0s 830us/step - loss: 0.1592 - accuracy: 0.9310 - val_loss: 0.1675 - val_accuracy: 0.9248\n",
      "Epoch 115/150\n",
      "349/349 [==============================] - 0s 847us/step - loss: 0.1592 - accuracy: 0.9312 - val_loss: 0.1667 - val_accuracy: 0.9251\n",
      "Epoch 116/150\n",
      "349/349 [==============================] - 0s 857us/step - loss: 0.1593 - accuracy: 0.9307 - val_loss: 0.1667 - val_accuracy: 0.9237\n",
      "Epoch 117/150\n",
      "349/349 [==============================] - 0s 942us/step - loss: 0.1590 - accuracy: 0.9313 - val_loss: 0.1665 - val_accuracy: 0.9230\n",
      "Epoch 118/150\n",
      "349/349 [==============================] - 0s 814us/step - loss: 0.1591 - accuracy: 0.9316 - val_loss: 0.1666 - val_accuracy: 0.9240\n",
      "Epoch 119/150\n",
      "349/349 [==============================] - 0s 936us/step - loss: 0.1592 - accuracy: 0.9304 - val_loss: 0.1673 - val_accuracy: 0.9226\n",
      "Epoch 120/150\n",
      "349/349 [==============================] - 0s 824us/step - loss: 0.1590 - accuracy: 0.9318 - val_loss: 0.1663 - val_accuracy: 0.9244\n",
      "Epoch 121/150\n",
      "349/349 [==============================] - 0s 827us/step - loss: 0.1590 - accuracy: 0.9304 - val_loss: 0.1662 - val_accuracy: 0.9251\n",
      "Epoch 122/150\n",
      "349/349 [==============================] - 0s 854us/step - loss: 0.1588 - accuracy: 0.9318 - val_loss: 0.1665 - val_accuracy: 0.9258\n",
      "Epoch 123/150\n",
      "349/349 [==============================] - 0s 904us/step - loss: 0.1588 - accuracy: 0.9307 - val_loss: 0.1669 - val_accuracy: 0.9244\n",
      "Epoch 124/150\n",
      "349/349 [==============================] - 0s 827us/step - loss: 0.1588 - accuracy: 0.9310 - val_loss: 0.1665 - val_accuracy: 0.9240\n",
      "Epoch 125/150\n",
      "349/349 [==============================] - 0s 852us/step - loss: 0.1589 - accuracy: 0.9318 - val_loss: 0.1666 - val_accuracy: 0.9251\n",
      "Epoch 126/150\n",
      "349/349 [==============================] - 0s 843us/step - loss: 0.1587 - accuracy: 0.9316 - val_loss: 0.1665 - val_accuracy: 0.9265\n",
      "Epoch 127/150\n",
      "349/349 [==============================] - 0s 829us/step - loss: 0.1586 - accuracy: 0.9303 - val_loss: 0.1662 - val_accuracy: 0.9244\n",
      "Epoch 128/150\n",
      "349/349 [==============================] - 0s 842us/step - loss: 0.1587 - accuracy: 0.9311 - val_loss: 0.1659 - val_accuracy: 0.9255\n",
      "Epoch 129/150\n",
      "349/349 [==============================] - 0s 926us/step - loss: 0.1585 - accuracy: 0.9313 - val_loss: 0.1662 - val_accuracy: 0.9262\n",
      "Epoch 130/150\n",
      "349/349 [==============================] - 0s 813us/step - loss: 0.1586 - accuracy: 0.9310 - val_loss: 0.1663 - val_accuracy: 0.9240\n",
      "Epoch 131/150\n",
      "349/349 [==============================] - 0s 836us/step - loss: 0.1584 - accuracy: 0.9318 - val_loss: 0.1665 - val_accuracy: 0.9251\n",
      "Epoch 132/150\n",
      "349/349 [==============================] - 0s 903us/step - loss: 0.1583 - accuracy: 0.9314 - val_loss: 0.1657 - val_accuracy: 0.9265\n",
      "Epoch 133/150\n",
      "349/349 [==============================] - 0s 828us/step - loss: 0.1585 - accuracy: 0.9315 - val_loss: 0.1658 - val_accuracy: 0.9251\n",
      "Epoch 134/150\n",
      "349/349 [==============================] - 0s 836us/step - loss: 0.1584 - accuracy: 0.9311 - val_loss: 0.1659 - val_accuracy: 0.9248\n",
      "Epoch 135/150\n",
      "349/349 [==============================] - 0s 803us/step - loss: 0.1584 - accuracy: 0.9315 - val_loss: 0.1654 - val_accuracy: 0.9273\n",
      "Epoch 136/150\n",
      "349/349 [==============================] - 0s 824us/step - loss: 0.1583 - accuracy: 0.9318 - val_loss: 0.1656 - val_accuracy: 0.9258\n",
      "Epoch 137/150\n",
      "349/349 [==============================] - 0s 847us/step - loss: 0.1583 - accuracy: 0.9301 - val_loss: 0.1653 - val_accuracy: 0.9258\n",
      "Epoch 138/150\n",
      "349/349 [==============================] - 0s 861us/step - loss: 0.1581 - accuracy: 0.9322 - val_loss: 0.1656 - val_accuracy: 0.9265\n",
      "Epoch 139/150\n",
      "349/349 [==============================] - 0s 814us/step - loss: 0.1583 - accuracy: 0.9322 - val_loss: 0.1659 - val_accuracy: 0.9244\n",
      "Epoch 140/150\n",
      "349/349 [==============================] - 0s 831us/step - loss: 0.1582 - accuracy: 0.9307 - val_loss: 0.1651 - val_accuracy: 0.9273\n",
      "Epoch 141/150\n",
      "349/349 [==============================] - 0s 844us/step - loss: 0.1582 - accuracy: 0.9317 - val_loss: 0.1654 - val_accuracy: 0.9258\n",
      "Epoch 142/150\n",
      "349/349 [==============================] - 0s 833us/step - loss: 0.1584 - accuracy: 0.9312 - val_loss: 0.1654 - val_accuracy: 0.9269\n",
      "Epoch 143/150\n",
      "349/349 [==============================] - 0s 818us/step - loss: 0.1582 - accuracy: 0.9308 - val_loss: 0.1654 - val_accuracy: 0.9255\n",
      "Epoch 144/150\n",
      "349/349 [==============================] - 0s 969us/step - loss: 0.1578 - accuracy: 0.9324 - val_loss: 0.1657 - val_accuracy: 0.9258\n",
      "Epoch 145/150\n",
      "349/349 [==============================] - 0s 825us/step - loss: 0.1581 - accuracy: 0.9307 - val_loss: 0.1650 - val_accuracy: 0.9265\n",
      "Epoch 146/150\n",
      "349/349 [==============================] - 0s 946us/step - loss: 0.1581 - accuracy: 0.9309 - val_loss: 0.1651 - val_accuracy: 0.9265\n",
      "Epoch 147/150\n",
      "349/349 [==============================] - 0s 914us/step - loss: 0.1579 - accuracy: 0.9316 - val_loss: 0.1653 - val_accuracy: 0.9255\n",
      "Epoch 148/150\n",
      "349/349 [==============================] - 0s 816us/step - loss: 0.1580 - accuracy: 0.9314 - val_loss: 0.1655 - val_accuracy: 0.9265\n",
      "Epoch 149/150\n",
      "349/349 [==============================] - 0s 821us/step - loss: 0.1580 - accuracy: 0.9305 - val_loss: 0.1653 - val_accuracy: 0.9269\n",
      "Epoch 150/150\n",
      "349/349 [==============================] - 0s 842us/step - loss: 0.1581 - accuracy: 0.9315 - val_loss: 0.1656 - val_accuracy: 0.9248\n"
     ]
    }
   ],
   "source": [
    "model = create_model()\n",
    "\n",
    "history = model.fit(x_train, y_train, epochs=150, batch_size=32, validation_data=(x_val, y_val))"
   ]
  },
  {
   "cell_type": "code",
   "execution_count": 16,
   "metadata": {},
   "outputs": [
    {
     "name": "stdout",
     "output_type": "stream",
     "text": [
      "110/110 [==============================] - 0s 640us/step - loss: 0.1678 - accuracy: 0.9243\n"
     ]
    },
    {
     "data": {
      "text/plain": [
       "[0.16778433322906494, 0.9243336319923401]"
      ]
     },
     "execution_count": 16,
     "metadata": {},
     "output_type": "execute_result"
    }
   ],
   "source": [
    "model.evaluate(x_test, y_test)"
   ]
  },
  {
   "cell_type": "markdown",
   "metadata": {},
   "source": [
    "**Model evaluation**"
   ]
  },
  {
   "cell_type": "code",
   "execution_count": 17,
   "metadata": {},
   "outputs": [
    {
     "data": {
      "text/plain": [
       "(0.0, 1.0)"
      ]
     },
     "execution_count": 17,
     "metadata": {},
     "output_type": "execute_result"
    },
    {
     "data": {
      "image/png": "[encoded data removed]",
      "text/plain": [
       "<Figure size 1800x360 with 1 Axes>"
      ]
     },
     "metadata": {
      "needs_background": "light"
     },
     "output_type": "display_data"
    }
   ],
   "source": [
    "pd.DataFrame(history.history).plot(figsize=(25,5))\n",
    "plt.grid(True)\n",
    "plt.gca().set_ylim(0,1)"
   ]
  },
  {
   "cell_type": "code",
   "execution_count": 18,
   "metadata": {},
   "outputs": [
    {
     "data": {
      "text/plain": [
       "<AxesSubplot:>"
      ]
     },
     "execution_count": 18,
     "metadata": {},
     "output_type": "execute_result"
    },
    {
     "data": {
      "image/png": "[encoded data removed]",
      "text/plain": [
       "<Figure size 432x288 with 2 Axes>"
      ]
     },
     "metadata": {
      "needs_background": "light"
     },
     "output_type": "display_data"
    }
   ],
   "source": [
    "from sklearn.metrics import confusion_matrix\n",
    "\n",
    "y_true = np.array(y_test).reshape([len(y_test), 1])\n",
    "y_pred = [1 if x>.5 else 0 for x in model.predict(x_test)]\n",
    "\n",
    "cm = confusion_matrix(y_true, y_pred)\n",
    "\n",
    "sns.heatmap(cm/np.sum(cm), annot=True)"
   ]
  }
 ],
 "metadata": {
  "interpreter": {
   "hash": "21a57429ec3e8645e55c73f48c0602291fe7ef492787aa20454f455a0eaec7b8"
  },
  "kernelspec": {
   "display_name": "Python 3.9.7 64-bit",
   "language": "python",
   "name": "python3"
  },
  "language_info": {
   "codemirror_mode": {
    "name": "ipython",
    "version": 3
   },
   "file_extension": ".py",
   "mimetype": "text/x-python",
   "name": "python",
   "nbconvert_exporter": "python",
   "pygments_lexer": "ipython3",
   "version": "3.9.7"
  },
  "orig_nbformat": 4
 },
 "nbformat": 4,
 "nbformat_minor": 2
}
