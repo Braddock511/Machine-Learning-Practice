{
 "cells": [
  {
   "cell_type": "code",
   "execution_count": 1,
   "metadata": {},
   "outputs": [],
   "source": [
    "import pandas as pd\n",
    "import matplotlib.pyplot as plt\n",
    "import numpy as np"
   ]
  },
  {
   "cell_type": "code",
   "execution_count": 2,
   "metadata": {},
   "outputs": [],
   "source": [
    "df = pd.read_excel('Fire.xlsx')"
   ]
  },
  {
   "cell_type": "code",
   "execution_count": 3,
   "metadata": {},
   "outputs": [
    {
     "data": {
      "text/html": [
       "<div>\n",
       "<style scoped>\n",
       "    .dataframe tbody tr th:only-of-type {\n",
       "        vertical-align: middle;\n",
       "    }\n",
       "\n",
       "    .dataframe tbody tr th {\n",
       "        vertical-align: top;\n",
       "    }\n",
       "\n",
       "    .dataframe thead th {\n",
       "        text-align: right;\n",
       "    }\n",
       "</style>\n",
       "<table border=\"1\" class=\"dataframe\">\n",
       "  <thead>\n",
       "    <tr style=\"text-align: right;\">\n",
       "      <th></th>\n",
       "      <th>SIZE</th>\n",
       "      <th>FUEL</th>\n",
       "      <th>DISTANCE</th>\n",
       "      <th>DESIBEL</th>\n",
       "      <th>AIRFLOW</th>\n",
       "      <th>FREQUENCY</th>\n",
       "      <th>STATUS</th>\n",
       "    </tr>\n",
       "  </thead>\n",
       "  <tbody>\n",
       "    <tr>\n",
       "      <th>0</th>\n",
       "      <td>1</td>\n",
       "      <td>gasoline</td>\n",
       "      <td>10</td>\n",
       "      <td>96</td>\n",
       "      <td>0.0</td>\n",
       "      <td>75</td>\n",
       "      <td>0</td>\n",
       "    </tr>\n",
       "    <tr>\n",
       "      <th>1</th>\n",
       "      <td>1</td>\n",
       "      <td>gasoline</td>\n",
       "      <td>10</td>\n",
       "      <td>96</td>\n",
       "      <td>0.0</td>\n",
       "      <td>72</td>\n",
       "      <td>1</td>\n",
       "    </tr>\n",
       "    <tr>\n",
       "      <th>2</th>\n",
       "      <td>1</td>\n",
       "      <td>gasoline</td>\n",
       "      <td>10</td>\n",
       "      <td>96</td>\n",
       "      <td>2.6</td>\n",
       "      <td>70</td>\n",
       "      <td>1</td>\n",
       "    </tr>\n",
       "    <tr>\n",
       "      <th>3</th>\n",
       "      <td>1</td>\n",
       "      <td>gasoline</td>\n",
       "      <td>10</td>\n",
       "      <td>96</td>\n",
       "      <td>3.2</td>\n",
       "      <td>68</td>\n",
       "      <td>1</td>\n",
       "    </tr>\n",
       "    <tr>\n",
       "      <th>4</th>\n",
       "      <td>1</td>\n",
       "      <td>gasoline</td>\n",
       "      <td>10</td>\n",
       "      <td>109</td>\n",
       "      <td>4.5</td>\n",
       "      <td>67</td>\n",
       "      <td>1</td>\n",
       "    </tr>\n",
       "    <tr>\n",
       "      <th>...</th>\n",
       "      <td>...</td>\n",
       "      <td>...</td>\n",
       "      <td>...</td>\n",
       "      <td>...</td>\n",
       "      <td>...</td>\n",
       "      <td>...</td>\n",
       "      <td>...</td>\n",
       "    </tr>\n",
       "    <tr>\n",
       "      <th>17437</th>\n",
       "      <td>7</td>\n",
       "      <td>lpg</td>\n",
       "      <td>190</td>\n",
       "      <td>86</td>\n",
       "      <td>2.2</td>\n",
       "      <td>5</td>\n",
       "      <td>0</td>\n",
       "    </tr>\n",
       "    <tr>\n",
       "      <th>17438</th>\n",
       "      <td>7</td>\n",
       "      <td>lpg</td>\n",
       "      <td>190</td>\n",
       "      <td>84</td>\n",
       "      <td>2.0</td>\n",
       "      <td>4</td>\n",
       "      <td>0</td>\n",
       "    </tr>\n",
       "    <tr>\n",
       "      <th>17439</th>\n",
       "      <td>7</td>\n",
       "      <td>lpg</td>\n",
       "      <td>190</td>\n",
       "      <td>80</td>\n",
       "      <td>1.5</td>\n",
       "      <td>3</td>\n",
       "      <td>0</td>\n",
       "    </tr>\n",
       "    <tr>\n",
       "      <th>17440</th>\n",
       "      <td>7</td>\n",
       "      <td>lpg</td>\n",
       "      <td>190</td>\n",
       "      <td>76</td>\n",
       "      <td>0.4</td>\n",
       "      <td>2</td>\n",
       "      <td>0</td>\n",
       "    </tr>\n",
       "    <tr>\n",
       "      <th>17441</th>\n",
       "      <td>7</td>\n",
       "      <td>lpg</td>\n",
       "      <td>190</td>\n",
       "      <td>72</td>\n",
       "      <td>0.0</td>\n",
       "      <td>1</td>\n",
       "      <td>0</td>\n",
       "    </tr>\n",
       "  </tbody>\n",
       "</table>\n",
       "<p>17442 rows × 7 columns</p>\n",
       "</div>"
      ],
      "text/plain": [
       "       SIZE      FUEL  DISTANCE  DESIBEL  AIRFLOW  FREQUENCY  STATUS\n",
       "0         1  gasoline        10       96      0.0         75       0\n",
       "1         1  gasoline        10       96      0.0         72       1\n",
       "2         1  gasoline        10       96      2.6         70       1\n",
       "3         1  gasoline        10       96      3.2         68       1\n",
       "4         1  gasoline        10      109      4.5         67       1\n",
       "...     ...       ...       ...      ...      ...        ...     ...\n",
       "17437     7       lpg       190       86      2.2          5       0\n",
       "17438     7       lpg       190       84      2.0          4       0\n",
       "17439     7       lpg       190       80      1.5          3       0\n",
       "17440     7       lpg       190       76      0.4          2       0\n",
       "17441     7       lpg       190       72      0.0          1       0\n",
       "\n",
       "[17442 rows x 7 columns]"
      ]
     },
     "execution_count": 3,
     "metadata": {},
     "output_type": "execute_result"
    }
   ],
   "source": [
    "df"
   ]
  },
  {
   "cell_type": "code",
   "execution_count": 4,
   "metadata": {},
   "outputs": [
    {
     "name": "stdout",
     "output_type": "stream",
     "text": [
      "<class 'pandas.core.frame.DataFrame'>\n",
      "RangeIndex: 17442 entries, 0 to 17441\n",
      "Data columns (total 7 columns):\n",
      " #   Column     Non-Null Count  Dtype  \n",
      "---  ------     --------------  -----  \n",
      " 0   SIZE       17442 non-null  int64  \n",
      " 1   FUEL       17442 non-null  object \n",
      " 2   DISTANCE   17442 non-null  int64  \n",
      " 3   DESIBEL    17442 non-null  int64  \n",
      " 4   AIRFLOW    17442 non-null  float64\n",
      " 5   FREQUENCY  17442 non-null  int64  \n",
      " 6   STATUS     17442 non-null  int64  \n",
      "dtypes: float64(1), int64(5), object(1)\n",
      "memory usage: 954.0+ KB\n"
     ]
    }
   ],
   "source": [
    "df.info()"
   ]
  },
  {
   "cell_type": "code",
   "execution_count": 5,
   "metadata": {},
   "outputs": [
    {
     "data": {
      "text/plain": [
       "array(['gasoline', 'thinner', 'kerosene', 'lpg'], dtype=object)"
      ]
     },
     "execution_count": 5,
     "metadata": {},
     "output_type": "execute_result"
    }
   ],
   "source": [
    "df['FUEL'].unique()"
   ]
  },
  {
   "cell_type": "code",
   "execution_count": 6,
   "metadata": {},
   "outputs": [],
   "source": [
    "df['FUEL'] = pd.Categorical(df['FUEL']).codes"
   ]
  },
  {
   "cell_type": "code",
   "execution_count": 7,
   "metadata": {},
   "outputs": [],
   "source": [
    "y = df.pop('STATUS')\n",
    "x = df"
   ]
  },
  {
   "cell_type": "code",
   "execution_count": 8,
   "metadata": {},
   "outputs": [],
   "source": [
    "from sklearn.model_selection import train_test_split\n",
    "\n",
    "x_train, x_test, y_train, y_test = train_test_split(x, y, test_size=0.2, random_state=1) \n",
    "x_train, x_val, y_train, y_val = train_test_split(x_train,y_train, test_size=0.2, random_state=1)"
   ]
  },
  {
   "cell_type": "code",
   "execution_count": 11,
   "metadata": {},
   "outputs": [],
   "source": [
    "from tensorflow.keras import Sequential\n",
    "from keras import layers\n",
    "\n",
    "model = Sequential()\n",
    "\n",
    "model.add(layers.Dense(100, activation='relu'))\n",
    "model.add(layers.Dense(1, activation='sigmoid'))"
   ]
  },
  {
   "cell_type": "code",
   "execution_count": 16,
   "metadata": {},
   "outputs": [
    {
     "name": "stdout",
     "output_type": "stream",
     "text": [
      "Epoch 1/30\n",
      "175/175 [==============================] - 1s 1ms/step - loss: 0.1691 - accuracy: 0.9266 - val_loss: 0.1704 - val_accuracy: 0.9215\n",
      "Epoch 2/30\n",
      "175/175 [==============================] - 0s 875us/step - loss: 0.1644 - accuracy: 0.9282 - val_loss: 0.1708 - val_accuracy: 0.9212\n",
      "Epoch 3/30\n",
      "175/175 [==============================] - 0s 889us/step - loss: 0.1635 - accuracy: 0.9264 - val_loss: 0.1716 - val_accuracy: 0.9219\n",
      "Epoch 4/30\n",
      "175/175 [==============================] - 0s 879us/step - loss: 0.1677 - accuracy: 0.9256 - val_loss: 0.2008 - val_accuracy: 0.9094\n",
      "Epoch 5/30\n",
      "175/175 [==============================] - 0s 868us/step - loss: 0.1654 - accuracy: 0.9286 - val_loss: 0.1638 - val_accuracy: 0.9262\n",
      "Epoch 6/30\n",
      "175/175 [==============================] - 0s 949us/step - loss: 0.1650 - accuracy: 0.9282 - val_loss: 0.1827 - val_accuracy: 0.9194\n",
      "Epoch 7/30\n",
      "175/175 [==============================] - 0s 863us/step - loss: 0.1648 - accuracy: 0.9259 - val_loss: 0.1690 - val_accuracy: 0.9205\n",
      "Epoch 8/30\n",
      "175/175 [==============================] - 0s 857us/step - loss: 0.1602 - accuracy: 0.9304 - val_loss: 0.1647 - val_accuracy: 0.9244\n",
      "Epoch 9/30\n",
      "175/175 [==============================] - 0s 888us/step - loss: 0.1624 - accuracy: 0.9300 - val_loss: 0.1693 - val_accuracy: 0.9251\n",
      "Epoch 10/30\n",
      "175/175 [==============================] - 0s 995us/step - loss: 0.1630 - accuracy: 0.9283 - val_loss: 0.1693 - val_accuracy: 0.9237\n",
      "Epoch 11/30\n",
      "175/175 [==============================] - 0s 854us/step - loss: 0.1634 - accuracy: 0.9266 - val_loss: 0.1970 - val_accuracy: 0.9154\n",
      "Epoch 12/30\n",
      "175/175 [==============================] - 0s 892us/step - loss: 0.1631 - accuracy: 0.9297 - val_loss: 0.1608 - val_accuracy: 0.9283\n",
      "Epoch 13/30\n",
      "175/175 [==============================] - 0s 883us/step - loss: 0.1604 - accuracy: 0.9293 - val_loss: 0.1630 - val_accuracy: 0.9269\n",
      "Epoch 14/30\n",
      "175/175 [==============================] - 0s 881us/step - loss: 0.1598 - accuracy: 0.9302 - val_loss: 0.1642 - val_accuracy: 0.9255\n",
      "Epoch 15/30\n",
      "175/175 [==============================] - 0s 900us/step - loss: 0.1620 - accuracy: 0.9295 - val_loss: 0.1706 - val_accuracy: 0.9255\n",
      "Epoch 16/30\n",
      "175/175 [==============================] - 0s 974us/step - loss: 0.1639 - accuracy: 0.9273 - val_loss: 0.2045 - val_accuracy: 0.9090\n",
      "Epoch 17/30\n",
      "175/175 [==============================] - 0s 858us/step - loss: 0.1593 - accuracy: 0.9306 - val_loss: 0.1627 - val_accuracy: 0.9269\n",
      "Epoch 18/30\n",
      "175/175 [==============================] - 0s 894us/step - loss: 0.1592 - accuracy: 0.9307 - val_loss: 0.1836 - val_accuracy: 0.9169\n",
      "Epoch 19/30\n",
      "175/175 [==============================] - 0s 895us/step - loss: 0.1644 - accuracy: 0.9273 - val_loss: 0.1747 - val_accuracy: 0.9215\n",
      "Epoch 20/30\n",
      "175/175 [==============================] - 0s 862us/step - loss: 0.1620 - accuracy: 0.9304 - val_loss: 0.1705 - val_accuracy: 0.9244\n",
      "Epoch 21/30\n",
      "175/175 [==============================] - 0s 871us/step - loss: 0.1589 - accuracy: 0.9303 - val_loss: 0.1820 - val_accuracy: 0.9169\n",
      "Epoch 22/30\n",
      "175/175 [==============================] - 0s 881us/step - loss: 0.1608 - accuracy: 0.9310 - val_loss: 0.1644 - val_accuracy: 0.9291\n",
      "Epoch 23/30\n",
      "175/175 [==============================] - 0s 894us/step - loss: 0.1584 - accuracy: 0.9307 - val_loss: 0.1576 - val_accuracy: 0.9298\n",
      "Epoch 24/30\n",
      "175/175 [==============================] - 0s 887us/step - loss: 0.1587 - accuracy: 0.9281 - val_loss: 0.1848 - val_accuracy: 0.9201\n",
      "Epoch 25/30\n",
      "175/175 [==============================] - 0s 895us/step - loss: 0.1586 - accuracy: 0.9317 - val_loss: 0.1652 - val_accuracy: 0.9251\n",
      "Epoch 26/30\n",
      "175/175 [==============================] - 0s 876us/step - loss: 0.1564 - accuracy: 0.9319 - val_loss: 0.1599 - val_accuracy: 0.9326\n",
      "Epoch 27/30\n",
      "175/175 [==============================] - 0s 882us/step - loss: 0.1593 - accuracy: 0.9315 - val_loss: 0.1584 - val_accuracy: 0.9305\n",
      "Epoch 28/30\n",
      "175/175 [==============================] - 0s 885us/step - loss: 0.1562 - accuracy: 0.9320 - val_loss: 0.1574 - val_accuracy: 0.9301\n",
      "Epoch 29/30\n",
      "175/175 [==============================] - 0s 918us/step - loss: 0.1583 - accuracy: 0.9313 - val_loss: 0.1684 - val_accuracy: 0.9298\n",
      "Epoch 30/30\n",
      "175/175 [==============================] - 0s 856us/step - loss: 0.1569 - accuracy: 0.9322 - val_loss: 0.1719 - val_accuracy: 0.9237\n"
     ]
    }
   ],
   "source": [
    "model.compile(optimizer='adam', loss='binary_crossentropy', metrics=['accuracy'])\n",
    "\n",
    "history = model.fit(x_train, y_train, epochs=30, batch_size=64, validation_data=(x_val, y_val))"
   ]
  },
  {
   "cell_type": "code",
   "execution_count": 17,
   "metadata": {},
   "outputs": [
    {
     "data": {
      "text/plain": [
       "(0.0, 1.0)"
      ]
     },
     "execution_count": 17,
     "metadata": {},
     "output_type": "execute_result"
    },
    {
     "data": {
      "image/png": "[encoded data removed]",
      "text/plain": [
       "<Figure size 720x360 with 1 Axes>"
      ]
     },
     "metadata": {
      "needs_background": "light"
     },
     "output_type": "display_data"
    }
   ],
   "source": [
    "pd.DataFrame(history.history).plot(figsize=(10,5))\n",
    "plt.grid(True)\n",
    "plt.gca().set_ylim(0,1)"
   ]
  },
  {
   "cell_type": "code",
   "execution_count": 20,
   "metadata": {},
   "outputs": [
    {
     "name": "stdout",
     "output_type": "stream",
     "text": [
      "55/55 [==============================] - 0s 794us/step - loss: 0.1707 - accuracy: 0.9240\n"
     ]
    },
    {
     "data": {
      "text/plain": [
       "[0.17069683969020844, 0.9240469932556152]"
      ]
     },
     "execution_count": 20,
     "metadata": {},
     "output_type": "execute_result"
    }
   ],
   "source": [
    "model.evaluate(x_test, y_test, batch_size=64)"
   ]
  },
  {
   "cell_type": "code",
   "execution_count": 31,
   "metadata": {},
   "outputs": [
    {
     "data": {
      "text/plain": [
       "<AxesSubplot:>"
      ]
     },
     "execution_count": 31,
     "metadata": {},
     "output_type": "execute_result"
    },
    {
     "data": {
      "image/png": "[encoded data removed]",
      "text/plain": [
       "<Figure size 432x288 with 2 Axes>"
      ]
     },
     "metadata": {
      "needs_background": "light"
     },
     "output_type": "display_data"
    }
   ],
   "source": [
    "from sklearn.metrics import confusion_matrix\n",
    "import seaborn as sns\n",
    "\n",
    "y_true = np.array(y_test).reshape([len(y_test), 1])\n",
    "y_pred = [1 if x>.5 else 0 for x in model.predict(x_test)]\n",
    "\n",
    "cm = confusion_matrix(y_true, y_pred)\n",
    "\n",
    "sns.heatmap(cm/np.sum(cm), annot=True)"
   ]
  }
 ],
 "metadata": {
  "interpreter": {
   "hash": "21a57429ec3e8645e55c73f48c0602291fe7ef492787aa20454f455a0eaec7b8"
  },
  "kernelspec": {
   "display_name": "Python 3.9.7 64-bit",
   "language": "python",
   "name": "python3"
  },
  "language_info": {
   "codemirror_mode": {
    "name": "ipython",
    "version": 3
   },
   "file_extension": ".py",
   "mimetype": "text/x-python",
   "name": "python",
   "nbconvert_exporter": "python",
   "pygments_lexer": "ipython3",
   "version": "3.9.7"
  },
  "orig_nbformat": 4
 },
 "nbformat": 4,
 "nbformat_minor": 2
}
