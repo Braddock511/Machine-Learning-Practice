{
 "cells": [
  {
   "cell_type": "code",
   "execution_count": 175,
   "metadata": {},
   "outputs": [],
   "source": [
    "import pandas as pd\n",
    "import matplotlib.pyplot as plt\n",
    "import seaborn as sns\n",
    "import numpy as np"
   ]
  },
  {
   "cell_type": "markdown",
   "metadata": {},
   "source": [
    "**Import data**"
   ]
  },
  {
   "cell_type": "code",
   "execution_count": 176,
   "metadata": {},
   "outputs": [],
   "source": [
    "df = pd.read_excel('Fire.xlsx')"
   ]
  },
  {
   "cell_type": "code",
   "execution_count": 177,
   "metadata": {},
   "outputs": [
    {
     "data": {
      "text/html": [
       "<div>\n",
       "<style scoped>\n",
       "    .dataframe tbody tr th:only-of-type {\n",
       "        vertical-align: middle;\n",
       "    }\n",
       "\n",
       "    .dataframe tbody tr th {\n",
       "        vertical-align: top;\n",
       "    }\n",
       "\n",
       "    .dataframe thead th {\n",
       "        text-align: right;\n",
       "    }\n",
       "</style>\n",
       "<table border=\"1\" class=\"dataframe\">\n",
       "  <thead>\n",
       "    <tr style=\"text-align: right;\">\n",
       "      <th></th>\n",
       "      <th>SIZE</th>\n",
       "      <th>FUEL</th>\n",
       "      <th>DISTANCE</th>\n",
       "      <th>DESIBEL</th>\n",
       "      <th>AIRFLOW</th>\n",
       "      <th>FREQUENCY</th>\n",
       "      <th>STATUS</th>\n",
       "    </tr>\n",
       "  </thead>\n",
       "  <tbody>\n",
       "    <tr>\n",
       "      <th>0</th>\n",
       "      <td>1</td>\n",
       "      <td>gasoline</td>\n",
       "      <td>10</td>\n",
       "      <td>96</td>\n",
       "      <td>0.0</td>\n",
       "      <td>75</td>\n",
       "      <td>0</td>\n",
       "    </tr>\n",
       "    <tr>\n",
       "      <th>1</th>\n",
       "      <td>1</td>\n",
       "      <td>gasoline</td>\n",
       "      <td>10</td>\n",
       "      <td>96</td>\n",
       "      <td>0.0</td>\n",
       "      <td>72</td>\n",
       "      <td>1</td>\n",
       "    </tr>\n",
       "    <tr>\n",
       "      <th>2</th>\n",
       "      <td>1</td>\n",
       "      <td>gasoline</td>\n",
       "      <td>10</td>\n",
       "      <td>96</td>\n",
       "      <td>2.6</td>\n",
       "      <td>70</td>\n",
       "      <td>1</td>\n",
       "    </tr>\n",
       "    <tr>\n",
       "      <th>3</th>\n",
       "      <td>1</td>\n",
       "      <td>gasoline</td>\n",
       "      <td>10</td>\n",
       "      <td>96</td>\n",
       "      <td>3.2</td>\n",
       "      <td>68</td>\n",
       "      <td>1</td>\n",
       "    </tr>\n",
       "    <tr>\n",
       "      <th>4</th>\n",
       "      <td>1</td>\n",
       "      <td>gasoline</td>\n",
       "      <td>10</td>\n",
       "      <td>109</td>\n",
       "      <td>4.5</td>\n",
       "      <td>67</td>\n",
       "      <td>1</td>\n",
       "    </tr>\n",
       "    <tr>\n",
       "      <th>...</th>\n",
       "      <td>...</td>\n",
       "      <td>...</td>\n",
       "      <td>...</td>\n",
       "      <td>...</td>\n",
       "      <td>...</td>\n",
       "      <td>...</td>\n",
       "      <td>...</td>\n",
       "    </tr>\n",
       "    <tr>\n",
       "      <th>17437</th>\n",
       "      <td>7</td>\n",
       "      <td>lpg</td>\n",
       "      <td>190</td>\n",
       "      <td>86</td>\n",
       "      <td>2.2</td>\n",
       "      <td>5</td>\n",
       "      <td>0</td>\n",
       "    </tr>\n",
       "    <tr>\n",
       "      <th>17438</th>\n",
       "      <td>7</td>\n",
       "      <td>lpg</td>\n",
       "      <td>190</td>\n",
       "      <td>84</td>\n",
       "      <td>2.0</td>\n",
       "      <td>4</td>\n",
       "      <td>0</td>\n",
       "    </tr>\n",
       "    <tr>\n",
       "      <th>17439</th>\n",
       "      <td>7</td>\n",
       "      <td>lpg</td>\n",
       "      <td>190</td>\n",
       "      <td>80</td>\n",
       "      <td>1.5</td>\n",
       "      <td>3</td>\n",
       "      <td>0</td>\n",
       "    </tr>\n",
       "    <tr>\n",
       "      <th>17440</th>\n",
       "      <td>7</td>\n",
       "      <td>lpg</td>\n",
       "      <td>190</td>\n",
       "      <td>76</td>\n",
       "      <td>0.4</td>\n",
       "      <td>2</td>\n",
       "      <td>0</td>\n",
       "    </tr>\n",
       "    <tr>\n",
       "      <th>17441</th>\n",
       "      <td>7</td>\n",
       "      <td>lpg</td>\n",
       "      <td>190</td>\n",
       "      <td>72</td>\n",
       "      <td>0.0</td>\n",
       "      <td>1</td>\n",
       "      <td>0</td>\n",
       "    </tr>\n",
       "  </tbody>\n",
       "</table>\n",
       "<p>17442 rows × 7 columns</p>\n",
       "</div>"
      ],
      "text/plain": [
       "       SIZE      FUEL  DISTANCE  DESIBEL  AIRFLOW  FREQUENCY  STATUS\n",
       "0         1  gasoline        10       96      0.0         75       0\n",
       "1         1  gasoline        10       96      0.0         72       1\n",
       "2         1  gasoline        10       96      2.6         70       1\n",
       "3         1  gasoline        10       96      3.2         68       1\n",
       "4         1  gasoline        10      109      4.5         67       1\n",
       "...     ...       ...       ...      ...      ...        ...     ...\n",
       "17437     7       lpg       190       86      2.2          5       0\n",
       "17438     7       lpg       190       84      2.0          4       0\n",
       "17439     7       lpg       190       80      1.5          3       0\n",
       "17440     7       lpg       190       76      0.4          2       0\n",
       "17441     7       lpg       190       72      0.0          1       0\n",
       "\n",
       "[17442 rows x 7 columns]"
      ]
     },
     "execution_count": 177,
     "metadata": {},
     "output_type": "execute_result"
    }
   ],
   "source": [
    "df"
   ]
  },
  {
   "cell_type": "code",
   "execution_count": 178,
   "metadata": {},
   "outputs": [
    {
     "name": "stdout",
     "output_type": "stream",
     "text": [
      "<class 'pandas.core.frame.DataFrame'>\n",
      "RangeIndex: 17442 entries, 0 to 17441\n",
      "Data columns (total 7 columns):\n",
      " #   Column     Non-Null Count  Dtype  \n",
      "---  ------     --------------  -----  \n",
      " 0   SIZE       17442 non-null  int64  \n",
      " 1   FUEL       17442 non-null  object \n",
      " 2   DISTANCE   17442 non-null  int64  \n",
      " 3   DESIBEL    17442 non-null  int64  \n",
      " 4   AIRFLOW    17442 non-null  float64\n",
      " 5   FREQUENCY  17442 non-null  int64  \n",
      " 6   STATUS     17442 non-null  int64  \n",
      "dtypes: float64(1), int64(5), object(1)\n",
      "memory usage: 954.0+ KB\n"
     ]
    }
   ],
   "source": [
    "df.info()"
   ]
  },
  {
   "cell_type": "code",
   "execution_count": 179,
   "metadata": {},
   "outputs": [
    {
     "data": {
      "text/html": [
       "<div>\n",
       "<style scoped>\n",
       "    .dataframe tbody tr th:only-of-type {\n",
       "        vertical-align: middle;\n",
       "    }\n",
       "\n",
       "    .dataframe tbody tr th {\n",
       "        vertical-align: top;\n",
       "    }\n",
       "\n",
       "    .dataframe thead th {\n",
       "        text-align: right;\n",
       "    }\n",
       "</style>\n",
       "<table border=\"1\" class=\"dataframe\">\n",
       "  <thead>\n",
       "    <tr style=\"text-align: right;\">\n",
       "      <th></th>\n",
       "      <th>SIZE</th>\n",
       "      <th>DISTANCE</th>\n",
       "      <th>DESIBEL</th>\n",
       "      <th>AIRFLOW</th>\n",
       "      <th>FREQUENCY</th>\n",
       "      <th>STATUS</th>\n",
       "    </tr>\n",
       "  </thead>\n",
       "  <tbody>\n",
       "    <tr>\n",
       "      <th>count</th>\n",
       "      <td>17442.000000</td>\n",
       "      <td>17442.000000</td>\n",
       "      <td>17442.000000</td>\n",
       "      <td>17442.000000</td>\n",
       "      <td>17442.000000</td>\n",
       "      <td>17442.000000</td>\n",
       "    </tr>\n",
       "    <tr>\n",
       "      <th>mean</th>\n",
       "      <td>3.411765</td>\n",
       "      <td>100.000000</td>\n",
       "      <td>96.379142</td>\n",
       "      <td>6.975634</td>\n",
       "      <td>31.611111</td>\n",
       "      <td>0.497821</td>\n",
       "    </tr>\n",
       "    <tr>\n",
       "      <th>std</th>\n",
       "      <td>1.750977</td>\n",
       "      <td>54.773826</td>\n",
       "      <td>8.164096</td>\n",
       "      <td>4.736169</td>\n",
       "      <td>20.939149</td>\n",
       "      <td>0.500010</td>\n",
       "    </tr>\n",
       "    <tr>\n",
       "      <th>min</th>\n",
       "      <td>1.000000</td>\n",
       "      <td>10.000000</td>\n",
       "      <td>72.000000</td>\n",
       "      <td>0.000000</td>\n",
       "      <td>1.000000</td>\n",
       "      <td>0.000000</td>\n",
       "    </tr>\n",
       "    <tr>\n",
       "      <th>25%</th>\n",
       "      <td>2.000000</td>\n",
       "      <td>50.000000</td>\n",
       "      <td>90.000000</td>\n",
       "      <td>3.200000</td>\n",
       "      <td>14.000000</td>\n",
       "      <td>0.000000</td>\n",
       "    </tr>\n",
       "    <tr>\n",
       "      <th>50%</th>\n",
       "      <td>3.000000</td>\n",
       "      <td>100.000000</td>\n",
       "      <td>95.000000</td>\n",
       "      <td>5.800000</td>\n",
       "      <td>27.500000</td>\n",
       "      <td>0.000000</td>\n",
       "    </tr>\n",
       "    <tr>\n",
       "      <th>75%</th>\n",
       "      <td>5.000000</td>\n",
       "      <td>150.000000</td>\n",
       "      <td>104.000000</td>\n",
       "      <td>11.200000</td>\n",
       "      <td>47.000000</td>\n",
       "      <td>1.000000</td>\n",
       "    </tr>\n",
       "    <tr>\n",
       "      <th>max</th>\n",
       "      <td>7.000000</td>\n",
       "      <td>190.000000</td>\n",
       "      <td>113.000000</td>\n",
       "      <td>17.000000</td>\n",
       "      <td>75.000000</td>\n",
       "      <td>1.000000</td>\n",
       "    </tr>\n",
       "  </tbody>\n",
       "</table>\n",
       "</div>"
      ],
      "text/plain": [
       "               SIZE      DISTANCE       DESIBEL       AIRFLOW     FREQUENCY  \\\n",
       "count  17442.000000  17442.000000  17442.000000  17442.000000  17442.000000   \n",
       "mean       3.411765    100.000000     96.379142      6.975634     31.611111   \n",
       "std        1.750977     54.773826      8.164096      4.736169     20.939149   \n",
       "min        1.000000     10.000000     72.000000      0.000000      1.000000   \n",
       "25%        2.000000     50.000000     90.000000      3.200000     14.000000   \n",
       "50%        3.000000    100.000000     95.000000      5.800000     27.500000   \n",
       "75%        5.000000    150.000000    104.000000     11.200000     47.000000   \n",
       "max        7.000000    190.000000    113.000000     17.000000     75.000000   \n",
       "\n",
       "             STATUS  \n",
       "count  17442.000000  \n",
       "mean       0.497821  \n",
       "std        0.500010  \n",
       "min        0.000000  \n",
       "25%        0.000000  \n",
       "50%        0.000000  \n",
       "75%        1.000000  \n",
       "max        1.000000  "
      ]
     },
     "execution_count": 179,
     "metadata": {},
     "output_type": "execute_result"
    }
   ],
   "source": [
    "df.describe()"
   ]
  },
  {
   "cell_type": "markdown",
   "metadata": {},
   "source": [
    "**Convert type column 'FUEL' to int**"
   ]
  },
  {
   "cell_type": "code",
   "execution_count": 184,
   "metadata": {},
   "outputs": [],
   "source": [
    "from sklearn.preprocessing import OrdinalEncoder\n",
    "\n",
    "label_encoder = OrdinalEncoder()\n",
    "\n",
    "df['FUEL'] = label_encoder.fit_transform(df[['FUEL']])"
   ]
  },
  {
   "cell_type": "markdown",
   "metadata": {},
   "source": [
    "**Split data to x and y**"
   ]
  },
  {
   "cell_type": "code",
   "execution_count": 185,
   "metadata": {},
   "outputs": [],
   "source": [
    "y = df.pop('STATUS')\n",
    "x = df.copy()"
   ]
  },
  {
   "cell_type": "code",
   "execution_count": 186,
   "metadata": {},
   "outputs": [
    {
     "data": {
      "text/plain": [
       "<AxesSubplot:>"
      ]
     },
     "execution_count": 186,
     "metadata": {},
     "output_type": "execute_result"
    },
    {
     "data": {
      "image/png": "[encoded data removed]",
      "text/plain": [
       "<Figure size 432x288 with 1 Axes>"
      ]
     },
     "metadata": {
      "needs_background": "light"
     },
     "output_type": "display_data"
    }
   ],
   "source": [
    "from sklearn.feature_selection import mutual_info_classif\n",
    "\n",
    "imp = mutual_info_classif(x,y)\n",
    "\n",
    "sns.barplot(x=x.columns, y=imp)"
   ]
  },
  {
   "cell_type": "code",
   "execution_count": null,
   "metadata": {},
   "outputs": [],
   "source": [
    "from sklearn.model_selection import train_test_split\n",
    "\n",
    "x_train, x_test, y_train, y_test = train_test_split(x, y, test_size=0.2, random_state=1) \n",
    "x_train, x_val, y_train, y_val = train_test_split(x_train,y_train, test_size=0.2, random_state=1)"
   ]
  },
  {
   "cell_type": "code",
   "execution_count": 194,
   "metadata": {},
   "outputs": [],
   "source": [
    "from sklearn.preprocessing import StandardScaler\n",
    "ss=StandardScaler()\n",
    "x_train = ss.fit_transform(x_train)\n",
    "x_test = ss.fit_transform(x_test)\n",
    "x_val = ss.fit_transform(x_val)"
   ]
  },
  {
   "cell_type": "markdown",
   "metadata": {},
   "source": [
    "**Model**"
   ]
  },
  {
   "cell_type": "code",
   "execution_count": 207,
   "metadata": {},
   "outputs": [
    {
     "name": "stdout",
     "output_type": "stream",
     "text": [
      "Model: \"sequential_27\"\n",
      "_________________________________________________________________\n",
      " Layer (type)                Output Shape              Param #   \n",
      "=================================================================\n",
      " dense_67 (Dense)            (None, 5)                 35        \n",
      "                                                                 \n",
      " dense_68 (Dense)            (None, 1)                 6         \n",
      "                                                                 \n",
      "=================================================================\n",
      "Total params: 41\n",
      "Trainable params: 41\n",
      "Non-trainable params: 0\n",
      "_________________________________________________________________\n"
     ]
    }
   ],
   "source": [
    "from tensorflow.keras import Sequential\n",
    "from keras import layers\n",
    "\n",
    "model = Sequential()\n",
    "\n",
    "model.add(layers.Input(shape=(6,)))\n",
    "model.add(layers.Dense(5, activation='relu'))\n",
    "model.add(layers.Dense(1, activation='sigmoid'))\n",
    "\n",
    "model.summary()"
   ]
  },
  {
   "cell_type": "code",
   "execution_count": 208,
   "metadata": {},
   "outputs": [
    {
     "name": "stdout",
     "output_type": "stream",
     "text": [
      "Epoch 1/100\n",
      "175/175 [==============================] - 0s 1ms/step - loss: 0.3879 - accuracy: 0.8756 - val_loss: 0.3481 - val_accuracy: 0.8696\n",
      "Epoch 2/100\n",
      "175/175 [==============================] - 0s 811us/step - loss: 0.3066 - accuracy: 0.8836 - val_loss: 0.2991 - val_accuracy: 0.8764\n",
      "Epoch 3/100\n",
      "175/175 [==============================] - 0s 818us/step - loss: 0.2738 - accuracy: 0.8872 - val_loss: 0.2790 - val_accuracy: 0.8785\n",
      "Epoch 4/100\n",
      "175/175 [==============================] - 0s 929us/step - loss: 0.2591 - accuracy: 0.8889 - val_loss: 0.2679 - val_accuracy: 0.8807\n",
      "Epoch 5/100\n",
      "175/175 [==============================] - 0s 815us/step - loss: 0.2505 - accuracy: 0.8908 - val_loss: 0.2602 - val_accuracy: 0.8821\n",
      "Epoch 6/100\n",
      "175/175 [==============================] - 0s 836us/step - loss: 0.2440 - accuracy: 0.8925 - val_loss: 0.2537 - val_accuracy: 0.8871\n",
      "Epoch 7/100\n",
      "175/175 [==============================] - 0s 846us/step - loss: 0.2389 - accuracy: 0.8946 - val_loss: 0.2490 - val_accuracy: 0.8875\n",
      "Epoch 8/100\n",
      "175/175 [==============================] - 0s 831us/step - loss: 0.2344 - accuracy: 0.8965 - val_loss: 0.2452 - val_accuracy: 0.8904\n",
      "Epoch 9/100\n",
      "175/175 [==============================] - 0s 798us/step - loss: 0.2308 - accuracy: 0.8965 - val_loss: 0.2418 - val_accuracy: 0.8911\n",
      "Epoch 10/100\n",
      "175/175 [==============================] - 0s 836us/step - loss: 0.2274 - accuracy: 0.8982 - val_loss: 0.2390 - val_accuracy: 0.8914\n",
      "Epoch 11/100\n",
      "175/175 [==============================] - 0s 813us/step - loss: 0.2245 - accuracy: 0.8986 - val_loss: 0.2363 - val_accuracy: 0.8936\n",
      "Epoch 12/100\n",
      "175/175 [==============================] - 0s 859us/step - loss: 0.2221 - accuracy: 0.9009 - val_loss: 0.2347 - val_accuracy: 0.8925\n",
      "Epoch 13/100\n",
      "175/175 [==============================] - 0s 845us/step - loss: 0.2198 - accuracy: 0.9021 - val_loss: 0.2332 - val_accuracy: 0.8932\n",
      "Epoch 14/100\n",
      "175/175 [==============================] - 0s 835us/step - loss: 0.2180 - accuracy: 0.9029 - val_loss: 0.2317 - val_accuracy: 0.8943\n",
      "Epoch 15/100\n",
      "175/175 [==============================] - 0s 836us/step - loss: 0.2165 - accuracy: 0.9032 - val_loss: 0.2307 - val_accuracy: 0.8925\n",
      "Epoch 16/100\n",
      "175/175 [==============================] - 0s 866us/step - loss: 0.2151 - accuracy: 0.9035 - val_loss: 0.2295 - val_accuracy: 0.8932\n",
      "Epoch 17/100\n",
      "175/175 [==============================] - 0s 813us/step - loss: 0.2139 - accuracy: 0.9033 - val_loss: 0.2287 - val_accuracy: 0.8950\n",
      "Epoch 18/100\n",
      "175/175 [==============================] - 0s 823us/step - loss: 0.2129 - accuracy: 0.9030 - val_loss: 0.2282 - val_accuracy: 0.8929\n",
      "Epoch 19/100\n",
      "175/175 [==============================] - 0s 838us/step - loss: 0.2118 - accuracy: 0.9045 - val_loss: 0.2278 - val_accuracy: 0.8918\n",
      "Epoch 20/100\n",
      "175/175 [==============================] - 0s 858us/step - loss: 0.2110 - accuracy: 0.9051 - val_loss: 0.2272 - val_accuracy: 0.8925\n",
      "Epoch 21/100\n",
      "175/175 [==============================] - 0s 800us/step - loss: 0.2101 - accuracy: 0.9050 - val_loss: 0.2261 - val_accuracy: 0.8947\n",
      "Epoch 22/100\n",
      "175/175 [==============================] - 0s 859us/step - loss: 0.2095 - accuracy: 0.9064 - val_loss: 0.2256 - val_accuracy: 0.8950\n",
      "Epoch 23/100\n",
      "175/175 [==============================] - 0s 858us/step - loss: 0.2089 - accuracy: 0.9058 - val_loss: 0.2251 - val_accuracy: 0.8954\n",
      "Epoch 24/100\n",
      "175/175 [==============================] - 0s 841us/step - loss: 0.2084 - accuracy: 0.9054 - val_loss: 0.2247 - val_accuracy: 0.8968\n",
      "Epoch 25/100\n",
      "175/175 [==============================] - 0s 828us/step - loss: 0.2077 - accuracy: 0.9052 - val_loss: 0.2238 - val_accuracy: 0.8954\n",
      "Epoch 26/100\n",
      "175/175 [==============================] - 0s 794us/step - loss: 0.2072 - accuracy: 0.9066 - val_loss: 0.2236 - val_accuracy: 0.8968\n",
      "Epoch 27/100\n",
      "175/175 [==============================] - 0s 808us/step - loss: 0.2067 - accuracy: 0.9060 - val_loss: 0.2232 - val_accuracy: 0.8968\n",
      "Epoch 28/100\n",
      "175/175 [==============================] - 0s 826us/step - loss: 0.2063 - accuracy: 0.9059 - val_loss: 0.2227 - val_accuracy: 0.8965\n",
      "Epoch 29/100\n",
      "175/175 [==============================] - 0s 811us/step - loss: 0.2059 - accuracy: 0.9072 - val_loss: 0.2219 - val_accuracy: 0.8965\n",
      "Epoch 30/100\n",
      "175/175 [==============================] - 0s 818us/step - loss: 0.2054 - accuracy: 0.9077 - val_loss: 0.2217 - val_accuracy: 0.8972\n",
      "Epoch 31/100\n",
      "175/175 [==============================] - 0s 837us/step - loss: 0.2050 - accuracy: 0.9081 - val_loss: 0.2219 - val_accuracy: 0.8979\n",
      "Epoch 32/100\n",
      "175/175 [==============================] - 0s 827us/step - loss: 0.2048 - accuracy: 0.9078 - val_loss: 0.2204 - val_accuracy: 0.8979\n",
      "Epoch 33/100\n",
      "175/175 [==============================] - 0s 801us/step - loss: 0.2043 - accuracy: 0.9082 - val_loss: 0.2203 - val_accuracy: 0.8968\n",
      "Epoch 34/100\n",
      "175/175 [==============================] - 0s 812us/step - loss: 0.2040 - accuracy: 0.9086 - val_loss: 0.2203 - val_accuracy: 0.8961\n",
      "Epoch 35/100\n",
      "175/175 [==============================] - 0s 808us/step - loss: 0.2038 - accuracy: 0.9088 - val_loss: 0.2196 - val_accuracy: 0.8968\n",
      "Epoch 36/100\n",
      "175/175 [==============================] - 0s 845us/step - loss: 0.2035 - accuracy: 0.9082 - val_loss: 0.2192 - val_accuracy: 0.8968\n",
      "Epoch 37/100\n",
      "175/175 [==============================] - 0s 821us/step - loss: 0.2030 - accuracy: 0.9098 - val_loss: 0.2191 - val_accuracy: 0.8986\n",
      "Epoch 38/100\n",
      "175/175 [==============================] - 0s 775us/step - loss: 0.2027 - accuracy: 0.9100 - val_loss: 0.2182 - val_accuracy: 0.8990\n",
      "Epoch 39/100\n",
      "175/175 [==============================] - 0s 786us/step - loss: 0.2025 - accuracy: 0.9100 - val_loss: 0.2184 - val_accuracy: 0.8997\n",
      "Epoch 40/100\n",
      "175/175 [==============================] - 0s 818us/step - loss: 0.2021 - accuracy: 0.9099 - val_loss: 0.2178 - val_accuracy: 0.8990\n",
      "Epoch 41/100\n",
      "175/175 [==============================] - 0s 810us/step - loss: 0.2020 - accuracy: 0.9101 - val_loss: 0.2178 - val_accuracy: 0.8997\n",
      "Epoch 42/100\n",
      "175/175 [==============================] - 0s 842us/step - loss: 0.2016 - accuracy: 0.9099 - val_loss: 0.2173 - val_accuracy: 0.8990\n",
      "Epoch 43/100\n",
      "175/175 [==============================] - 0s 820us/step - loss: 0.2015 - accuracy: 0.9100 - val_loss: 0.2168 - val_accuracy: 0.8997\n",
      "Epoch 44/100\n",
      "175/175 [==============================] - 0s 815us/step - loss: 0.2012 - accuracy: 0.9100 - val_loss: 0.2170 - val_accuracy: 0.9004\n",
      "Epoch 45/100\n",
      "175/175 [==============================] - 0s 811us/step - loss: 0.2010 - accuracy: 0.9107 - val_loss: 0.2165 - val_accuracy: 0.8993\n",
      "Epoch 46/100\n",
      "175/175 [==============================] - 0s 805us/step - loss: 0.2007 - accuracy: 0.9105 - val_loss: 0.2162 - val_accuracy: 0.8997\n",
      "Epoch 47/100\n",
      "175/175 [==============================] - 0s 827us/step - loss: 0.2005 - accuracy: 0.9110 - val_loss: 0.2163 - val_accuracy: 0.8990\n",
      "Epoch 48/100\n",
      "175/175 [==============================] - 0s 807us/step - loss: 0.2003 - accuracy: 0.9114 - val_loss: 0.2158 - val_accuracy: 0.8993\n",
      "Epoch 49/100\n",
      "175/175 [==============================] - 0s 828us/step - loss: 0.2000 - accuracy: 0.9112 - val_loss: 0.2150 - val_accuracy: 0.8986\n",
      "Epoch 50/100\n",
      "175/175 [==============================] - 0s 808us/step - loss: 0.2000 - accuracy: 0.9118 - val_loss: 0.2148 - val_accuracy: 0.9000\n",
      "Epoch 51/100\n",
      "175/175 [==============================] - 0s 839us/step - loss: 0.1997 - accuracy: 0.9115 - val_loss: 0.2146 - val_accuracy: 0.9000\n",
      "Epoch 52/100\n",
      "175/175 [==============================] - 0s 854us/step - loss: 0.1993 - accuracy: 0.9115 - val_loss: 0.2146 - val_accuracy: 0.9008\n",
      "Epoch 53/100\n",
      "175/175 [==============================] - 0s 822us/step - loss: 0.1993 - accuracy: 0.9122 - val_loss: 0.2146 - val_accuracy: 0.9011\n",
      "Epoch 54/100\n",
      "175/175 [==============================] - 0s 840us/step - loss: 0.1988 - accuracy: 0.9116 - val_loss: 0.2137 - val_accuracy: 0.9004\n",
      "Epoch 55/100\n",
      "175/175 [==============================] - 0s 822us/step - loss: 0.1987 - accuracy: 0.9121 - val_loss: 0.2137 - val_accuracy: 0.9029\n",
      "Epoch 56/100\n",
      "175/175 [==============================] - 0s 832us/step - loss: 0.1985 - accuracy: 0.9119 - val_loss: 0.2134 - val_accuracy: 0.9015\n",
      "Epoch 57/100\n",
      "175/175 [==============================] - 0s 805us/step - loss: 0.1982 - accuracy: 0.9129 - val_loss: 0.2129 - val_accuracy: 0.9011\n",
      "Epoch 58/100\n",
      "175/175 [==============================] - 0s 824us/step - loss: 0.1982 - accuracy: 0.9130 - val_loss: 0.2129 - val_accuracy: 0.9015\n",
      "Epoch 59/100\n",
      "175/175 [==============================] - 0s 818us/step - loss: 0.1979 - accuracy: 0.9129 - val_loss: 0.2127 - val_accuracy: 0.9004\n",
      "Epoch 60/100\n",
      "175/175 [==============================] - 0s 853us/step - loss: 0.1976 - accuracy: 0.9128 - val_loss: 0.2126 - val_accuracy: 0.9008\n",
      "Epoch 61/100\n",
      "175/175 [==============================] - 0s 816us/step - loss: 0.1975 - accuracy: 0.9127 - val_loss: 0.2118 - val_accuracy: 0.9008\n",
      "Epoch 62/100\n",
      "175/175 [==============================] - 0s 806us/step - loss: 0.1973 - accuracy: 0.9127 - val_loss: 0.2117 - val_accuracy: 0.9036\n",
      "Epoch 63/100\n",
      "175/175 [==============================] - 0s 801us/step - loss: 0.1970 - accuracy: 0.9130 - val_loss: 0.2116 - val_accuracy: 0.9022\n",
      "Epoch 64/100\n",
      "175/175 [==============================] - 0s 852us/step - loss: 0.1970 - accuracy: 0.9136 - val_loss: 0.2115 - val_accuracy: 0.9022\n",
      "Epoch 65/100\n",
      "175/175 [==============================] - 0s 798us/step - loss: 0.1968 - accuracy: 0.9141 - val_loss: 0.2112 - val_accuracy: 0.9011\n",
      "Epoch 66/100\n",
      "175/175 [==============================] - 0s 946us/step - loss: 0.1967 - accuracy: 0.9138 - val_loss: 0.2110 - val_accuracy: 0.9033\n",
      "Epoch 67/100\n",
      "175/175 [==============================] - 0s 759us/step - loss: 0.1963 - accuracy: 0.9127 - val_loss: 0.2107 - val_accuracy: 0.9033\n",
      "Epoch 68/100\n",
      "175/175 [==============================] - 0s 754us/step - loss: 0.1961 - accuracy: 0.9131 - val_loss: 0.2109 - val_accuracy: 0.9033\n",
      "Epoch 69/100\n",
      "175/175 [==============================] - 0s 784us/step - loss: 0.1961 - accuracy: 0.9136 - val_loss: 0.2106 - val_accuracy: 0.9040\n",
      "Epoch 70/100\n",
      "175/175 [==============================] - 0s 781us/step - loss: 0.1957 - accuracy: 0.9138 - val_loss: 0.2101 - val_accuracy: 0.9033\n",
      "Epoch 71/100\n",
      "175/175 [==============================] - 0s 768us/step - loss: 0.1957 - accuracy: 0.9133 - val_loss: 0.2103 - val_accuracy: 0.9051\n",
      "Epoch 72/100\n",
      "175/175 [==============================] - 0s 785us/step - loss: 0.1955 - accuracy: 0.9145 - val_loss: 0.2098 - val_accuracy: 0.9054\n",
      "Epoch 73/100\n",
      "175/175 [==============================] - 0s 779us/step - loss: 0.1953 - accuracy: 0.9143 - val_loss: 0.2098 - val_accuracy: 0.9040\n",
      "Epoch 74/100\n",
      "175/175 [==============================] - 0s 798us/step - loss: 0.1950 - accuracy: 0.9143 - val_loss: 0.2092 - val_accuracy: 0.9065\n",
      "Epoch 75/100\n",
      "175/175 [==============================] - 0s 750us/step - loss: 0.1949 - accuracy: 0.9148 - val_loss: 0.2091 - val_accuracy: 0.9054\n",
      "Epoch 76/100\n",
      "175/175 [==============================] - 0s 762us/step - loss: 0.1948 - accuracy: 0.9145 - val_loss: 0.2093 - val_accuracy: 0.9051\n",
      "Epoch 77/100\n",
      "175/175 [==============================] - 0s 763us/step - loss: 0.1946 - accuracy: 0.9144 - val_loss: 0.2091 - val_accuracy: 0.9068\n",
      "Epoch 78/100\n",
      "175/175 [==============================] - 0s 762us/step - loss: 0.1943 - accuracy: 0.9151 - val_loss: 0.2088 - val_accuracy: 0.9047\n",
      "Epoch 79/100\n",
      "175/175 [==============================] - 0s 795us/step - loss: 0.1942 - accuracy: 0.9152 - val_loss: 0.2082 - val_accuracy: 0.9068\n",
      "Epoch 80/100\n",
      "175/175 [==============================] - 0s 776us/step - loss: 0.1938 - accuracy: 0.9159 - val_loss: 0.2087 - val_accuracy: 0.9072\n",
      "Epoch 81/100\n",
      "175/175 [==============================] - 0s 774us/step - loss: 0.1938 - accuracy: 0.9152 - val_loss: 0.2082 - val_accuracy: 0.9072\n",
      "Epoch 82/100\n",
      "175/175 [==============================] - 0s 766us/step - loss: 0.1935 - accuracy: 0.9156 - val_loss: 0.2079 - val_accuracy: 0.9065\n",
      "Epoch 83/100\n",
      "175/175 [==============================] - 0s 759us/step - loss: 0.1932 - accuracy: 0.9162 - val_loss: 0.2079 - val_accuracy: 0.9043\n",
      "Epoch 84/100\n",
      "175/175 [==============================] - 0s 784us/step - loss: 0.1930 - accuracy: 0.9157 - val_loss: 0.2068 - val_accuracy: 0.9086\n",
      "Epoch 85/100\n",
      "175/175 [==============================] - 0s 801us/step - loss: 0.1931 - accuracy: 0.9159 - val_loss: 0.2067 - val_accuracy: 0.9079\n",
      "Epoch 86/100\n",
      "175/175 [==============================] - 0s 773us/step - loss: 0.1927 - accuracy: 0.9165 - val_loss: 0.2075 - val_accuracy: 0.9072\n",
      "Epoch 87/100\n",
      "175/175 [==============================] - 0s 769us/step - loss: 0.1925 - accuracy: 0.9167 - val_loss: 0.2064 - val_accuracy: 0.9076\n",
      "Epoch 88/100\n",
      "175/175 [==============================] - 0s 763us/step - loss: 0.1925 - accuracy: 0.9166 - val_loss: 0.2062 - val_accuracy: 0.9076\n",
      "Epoch 89/100\n",
      "175/175 [==============================] - 0s 819us/step - loss: 0.1921 - accuracy: 0.9169 - val_loss: 0.2060 - val_accuracy: 0.9076\n",
      "Epoch 90/100\n",
      "175/175 [==============================] - 0s 760us/step - loss: 0.1921 - accuracy: 0.9165 - val_loss: 0.2064 - val_accuracy: 0.9079\n",
      "Epoch 91/100\n",
      "175/175 [==============================] - 0s 782us/step - loss: 0.1918 - accuracy: 0.9167 - val_loss: 0.2060 - val_accuracy: 0.9068\n",
      "Epoch 92/100\n",
      "175/175 [==============================] - 0s 776us/step - loss: 0.1917 - accuracy: 0.9165 - val_loss: 0.2056 - val_accuracy: 0.9072\n",
      "Epoch 93/100\n",
      "175/175 [==============================] - 0s 771us/step - loss: 0.1916 - accuracy: 0.9178 - val_loss: 0.2051 - val_accuracy: 0.9076\n",
      "Epoch 94/100\n",
      "175/175 [==============================] - 0s 834us/step - loss: 0.1913 - accuracy: 0.9181 - val_loss: 0.2053 - val_accuracy: 0.9072\n",
      "Epoch 95/100\n",
      "175/175 [==============================] - 0s 773us/step - loss: 0.1912 - accuracy: 0.9176 - val_loss: 0.2049 - val_accuracy: 0.9083\n",
      "Epoch 96/100\n",
      "175/175 [==============================] - 0s 775us/step - loss: 0.1910 - accuracy: 0.9187 - val_loss: 0.2058 - val_accuracy: 0.9076\n",
      "Epoch 97/100\n",
      "175/175 [==============================] - 0s 767us/step - loss: 0.1908 - accuracy: 0.9182 - val_loss: 0.2047 - val_accuracy: 0.9083\n",
      "Epoch 98/100\n",
      "175/175 [==============================] - 0s 784us/step - loss: 0.1904 - accuracy: 0.9183 - val_loss: 0.2041 - val_accuracy: 0.9076\n",
      "Epoch 99/100\n",
      "175/175 [==============================] - 0s 793us/step - loss: 0.1904 - accuracy: 0.9181 - val_loss: 0.2039 - val_accuracy: 0.9086\n",
      "Epoch 100/100\n",
      "175/175 [==============================] - 0s 771us/step - loss: 0.1900 - accuracy: 0.9183 - val_loss: 0.2044 - val_accuracy: 0.9097\n"
     ]
    }
   ],
   "source": [
    "model.compile(optimizer='adam', loss='binary_crossentropy', metrics=['accuracy'])\n",
    "\n",
    "history = model.fit(x_train, y_train, epochs=100, batch_size=64, validation_data=(x_val, y_val))"
   ]
  },
  {
   "cell_type": "code",
   "execution_count": 209,
   "metadata": {},
   "outputs": [
    {
     "name": "stdout",
     "output_type": "stream",
     "text": [
      "110/110 [==============================] - 0s 650us/step - loss: 0.1983 - accuracy: 0.9083\n"
     ]
    },
    {
     "data": {
      "text/plain": [
       "[0.19825375080108643, 0.9082831740379333]"
      ]
     },
     "execution_count": 209,
     "metadata": {},
     "output_type": "execute_result"
    }
   ],
   "source": [
    "model.evaluate(x_test, y_test)"
   ]
  },
  {
   "cell_type": "markdown",
   "metadata": {},
   "source": [
    "**Model evaluation**"
   ]
  },
  {
   "cell_type": "code",
   "execution_count": 210,
   "metadata": {},
   "outputs": [
    {
     "data": {
      "text/plain": [
       "(0.0, 1.0)"
      ]
     },
     "execution_count": 210,
     "metadata": {},
     "output_type": "execute_result"
    },
    {
     "data": {
      "image/png": "[encoded data removed]",
      "text/plain": [
       "<Figure size 1800x360 with 1 Axes>"
      ]
     },
     "metadata": {
      "needs_background": "light"
     },
     "output_type": "display_data"
    }
   ],
   "source": [
    "pd.DataFrame(history.history).plot(figsize=(25,5))\n",
    "plt.grid(True)\n",
    "plt.gca().set_ylim(0,1)"
   ]
  },
  {
   "cell_type": "code",
   "execution_count": 211,
   "metadata": {},
   "outputs": [
    {
     "data": {
      "text/plain": [
       "<AxesSubplot:>"
      ]
     },
     "execution_count": 211,
     "metadata": {},
     "output_type": "execute_result"
    },
    {
     "data": {
      "image/png": "[encoded data removed]",
      "text/plain": [
       "<Figure size 432x288 with 2 Axes>"
      ]
     },
     "metadata": {
      "needs_background": "light"
     },
     "output_type": "display_data"
    }
   ],
   "source": [
    "from sklearn.metrics import confusion_matrix\n",
    "\n",
    "y_true = np.array(y_test).reshape([len(y_test), 1])\n",
    "y_pred = [1 if x>.5 else 0 for x in model.predict(x_test)]\n",
    "\n",
    "cm = confusion_matrix(y_true, y_pred)\n",
    "\n",
    "sns.heatmap(cm/np.sum(cm), annot=True)"
   ]
  }
 ],
 "metadata": {
  "interpreter": {
   "hash": "21a57429ec3e8645e55c73f48c0602291fe7ef492787aa20454f455a0eaec7b8"
  },
  "kernelspec": {
   "display_name": "Python 3.9.7 64-bit",
   "language": "python",
   "name": "python3"
  },
  "language_info": {
   "codemirror_mode": {
    "name": "ipython",
    "version": 3
   },
   "file_extension": ".py",
   "mimetype": "text/x-python",
   "name": "python",
   "nbconvert_exporter": "python",
   "pygments_lexer": "ipython3",
   "version": "3.9.7"
  },
  "orig_nbformat": 4
 },
 "nbformat": 4,
 "nbformat_minor": 2
}
